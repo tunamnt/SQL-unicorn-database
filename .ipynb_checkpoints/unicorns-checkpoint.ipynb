{
 "cells": [
  {
   "cell_type": "markdown",
   "id": "12e5c2a9",
   "metadata": {},
   "source": [
    "![Hand with calculator](calculator.png \"Calculator\")"
   ]
  },
  {
   "cell_type": "raw",
   "id": "a51aa350",
   "metadata": {},
   "source": [
    "Did you know that the average return from investing in stocks is 10% per year! But who wants to be average?! \n",
    "\n",
    "You have been asked to support an investment firm by analyzing trends in high-growth companies. They are interested in understanding which industries are producing the highest valuations and the rate at which new high-value companies are emerging. Providing them with this information gives them a competitive insight as to industry trends and how they should structure their portfolio looking forward.\n",
    "\n",
    "You have been given access to their `unicorns` database, which contains the following tables:\n",
    "\n",
    "`dates`\n",
    "| Column       | Description                                  |\n",
    "|------------- |--------------------------------------------- |\n",
    "| company_id   | A unique ID for the company.                 |\n",
    "| date_joined  | The date that the company became a unicorn.  |\n",
    "| year_founded | The year that the company was founded.       |\n",
    "\n",
    "`funding`\n",
    "| Column           | Description                                  |\n",
    "|----------------- |--------------------------------------------- |\n",
    "| company_id       | A unique ID for the company.                 |\n",
    "| valuation        | Company value in US dollars.                 |\n",
    "| funding          | The amount of funding raised in US dollars.  |\n",
    "| select_investors | A list of key investors in the company.      |\n",
    "\n",
    "`industries`\n",
    "| Column       | Description                                  |\n",
    "|------------- |--------------------------------------------- |\n",
    "| company_id   | A unique ID for the company.                 |\n",
    "| industry     | The industry that the company operates in.   |\n",
    "\n",
    "`companies`\n",
    "| Column       | Description                                       |\n",
    "|------------- |-------------------------------------------------- |\n",
    "| company_id   | A unique ID for the company.                      |\n",
    "| company      | The name of the company.                          |\n",
    "| city         | The city where the company is headquartered.      |\n",
    "| country      | The country where the company is headquartered.   |\n",
    "| continent    | The continent where the company is headquartered. |\n"
   ]
  },
  {
   "cell_type": "code",
   "execution_count": 41,
   "id": "7bda904b-0b3b-4b1e-9a3d-4c4aa9b3d3d3",
   "metadata": {
    "customType": "sql",
    "dataFrameVariableName": "df",
    "executionTime": 2069,
    "initial": false,
    "integrationId": "89e17161-a224-4a8a-846b-0adc0fe7a4b1",
    "lastSuccessfullyExecutedCode": "SELECT * FROM companies"
   },
   "outputs": [
    {
     "data": {
      "application/com.datacamp.data-table.v1+json": {
       "table": {
        "data": [
         {
          "city": "Duderstadt",
          "company": "Otto Bock HealthCare",
          "company_id": 189,
          "continent": "Europe",
          "country": "Germany",
          "index": 0
         },
         {
          "city": "",
          "company": "Matrixport",
          "company_id": 848,
          "continent": "Asia",
          "country": "Singapore",
          "index": 1
         },
         {
          "city": "Santa Clara",
          "company": "Cloudinary",
          "company_id": 556,
          "continent": "North America",
          "country": "United States",
          "index": 2
         },
         {
          "city": "Bellingham",
          "company": "PLACE",
          "company_id": 999,
          "continent": "North America",
          "country": "United States",
          "index": 3
         },
         {
          "city": "New York",
          "company": "candy.com",
          "company_id": 396,
          "continent": "North America",
          "country": "United States",
          "index": 4
         },
         {
          "city": "Shanghai",
          "company": "HAYDON",
          "company_id": 931,
          "continent": "Asia",
          "country": "China",
          "index": 5
         },
         {
          "city": "Shanghai",
          "company": "eDaili",
          "company_id": 364,
          "continent": "Asia",
          "country": "China",
          "index": 6
         },
         {
          "city": "San Francisco",
          "company": "CoinTracker",
          "company_id": 732,
          "continent": "North America",
          "country": "United States",
          "index": 7
         },
         {
          "city": "Shenzhen",
          "company": "EcoFlow",
          "company_id": 906,
          "continent": "Asia",
          "country": "China",
          "index": 8
         },
         {
          "city": "Shenzhen",
          "company": "DJI Innovations",
          "company_id": 72,
          "continent": "Asia",
          "country": "China",
          "index": 9
         },
         {
          "city": "Zurich",
          "company": "Numbrs",
          "company_id": 983,
          "continent": "Europe",
          "country": "Switzerland",
          "index": 10
         },
         {
          "city": "Hyderabad",
          "company": "Darwinbox",
          "company_id": 898,
          "continent": "Asia",
          "country": "India",
          "index": 11
         },
         {
          "city": "San Francisco",
          "company": "MobileCoin",
          "company_id": 844,
          "continent": "North America",
          "country": "United States",
          "index": 12
         },
         {
          "city": "Mexico City",
          "company": "Clara",
          "company_id": 894,
          "continent": "North America",
          "country": "Mexico",
          "index": 13
         },
         {
          "city": "Maharashtra",
          "company": "CoinDCX",
          "company_id": 813,
          "continent": "Asia",
          "country": "India",
          "index": 14
         },
         {
          "city": "Shanghai",
          "company": "Manner",
          "company_id": 743,
          "continent": "Asia",
          "country": "China",
          "index": 15
         },
         {
          "city": "San Francisco",
          "company": "Clubhouse",
          "company_id": 226,
          "continent": "North America",
          "country": "United States",
          "index": 16
         },
         {
          "city": "New York",
          "company": "Masterworks",
          "company_id": 963,
          "continent": "North America",
          "country": "United States",
          "index": 17
         },
         {
          "city": "Denver",
          "company": "AgentSync",
          "company_id": 764,
          "continent": "North America",
          "country": "United States",
          "index": 18
         },
         {
          "city": "Gurgaon",
          "company": "Mamaearth",
          "company_id": 839,
          "continent": "Asia",
          "country": "India",
          "index": 19
         },
         {
          "city": "San Jose",
          "company": "Splashtop",
          "company_id": 1033,
          "continent": "North America",
          "country": "United States",
          "index": 20
         },
         {
          "city": "New York",
          "company": "Athletic Greens",
          "company_id": 725,
          "continent": "North America",
          "country": "United States",
          "index": 21
         },
         {
          "city": "Shanghai",
          "company": "Black Sesame Technologies",
          "company_id": 549,
          "continent": "Asia",
          "country": "China",
          "index": 22
         },
         {
          "city": "Beijing",
          "company": "Apus Group",
          "company_id": 667,
          "continent": "Asia",
          "country": "China",
          "index": 23
         },
         {
          "city": "London",
          "company": "Marshmallow",
          "company_id": 755,
          "continent": "Europe",
          "country": "United Kingdom",
          "index": 24
         },
         {
          "city": "San Francisco",
          "company": "Phantom",
          "company_id": 782,
          "continent": "North America",
          "country": "United States",
          "index": 25
         },
         {
          "city": "San Francisco",
          "company": "Kraken",
          "company_id": 175,
          "continent": "North America",
          "country": "United States",
          "index": 26
         },
         {
          "city": "San Francisco",
          "company": "CoinList",
          "company_id": 398,
          "continent": "North America",
          "country": "United States",
          "index": 27
         },
         {
          "city": "New York",
          "company": "Daily Harvest",
          "company_id": 814,
          "continent": "North America",
          "country": "United States",
          "index": 28
         },
         {
          "city": "Hamilton",
          "company": "Afiniti",
          "company_id": 436,
          "continent": "North America",
          "country": "Bermuda",
          "index": 29
         },
         {
          "city": "London",
          "company": "Tractable",
          "company_id": 1046,
          "continent": "Europe",
          "country": "United Kingdom",
          "index": 30
         },
         {
          "city": "San Francisco",
          "company": "Hive",
          "company_id": 565,
          "continent": "North America",
          "country": "United States",
          "index": 31
         },
         {
          "city": "Princeton",
          "company": "Offchain Labs",
          "company_id": 781,
          "continent": "North America",
          "country": "United States",
          "index": 32
         },
         {
          "city": "Alexandria",
          "company": "Pet Circle",
          "company_id": 997,
          "continent": "Oceania",
          "country": "Australia",
          "index": 33
         },
         {
          "city": "Chicago",
          "company": "Relativity",
          "company_id": 194,
          "continent": "North America",
          "country": "United States",
          "index": 34
         },
         {
          "city": "San Francisco",
          "company": "Worldcoin",
          "company_id": 249,
          "continent": "North America",
          "country": "United States",
          "index": 35
         },
         {
          "city": "Changzhou",
          "company": "Star Charge",
          "company_id": 434,
          "continent": "Asia",
          "country": "China",
          "index": 36
         },
         {
          "city": "San Francisco",
          "company": "Stytch",
          "company_id": 1035,
          "continent": "North America",
          "country": "United States",
          "index": 37
         },
         {
          "city": "Palo Alto",
          "company": "Minio",
          "company_id": 969,
          "continent": "North America",
          "country": "United States",
          "index": 38
         },
         {
          "city": "San Francisco",
          "company": "Sentry",
          "company_id": 1018,
          "continent": "North America",
          "country": "United States",
          "index": 39
         },
         {
          "city": "Zephyr Cove",
          "company": "1047 Games",
          "company_id": 355,
          "continent": "North America",
          "country": "United States",
          "index": 40
         },
         {
          "city": "Amsterdam",
          "company": "Hotmart",
          "company_id": 934,
          "continent": "Europe",
          "country": "Netherlands",
          "index": 41
         },
         {
          "city": "New York",
          "company": "Vise",
          "company_id": 1054,
          "continent": "North America",
          "country": "United States",
          "index": 42
         },
         {
          "city": "San Diego",
          "company": "Drata",
          "company_id": 901,
          "continent": "North America",
          "country": "United States",
          "index": 43
         },
         {
          "city": "Palo Alto",
          "company": "Turing",
          "company_id": 173,
          "continent": "North America",
          "country": "United States",
          "index": 44
         },
         {
          "city": "Long Beach",
          "company": "iTrustCapital",
          "company_id": 738,
          "continent": "North America",
          "country": "United States",
          "index": 45
         },
         {
          "city": "Bellevue",
          "company": "Temporal",
          "company_id": 422,
          "continent": "North America",
          "country": "United States",
          "index": 46
         },
         {
          "city": "New York",
          "company": "Rightway",
          "company_id": 830,
          "continent": "North America",
          "country": "United States",
          "index": 47
         },
         {
          "city": "Charlotte",
          "company": "Printful",
          "company_id": 1004,
          "continent": "North America",
          "country": "United States",
          "index": 48
         },
         {
          "city": "Shenzhen",
          "company": "Lamabang",
          "company_id": 951,
          "continent": "Asia",
          "country": "China",
          "index": 49
         },
         {
          "city": "Berkeley",
          "company": "Domestika",
          "company_id": 734,
          "continent": "North America",
          "country": "United States",
          "index": 50
         },
         {
          "city": "New York",
          "company": "Wrapbook",
          "company_id": 1063,
          "continent": "North America",
          "country": "United States",
          "index": 51
         },
         {
          "city": "Beijing",
          "company": "JimuBox",
          "company_id": 623,
          "continent": "Asia",
          "country": "China",
          "index": 52
         },
         {
          "city": "San Francisco",
          "company": "Instabase",
          "company_id": 846,
          "continent": "North America",
          "country": "United States",
          "index": 53
         },
         {
          "city": "Redwood City",
          "company": "Ivalua",
          "company_id": 823,
          "continent": "North America",
          "country": "United States",
          "index": 54
         },
         {
          "city": "Arlington",
          "company": "Interos",
          "company_id": 944,
          "continent": "North America",
          "country": "United States",
          "index": 55
         },
         {
          "city": "Palo Alto",
          "company": "Snorkel AI",
          "company_id": 1030,
          "continent": "North America",
          "country": "United States",
          "index": 56
         },
         {
          "city": "Wuhan",
          "company": "Juanpi",
          "company_id": 824,
          "continent": "Asia",
          "country": "China",
          "index": 57
         },
         {
          "city": "Bengaluru",
          "company": "Hasura",
          "company_id": 930,
          "continent": "Asia",
          "country": "India",
          "index": 58
         },
         {
          "city": "Beijing",
          "company": "Jusfoun Big Data",
          "company_id": 370,
          "continent": "Asia",
          "country": "China",
          "index": 59
         },
         {
          "city": "Nanjing",
          "company": "Hosjoy",
          "company_id": 618,
          "continent": "Asia",
          "country": "China",
          "index": 60
         },
         {
          "city": "San Mateo",
          "company": "Verkada",
          "company_id": 456,
          "continent": "North America",
          "country": "United States",
          "index": 61
         },
         {
          "city": "",
          "company": "Cider",
          "company_id": 893,
          "continent": "Asia",
          "country": "Hong Kong",
          "index": 62
         },
         {
          "city": "New York",
          "company": "Chief",
          "company_id": 812,
          "continent": "North America",
          "country": "United States",
          "index": 63
         },
         {
          "city": "Tokyo",
          "company": "Playco",
          "company_id": 1001,
          "continent": "Asia",
          "country": "Japan",
          "index": 64
         },
         {
          "city": "San Francisco",
          "company": "Panther Labs",
          "company_id": 703,
          "continent": "North America",
          "country": "United States",
          "index": 65
         },
         {
          "city": "New York",
          "company": "Cadence",
          "company_id": 884,
          "continent": "North America",
          "country": "United States",
          "index": 66
         },
         {
          "city": "McLean",
          "company": "ID.me",
          "company_id": 404,
          "continent": "North America",
          "country": "United States",
          "index": 67
         },
         {
          "city": "New York",
          "company": "LayerZero Labs",
          "company_id": 952,
          "continent": "North America",
          "country": "United States",
          "index": 68
         },
         {
          "city": "New York",
          "company": "Justworks",
          "company_id": 625,
          "continent": "North America",
          "country": "United States",
          "index": 69
         },
         {
          "city": "Beijing",
          "company": "Moka",
          "company_id": 971,
          "continent": "Asia",
          "country": "China",
          "index": 70
         },
         {
          "city": "Beijing",
          "company": "Luoji Siwei",
          "company_id": 796,
          "continent": "Asia",
          "country": "China",
          "index": 71
         },
         {
          "city": "New York",
          "company": "Esusu",
          "company_id": 909,
          "continent": "North America",
          "country": "United States",
          "index": 72
         },
         {
          "city": "Tokyo",
          "company": "Preferred Networks",
          "company_id": 587,
          "continent": "Asia",
          "country": "Japan",
          "index": 73
         },
         {
          "city": "Oulu",
          "company": "Oura",
          "company_id": 273,
          "continent": "Europe",
          "country": "Finland",
          "index": 74
         },
         {
          "city": "San Francisco",
          "company": "Gem",
          "company_id": 771,
          "continent": "North America",
          "country": "United States",
          "index": 75
         },
         {
          "city": "Boise",
          "company": "Tackle.io",
          "company_id": 758,
          "continent": "North America",
          "country": "United States",
          "index": 76
         },
         {
          "city": "Shenzhen",
          "company": "Xiaoe Tech",
          "company_id": 652,
          "continent": "Asia",
          "country": "China",
          "index": 77
         },
         {
          "city": "San Francisco",
          "company": "JUUL Labs",
          "company_id": 8,
          "continent": "North America",
          "country": "United States",
          "index": 78
         },
         {
          "city": "Beijing",
          "company": "GalaxySpace",
          "company_id": 760,
          "continent": "Asia",
          "country": "China",
          "index": 79
         },
         {
          "city": "Mountain View",
          "company": "Athelas",
          "company_id": 394,
          "continent": "North America",
          "country": "United States",
          "index": 80
         },
         {
          "city": "Bangkok",
          "company": "Ascend Money",
          "company_id": 393,
          "continent": "Asia",
          "country": "Thailand",
          "index": 81
         },
         {
          "city": "Houston",
          "company": "Axiom Space",
          "company_id": 870,
          "continent": "North America",
          "country": "United States",
          "index": 82
         },
         {
          "city": "Washington DC",
          "company": "Rebellion Defense",
          "company_id": 804,
          "continent": "North America",
          "country": "United States",
          "index": 83
         },
         {
          "city": "Shanghai",
          "company": "Tezign",
          "company_id": 1041,
          "continent": "Asia",
          "country": "China",
          "index": 84
         },
         {
          "city": "San Francisco",
          "company": "Cresta",
          "company_id": 443,
          "continent": "North America",
          "country": "United States",
          "index": 85
         },
         {
          "city": "Mountain View",
          "company": "News Break",
          "company_id": 978,
          "continent": "North America",
          "country": "United States",
          "index": 86
         },
         {
          "city": "Stockholm",
          "company": "Einride",
          "company_id": 612,
          "continent": "Europe",
          "country": "Sweden",
          "index": 87
         },
         {
          "city": "Beijing",
          "company": "Yidian Zixun",
          "company_id": 714,
          "continent": "Asia",
          "country": "China",
          "index": 88
         },
         {
          "city": "New York",
          "company": "Glia",
          "company_id": 925,
          "continent": "North America",
          "country": "United States",
          "index": 89
         },
         {
          "city": "San Francisco",
          "company": "Strava",
          "company_id": 421,
          "continent": "North America",
          "country": "United States",
          "index": 90
         },
         {
          "city": "San Francisco",
          "company": "Mercury",
          "company_id": 449,
          "continent": "North America",
          "country": "United States",
          "index": 91
         },
         {
          "city": "San Francisco",
          "company": "Shippo",
          "company_id": 1022,
          "continent": "North America",
          "country": "United States",
          "index": 92
         },
         {
          "city": "Shenzhen",
          "company": "Dadi Cinema",
          "company_id": 240,
          "continent": "Asia",
          "country": "China",
          "index": 93
         },
         {
          "city": "Beijing",
          "company": "UISEE Technology",
          "company_id": 644,
          "continent": "Asia",
          "country": "China",
          "index": 94
         },
         {
          "city": "New York",
          "company": "Alloy",
          "company_id": 718,
          "continent": "North America",
          "country": "United States",
          "index": 95
         },
         {
          "city": "Toronto",
          "company": "Freshbooks",
          "company_id": 920,
          "continent": "North America",
          "country": "Canada",
          "index": 96
         },
         {
          "city": "New York",
          "company": "TrialSpark",
          "company_id": 1048,
          "continent": "North America",
          "country": "United States",
          "index": 97
         },
         {
          "city": "San Francisco",
          "company": "Sift",
          "company_id": 1024,
          "continent": "North America",
          "country": "United States",
          "index": 98
         },
         {
          "city": "Beijing",
          "company": "Haomao.AI",
          "company_id": 929,
          "continent": "Asia",
          "country": "China",
          "index": 99
         },
         {
          "city": "Dublin",
          "company": "Flipdish",
          "company_id": 751,
          "continent": "Europe",
          "country": "Ireland",
          "index": 100
         },
         {
          "city": "Manila",
          "company": "Revolution Precrafted",
          "company_id": 1012,
          "continent": "Asia",
          "country": "Philippines",
          "index": 101
         },
         {
          "city": "Berkeley",
          "company": "Anyscale",
          "company_id": 863,
          "continent": "North America",
          "country": "United States",
          "index": 102
         },
         {
          "city": "San Francisco",
          "company": "Qualia",
          "company_id": 662,
          "continent": "North America",
          "country": "United States",
          "index": 103
         },
         {
          "city": "New York",
          "company": "SmartAsset",
          "company_id": 1027,
          "continent": "North America",
          "country": "United States",
          "index": 104
         },
         {
          "city": "Berlin",
          "company": "Gorillas",
          "company_id": 317,
          "continent": "Europe",
          "country": "Germany",
          "index": 105
         },
         {
          "city": "San Francisco",
          "company": "Pilot.com",
          "company_id": 783,
          "continent": "North America",
          "country": "United States",
          "index": 106
         },
         {
          "city": "Netanya",
          "company": "StarkWare",
          "company_id": 592,
          "continent": "Asia",
          "country": "Israel",
          "index": 107
         },
         {
          "city": "El Segundo",
          "company": "Sidecar Health",
          "company_id": 1023,
          "continent": "North America",
          "country": "United States",
          "index": 108
         },
         {
          "city": "Dublin",
          "company": "Vagaro",
          "company_id": 1051,
          "continent": "North America",
          "country": "United States",
          "index": 109
         },
         {
          "city": "Ambler",
          "company": "Phenom People",
          "company_id": 633,
          "continent": "North America",
          "country": "United States",
          "index": 110
         },
         {
          "city": "Shanghai",
          "company": "Qingting FM",
          "company_id": 635,
          "continent": "Asia",
          "country": "China",
          "index": 111
         },
         {
          "city": "San Francisco",
          "company": "CaptivateIQ",
          "company_id": 750,
          "continent": "North America",
          "country": "United States",
          "index": 112
         },
         {
          "city": "Toronto",
          "company": "Figment",
          "company_id": 697,
          "continent": "North America",
          "country": "Canada",
          "index": 113
         },
         {
          "city": "Chicago",
          "company": "Cameo",
          "company_id": 886,
          "continent": "North America",
          "country": "United States",
          "index": 114
         },
         {
          "city": "Andheri",
          "company": "LEAD School",
          "company_id": 826,
          "continent": "Asia",
          "country": "India",
          "index": 115
         },
         {
          "city": "Los Altos",
          "company": "Placer.ai",
          "company_id": 1000,
          "continent": "North America",
          "country": "United States",
          "index": 116
         },
         {
          "city": "Melbourne",
          "company": "LinkTree",
          "company_id": 740,
          "continent": "Oceania",
          "country": "Australia",
          "index": 117
         },
         {
          "city": "San Francisco",
          "company": "Modern Health",
          "company_id": 798,
          "continent": "North America",
          "country": "United States",
          "index": 118
         },
         {
          "city": "Berlin",
          "company": "Razor",
          "company_id": 1008,
          "continent": "Europe",
          "country": "Germany",
          "index": 119
         },
         {
          "city": "Istanbul",
          "company": "Insider",
          "company_id": 761,
          "continent": "Europe",
          "country": "Turkey",
          "index": 120
         },
         {
          "city": "San Francisco",
          "company": "Kong",
          "company_id": 701,
          "continent": "North America",
          "country": "United States",
          "index": 121
         },
         {
          "city": "Seattle",
          "company": "Karat",
          "company_id": 825,
          "continent": "North America",
          "country": "United States",
          "index": 122
         },
         {
          "city": "South Jordan",
          "company": "Lucid",
          "company_id": 344,
          "continent": "North America",
          "country": "United States",
          "index": 123
         },
         {
          "city": "San Francisco",
          "company": "Envoy",
          "company_id": 695,
          "continent": "North America",
          "country": "United States",
          "index": 124
         },
         {
          "city": "Amsterdam",
          "company": "BitFury",
          "company_id": 876,
          "continent": "Europe",
          "country": "Netherlands",
          "index": 125
         },
         {
          "city": "Guangzhou",
          "company": "TUNGEE",
          "company_id": 643,
          "continent": "Asia",
          "country": "China",
          "index": 126
         },
         {
          "city": "Atlanta",
          "company": "FullStory",
          "company_id": 509,
          "continent": "North America",
          "country": "United States",
          "index": 127
         },
         {
          "city": "New York",
          "company": "Newsela",
          "company_id": 979,
          "continent": "North America",
          "country": "United States",
          "index": 128
         },
         {
          "city": "Cambridge",
          "company": "Solo.io",
          "company_id": 1031,
          "continent": "North America",
          "country": "United States",
          "index": 129
         },
         {
          "city": "Cedar Park",
          "company": "Firefly Aerospace",
          "company_id": 817,
          "continent": "North America",
          "country": "United States",
          "index": 130
         },
         {
          "city": "Shenzhen",
          "company": "Intellifusion",
          "company_id": 943,
          "continent": "Asia",
          "country": "China",
          "index": 131
         },
         {
          "city": "San Francisco",
          "company": "Mux",
          "company_id": 975,
          "continent": "North America",
          "country": "United States",
          "index": 132
         },
         {
          "city": "Salt Lake City",
          "company": "Venafi",
          "company_id": 647,
          "continent": "North America",
          "country": "United States",
          "index": 133
         },
         {
          "city": "Tallinn",
          "company": "Veriff",
          "company_id": 426,
          "continent": "Europe",
          "country": "Estonia",
          "index": 134
         },
         {
          "city": "Gurugram",
          "company": "Pristyn Care",
          "company_id": 705,
          "continent": "Asia",
          "country": "India",
          "index": 135
         },
         {
          "city": "Seoul",
          "company": "RIDI",
          "company_id": 724,
          "continent": "Asia",
          "country": "South Korea",
          "index": 136
         },
         {
          "city": "San Francisco",
          "company": "Optimism",
          "company_id": 464,
          "continent": "North America",
          "country": "United States",
          "index": 137
         },
         {
          "city": "New York",
          "company": "Injective Protocol",
          "company_id": 942,
          "continent": "North America",
          "country": "United States",
          "index": 138
         },
         {
          "city": "Sao Paulo",
          "company": "Wildlife Studios",
          "company_id": 354,
          "continent": "South America",
          "country": "Brazil",
          "index": 139
         },
         {
          "city": "New York",
          "company": "Away",
          "company_id": 688,
          "continent": "North America",
          "country": "United States",
          "index": 140
         },
         {
          "city": "New York",
          "company": "Timescale",
          "company_id": 1045,
          "continent": "North America",
          "country": "United States",
          "index": 141
         },
         {
          "city": "San Francisco",
          "company": "Airbyte",
          "company_id": 391,
          "continent": "North America",
          "country": "United States",
          "index": 142
         },
         {
          "city": "New York",
          "company": "CHEQ",
          "company_id": 891,
          "continent": "North America",
          "country": "United States",
          "index": 143
         },
         {
          "city": "Shenzhen",
          "company": "YH Global",
          "company_id": 1066,
          "continent": "Asia",
          "country": "China",
          "index": 144
         },
         {
          "city": "San Francisco",
          "company": "Modern Treasury",
          "company_id": 579,
          "continent": "North America",
          "country": "United States",
          "index": 145
         },
         {
          "city": "Denver",
          "company": "SonderMind",
          "company_id": 686,
          "continent": "North America",
          "country": "United States",
          "index": 146
         },
         {
          "city": "New Delhi",
          "company": "GlobalBees",
          "company_id": 822,
          "continent": "Asia",
          "country": "India",
          "index": 147
         },
         {
          "city": "Tel Aviv",
          "company": "Bringg",
          "company_id": 882,
          "continent": "Asia",
          "country": "Israel",
          "index": 148
         },
         {
          "city": "Waterloo",
          "company": "eSentire",
          "company_id": 816,
          "continent": "North America",
          "country": "Canada",
          "index": 149
         },
         {
          "city": "Shanghai",
          "company": "Iluvatar CoreX",
          "company_id": 369,
          "continent": "Asia",
          "country": "China",
          "index": 150
         },
         {
          "city": "San Francisco",
          "company": "Inxeption",
          "company_id": 340,
          "continent": "North America",
          "country": "United States",
          "index": 151
         },
         {
          "city": "New York",
          "company": "VTS",
          "company_id": 1058,
          "continent": "North America",
          "country": "United States",
          "index": 152
         },
         {
          "city": "London",
          "company": "Howden Group Holdings",
          "company_id": 129,
          "continent": "Europe",
          "country": "United Kingdom",
          "index": 153
         },
         {
          "city": "Seattle",
          "company": "Amperity",
          "company_id": 862,
          "continent": "North America",
          "country": "United States",
          "index": 154
         },
         {
          "city": "Shanghai",
          "company": "Changingedu",
          "company_id": 363,
          "continent": "Asia",
          "country": "China",
          "index": 155
         },
         {
          "city": "Shanghai",
          "company": "56PINGTAI",
          "company_id": 603,
          "continent": "Asia",
          "country": "China",
          "index": 156
         },
         {
          "city": "Hangzhou",
          "company": "Valgen Medtech",
          "company_id": 645,
          "continent": "Asia",
          "country": "China",
          "index": 157
         },
         {
          "city": "New York",
          "company": "DailyPay",
          "company_id": 769,
          "continent": "North America",
          "country": "United States",
          "index": 158
         },
         {
          "city": "Bellevue",
          "company": "SeekOut",
          "company_id": 788,
          "continent": "North America",
          "country": "United States",
          "index": 159
         },
         {
          "city": "Tokyo",
          "company": "SmartHR",
          "company_id": 452,
          "continent": "Asia",
          "country": "Japan",
          "index": 160
         },
         {
          "city": "Herzliya",
          "company": "StoreDot",
          "company_id": 420,
          "continent": "Asia",
          "country": "Israel",
          "index": 161
         },
         {
          "city": "Petah Tikva",
          "company": "Pentera",
          "company_id": 996,
          "continent": "Asia",
          "country": "Israel",
          "index": 162
         },
         {
          "city": "Toronto",
          "company": "Ada Support",
          "company_id": 763,
          "continent": "North America",
          "country": "Canada",
          "index": 163
         },
         {
          "city": "Tustin",
          "company": "Happy Money",
          "company_id": 803,
          "continent": "North America",
          "country": "United States",
          "index": 164
         },
         {
          "city": "Redwood City",
          "company": "Alation",
          "company_id": 765,
          "continent": "North America",
          "country": "United States",
          "index": 165
         },
         {
          "city": "Menlo Park",
          "company": "Orca Bio",
          "company_id": 989,
          "continent": "North America",
          "country": "United States",
          "index": 166
         },
         {
          "city": "Redwood City",
          "company": "MOLOCO",
          "company_id": 409,
          "continent": "North America",
          "country": "United States",
          "index": 167
         },
         {
          "city": "San Francisco",
          "company": "MURAL",
          "company_id": 580,
          "continent": "North America",
          "country": "United States",
          "index": 168
         },
         {
          "city": "Colchester",
          "company": "Accelerant",
          "company_id": 513,
          "continent": "Europe",
          "country": "United Kingdom",
          "index": 169
         },
         {
          "city": "Bengaluru",
          "company": "apna",
          "company_id": 809,
          "continent": "Asia",
          "country": "India",
          "index": 170
         },
         {
          "city": "Mumbai",
          "company": "UpGrad",
          "company_id": 791,
          "continent": "Asia",
          "country": "India",
          "index": 171
         },
         {
          "city": "San Francisco",
          "company": "PicsArt",
          "company_id": 998,
          "continent": "North America",
          "country": "United States",
          "index": 172
         },
         {
          "city": "New York",
          "company": "Unite Us",
          "company_id": 455,
          "continent": "North America",
          "country": "United States",
          "index": 173
         },
         {
          "city": "San Francisco",
          "company": "Harness",
          "company_id": 477,
          "continent": "North America",
          "country": "United States",
          "index": 174
         },
         {
          "city": "Palo Alto",
          "company": "CommerceIQ",
          "company_id": 896,
          "continent": "North America",
          "country": "United States",
          "index": 175
         },
         {
          "city": "San Francisco",
          "company": "IRL",
          "company_id": 797,
          "continent": "North America",
          "country": "United States",
          "index": 176
         },
         {
          "city": "Boston",
          "company": "CFGI",
          "company_id": 361,
          "continent": "North America",
          "country": "United States",
          "index": 177
         },
         {
          "city": "Shenzhen",
          "company": "Hive Box",
          "company_id": 250,
          "continent": "Asia",
          "country": "China",
          "index": 178
         },
         {
          "city": "Beijing",
          "company": "MEGVII",
          "company_id": 229,
          "continent": "Asia",
          "country": "China",
          "index": 179
         },
         {
          "city": "Beijing",
          "company": "4Paradigm",
          "company_id": 540,
          "continent": "Asia",
          "country": "China",
          "index": 180
         },
         {
          "city": "Santa Clara",
          "company": "Netskope",
          "company_id": 73,
          "continent": "North America",
          "country": "United States",
          "index": 181
         },
         {
          "city": "Hangzhou",
          "company": "Leap Motor",
          "company_id": 852,
          "continent": "Asia",
          "country": "China",
          "index": 182
         },
         {
          "city": "London",
          "company": "Hopin",
          "company_id": 78,
          "continent": "Europe",
          "country": "United Kingdom",
          "index": 183
         },
         {
          "city": "Irving",
          "company": "Caris Life Sciences",
          "company_id": 79,
          "continent": "North America",
          "country": "United States",
          "index": 184
         },
         {
          "city": "Roubaix",
          "company": "OVH",
          "company_id": 632,
          "continent": "Europe",
          "country": "France",
          "index": 185
         },
         {
          "city": "Berlin",
          "company": "Flink Food",
          "company_id": 314,
          "continent": "Europe",
          "country": "Germany",
          "index": 186
         },
         {
          "city": "New York",
          "company": "Fireblocks",
          "company_id": 82,
          "continent": "North America",
          "country": "United States",
          "index": 187
         },
         {
          "city": "Palo Alto",
          "company": "SambaNova Systems",
          "company_id": 164,
          "continent": "North America",
          "country": "United States",
          "index": 188
         },
         {
          "city": "Beijing",
          "company": "Meicai",
          "company_id": 85,
          "continent": "Asia",
          "country": "China",
          "index": 189
         },
         {
          "city": "Inglewood",
          "company": "Relativity Space",
          "company_id": 212,
          "continent": "North America",
          "country": "United States",
          "index": 190
         },
         {
          "city": "Boston",
          "company": "Snyk",
          "company_id": 65,
          "continent": "North America",
          "country": "United States",
          "index": 191
         },
         {
          "city": "Nanjing",
          "company": "BYTON",
          "company_id": 258,
          "continent": "Asia",
          "country": "China",
          "index": 192
         },
         {
          "city": "Fremont",
          "company": "Pony.ai",
          "company_id": 63,
          "continent": "North America",
          "country": "United States",
          "index": 193
         },
         {
          "city": "San Francisco",
          "company": "reddit",
          "company_id": 58,
          "continent": "North America",
          "country": "United States",
          "index": 194
         },
         {
          "city": "San Francisco",
          "company": "Faire",
          "company_id": 31,
          "continent": "North America",
          "country": "United States",
          "index": 195
         },
         {
          "city": "London",
          "company": "OakNorth Bank",
          "company_id": 248,
          "continent": "Europe",
          "country": "United Kingdom",
          "index": 196
         },
         {
          "city": "San Francisco",
          "company": "Airtable",
          "company_id": 32,
          "continent": "North America",
          "country": "United States",
          "index": 197
         },
         {
          "city": "Amsterdam",
          "company": "MessageBird",
          "company_id": 252,
          "continent": "Europe",
          "country": "Netherlands",
          "index": 198
         },
         {
          "city": "San Francisco",
          "company": "Brex",
          "company_id": 33,
          "continent": "North America",
          "country": "United States",
          "index": 199
         },
         {
          "city": "Gurgaon",
          "company": "Cars24",
          "company_id": 287,
          "continent": "Asia",
          "country": "India",
          "index": 200
         },
         {
          "city": "",
          "company": "Trax",
          "company_id": 251,
          "continent": "Asia",
          "country": "Singapore",
          "index": 201
         },
         {
          "city": "San Francisco",
          "company": "OpenAI",
          "company_id": 243,
          "continent": "North America",
          "country": "United States",
          "index": 202
         },
         {
          "city": "Tallinn",
          "company": "Bolt",
          "company_id": 40,
          "continent": "Europe",
          "country": "Estonia",
          "index": 203
         },
         {
          "city": "San Francisco",
          "company": "Bolt",
          "company_id": 44,
          "continent": "North America",
          "country": "United States",
          "index": 204
         },
         {
          "city": "Munich",
          "company": "Celonis",
          "company_id": 45,
          "continent": "Europe",
          "country": "Germany",
          "index": 205
         },
         {
          "city": "Boston",
          "company": "Intarcia Therapeutics",
          "company_id": 211,
          "continent": "North America",
          "country": "United States",
          "index": 206
         },
         {
          "city": "Glendale",
          "company": "ServiceTitan",
          "company_id": 50,
          "continent": "North America",
          "country": "United States",
          "index": 207
         },
         {
          "city": "New York",
          "company": "Digital Currency Group",
          "company_id": 53,
          "continent": "North America",
          "country": "United States",
          "index": 208
         },
         {
          "city": "Shanghai",
          "company": "Youxia Motors",
          "company_id": 285,
          "continent": "Asia",
          "country": "China",
          "index": 209
         },
         {
          "city": "New York",
          "company": "Dataminr",
          "company_id": 217,
          "continent": "North America",
          "country": "United States",
          "index": 210
         },
         {
          "city": "London",
          "company": "Monzo",
          "company_id": 134,
          "continent": "Europe",
          "country": "United Kingdom",
          "index": 211
         },
         {
          "city": "Shanghai",
          "company": "ENOVATE",
          "company_id": 365,
          "continent": "Asia",
          "country": "China",
          "index": 212
         },
         {
          "city": "San Francisco",
          "company": "Carta",
          "company_id": 91,
          "continent": "North America",
          "country": "United States",
          "index": 213
         },
         {
          "city": "Boston",
          "company": "Indigo Ag",
          "company_id": 185,
          "continent": "North America",
          "country": "United States",
          "index": 214
         },
         {
          "city": "Beijing",
          "company": "Lianjia",
          "company_id": 121,
          "continent": "Asia",
          "country": "China",
          "index": 215
         },
         {
          "city": "Munich",
          "company": "FlixBus",
          "company_id": 335,
          "continent": "Europe",
          "country": "Germany",
          "index": 216
         },
         {
          "city": "London",
          "company": "SaltPay",
          "company_id": 1014,
          "continent": "Europe",
          "country": "United Kingdom",
          "index": 217
         },
         {
          "city": "Guangzhou",
          "company": "WeRide",
          "company_id": 191,
          "continent": "Asia",
          "country": "China",
          "index": 218
         },
         {
          "city": "Gurgaon",
          "company": "Delhivery",
          "company_id": 334,
          "continent": "Asia",
          "country": "India",
          "index": 219
         },
         {
          "city": "Brooklyn",
          "company": "Vice Media",
          "company_id": 118,
          "continent": "North America",
          "country": "United States",
          "index": 220
         },
         {
          "city": "Boston",
          "company": "DataRobot",
          "company_id": 115,
          "continent": "North America",
          "country": "United States",
          "index": 221
         },
         {
          "city": "Paris",
          "company": "Back Market",
          "company_id": 113,
          "continent": "Europe",
          "country": "France",
          "index": 222
         },
         {
          "city": "Beijing",
          "company": "Chipone",
          "company_id": 147,
          "continent": "Asia",
          "country": "China",
          "index": 223
         },
         {
          "city": "Beijing",
          "company": "VIPKid",
          "company_id": 136,
          "continent": "Asia",
          "country": "China",
          "index": 224
         },
         {
          "city": "Bengaluru",
          "company": "Meesho",
          "company_id": 130,
          "continent": "Asia",
          "country": "India",
          "index": 225
         },
         {
          "city": "Bengaluru",
          "company": "Udaan",
          "company_id": 321,
          "continent": "Asia",
          "country": "India",
          "index": 226
         },
         {
          "city": "Jersey City",
          "company": "BlockFi",
          "company_id": 327,
          "continent": "North America",
          "country": "United States",
          "index": 227
         },
         {
          "city": "London",
          "company": "SumUp",
          "company_id": 641,
          "continent": "Europe",
          "country": "United Kingdom",
          "index": 228
         },
         {
          "city": "Jakarta",
          "company": "Traveloka",
          "company_id": 352,
          "continent": "Asia",
          "country": "Indonesia",
          "index": 229
         },
         {
          "city": "Beijing",
          "company": "Momenta",
          "company_id": 972,
          "continent": "Asia",
          "country": "China",
          "index": 230
         },
         {
          "city": "Bengaluru",
          "company": "ShareChat",
          "company_id": 201,
          "continent": "Asia",
          "country": "India",
          "index": 231
         },
         {
          "city": "Suzhou",
          "company": "Abogen",
          "company_id": 168,
          "continent": "Asia",
          "country": "China",
          "index": 232
         },
         {
          "city": "Hangzhou",
          "company": "WeDoctor",
          "company_id": 104,
          "continent": "Asia",
          "country": "China",
          "index": 233
         },
         {
          "city": "El Segundo",
          "company": "Radiology Partners",
          "company_id": 171,
          "continent": "North America",
          "country": "United States",
          "index": 234
         },
         {
          "city": "Hangzhou",
          "company": "SouChe Holdings",
          "company_id": 350,
          "continent": "Asia",
          "country": "China",
          "index": 235
         },
         {
          "city": "New York",
          "company": "Ro",
          "company_id": 101,
          "continent": "North America",
          "country": "United States",
          "index": 236
         },
         {
          "city": "Sunnyvale",
          "company": "Zapier",
          "company_id": 239,
          "continent": "North America",
          "country": "United States",
          "index": 237
         },
         {
          "city": "Shanghai",
          "company": "XForcePlus",
          "company_id": 1065,
          "continent": "Asia",
          "country": "China",
          "index": 238
         },
         {
          "city": "Shenzhen",
          "company": "iCarbonX",
          "company_id": 938,
          "continent": "Asia",
          "country": "China",
          "index": 239
         },
         {
          "city": "San Francisco",
          "company": "People.ai",
          "company_id": 828,
          "continent": "North America",
          "country": "United States",
          "index": 240
         },
         {
          "city": "Vodnjan",
          "company": "Infobip",
          "company_id": 941,
          "continent": "Europe",
          "country": "Croatia",
          "index": 241
         },
         {
          "city": "Shenzhen",
          "company": "Orbbec Technology",
          "company_id": 988,
          "continent": "Asia",
          "country": "China",
          "index": 242
         },
         {
          "city": "Dakar",
          "company": "Wave",
          "company_id": 484,
          "continent": "Africa",
          "country": "Senegal",
          "index": 243
         },
         {
          "city": "Palo Alto",
          "company": "Aptos",
          "company_id": 864,
          "continent": "North America",
          "country": "United States",
          "index": 244
         },
         {
          "city": "San Francisco",
          "company": "Pantheon Systems",
          "company_id": 383,
          "continent": "North America",
          "country": "United States",
          "index": 245
         },
         {
          "city": "San Francisco",
          "company": "Weights & Biases",
          "company_id": 1060,
          "continent": "North America",
          "country": "United States",
          "index": 246
         },
         {
          "city": "Kowloon",
          "company": "Trendy Group International",
          "company_id": 595,
          "continent": "Asia",
          "country": "Hong Kong",
          "index": 247
         },
         {
          "city": "Crewe",
          "company": "Radius Payment Solutions",
          "company_id": 840,
          "continent": "Europe",
          "country": "United Kingdom",
          "index": 248
         },
         {
          "city": "Scottsdale",
          "company": "Nextiva",
          "company_id": 290,
          "continent": "North America",
          "country": "United States",
          "index": 249
         },
         {
          "city": "New York",
          "company": "Lukka",
          "company_id": 742,
          "continent": "North America",
          "country": "United States",
          "index": 250
         },
         {
          "city": "New York",
          "company": "Maven Clinic",
          "company_id": 964,
          "continent": "North America",
          "country": "United States",
          "index": 251
         },
         {
          "city": "London",
          "company": "Tripledot",
          "company_id": 712,
          "continent": "Europe",
          "country": "United Kingdom",
          "index": 252
         },
         {
          "city": "London",
          "company": "Zego",
          "company_id": 837,
          "continent": "Europe",
          "country": "United Kingdom",
          "index": 253
         },
         {
          "city": "San Francisco",
          "company": "Netlify",
          "company_id": 583,
          "continent": "North America",
          "country": "United States",
          "index": 254
         },
         {
          "city": "Tel Aviv",
          "company": "Next Silicon",
          "company_id": 411,
          "continent": "Asia",
          "country": "Israel",
          "index": 255
         },
         {
          "city": "San Francisco",
          "company": "Loom",
          "company_id": 430,
          "continent": "North America",
          "country": "United States",
          "index": 256
         },
         {
          "city": "Santiago",
          "company": "Betterfly",
          "company_id": 875,
          "continent": "South America",
          "country": "Chile",
          "index": 257
         },
         {
          "city": "New York",
          "company": "Beyond Identity",
          "company_id": 810,
          "continent": "North America",
          "country": "United States",
          "index": 258
         },
         {
          "city": "Atlanta",
          "company": "STORD",
          "company_id": 805,
          "continent": "North America",
          "country": "United States",
          "index": 259
         },
         {
          "city": "Scottsdale",
          "company": "Lessen",
          "company_id": 953,
          "continent": "North America",
          "country": "United States",
          "index": 260
         },
         {
          "city": "Berkeley Heights",
          "company": "Axtria",
          "company_id": 606,
          "continent": "North America",
          "country": "United States",
          "index": 261
         },
         {
          "city": "Shanghai",
          "company": "YunQuNa",
          "company_id": 679,
          "continent": "Asia",
          "country": "China",
          "index": 262
         },
         {
          "city": "New York",
          "company": "Electric",
          "company_id": 907,
          "continent": "North America",
          "country": "United States",
          "index": 263
         },
         {
          "city": "",
          "company": "bolttech",
          "company_id": 880,
          "continent": "Asia",
          "country": "Singapore",
          "index": 264
         },
         {
          "city": "Los Angeles",
          "company": "Sunbit",
          "company_id": 834,
          "continent": "North America",
          "country": "United States",
          "index": 265
         },
         {
          "city": "Helsinki",
          "company": "Aiven",
          "company_id": 542,
          "continent": "Europe",
          "country": "Finland",
          "index": 266
         },
         {
          "city": "New York",
          "company": "Thirty Madison",
          "company_id": 1043,
          "continent": "North America",
          "country": "United States",
          "index": 267
         },
         {
          "city": "Northbrook",
          "company": "Mu Sigma",
          "company_id": 410,
          "continent": "North America",
          "country": "United States",
          "index": 268
         },
         {
          "city": "Beijing",
          "company": "Shukun Technology",
          "company_id": 637,
          "continent": "Asia",
          "country": "China",
          "index": 269
         },
         {
          "city": "Palo Alto",
          "company": "Flipboard",
          "company_id": 616,
          "continent": "North America",
          "country": "United States",
          "index": 270
         },
         {
          "city": "Shanghai",
          "company": "dMed Biopharmaceutical",
          "company_id": 611,
          "continent": "Asia",
          "country": "China",
          "index": 271
         },
         {
          "city": "Jakarta",
          "company": "Xendit",
          "company_id": 1064,
          "continent": "Asia",
          "country": "Indonesia",
          "index": 272
         },
         {
          "city": "Santa Clara",
          "company": "SoundHound",
          "company_id": 1032,
          "continent": "North America",
          "country": "United States",
          "index": 273
         },
         {
          "city": "Dallas",
          "company": "Island",
          "company_id": 737,
          "continent": "North America",
          "country": "United States",
          "index": 274
         },
         {
          "city": "Shenzhen",
          "company": "Tubatu.com",
          "company_id": 374,
          "continent": "Asia",
          "country": "China",
          "index": 275
         },
         {
          "city": "Seoul",
          "company": "Yello Mobile",
          "company_id": 172,
          "continent": "Asia",
          "country": "South Korea",
          "index": 276
         },
         {
          "city": "Cincinnati",
          "company": "Pacaso",
          "company_id": 414,
          "continent": "North America",
          "country": "United States",
          "index": 277
         },
         {
          "city": "San Francisco",
          "company": "Density",
          "company_id": 845,
          "continent": "North America",
          "country": "United States",
          "index": 278
         },
         {
          "city": "Vancouver",
          "company": "Visier",
          "company_id": 1055,
          "continent": "North America",
          "country": "Canada",
          "index": 279
         },
         {
          "city": "San Francisco",
          "company": "Persona",
          "company_id": 416,
          "continent": "North America",
          "country": "United States",
          "index": 280
         },
         {
          "city": "Shenzhen",
          "company": "Coocaa",
          "company_id": 682,
          "continent": "Asia",
          "country": "China",
          "index": 281
         },
         {
          "city": "Bengaluru",
          "company": "Mensa Brands",
          "company_id": 967,
          "continent": "Asia",
          "country": "India",
          "index": 282
         },
         {
          "city": "San Francisco",
          "company": "Calm",
          "company_id": 551,
          "continent": "North America",
          "country": "United States",
          "index": 283
         },
         {
          "city": "Chicago",
          "company": "Uptake",
          "company_id": 491,
          "continent": "North America",
          "country": "United States",
          "index": 284
         },
         {
          "city": "San Francisco",
          "company": "HomeLight",
          "company_id": 446,
          "continent": "North America",
          "country": "United States",
          "index": 285
         },
         {
          "city": "Palo Alto",
          "company": "Noname Security",
          "company_id": 982,
          "continent": "North America",
          "country": "United States",
          "index": 286
         },
         {
          "city": "San Mateo",
          "company": "Sendbird",
          "company_id": 850,
          "continent": "North America",
          "country": "United States",
          "index": 287
         },
         {
          "city": "Tel Aviv",
          "company": "Hailo",
          "company_id": 928,
          "continent": "Asia",
          "country": "Israel",
          "index": 288
         },
         {
          "city": "Bengaluru",
          "company": "InMobi",
          "company_id": 380,
          "continent": "Asia",
          "country": "India",
          "index": 289
         },
         {
          "city": "Sydney",
          "company": "SafetyCulture",
          "company_id": 451,
          "continent": "Oceania",
          "country": "Australia",
          "index": 290
         },
         {
          "city": "New York",
          "company": "OpenWeb",
          "company_id": 987,
          "continent": "North America",
          "country": "United States",
          "index": 291
         },
         {
          "city": "Atlanta",
          "company": "Rubicon",
          "company_id": 842,
          "continent": "North America",
          "country": "United States",
          "index": 292
         },
         {
          "city": "Shanghai",
          "company": "HuJiang",
          "company_id": 620,
          "continent": "Asia",
          "country": "China",
          "index": 293
         },
         {
          "city": "Beijing",
          "company": "Baiwang",
          "company_id": 356,
          "continent": "Asia",
          "country": "China",
          "index": 294
         },
         {
          "city": "Hangzhou",
          "company": "BeiBei",
          "company_id": 872,
          "continent": "Asia",
          "country": "China",
          "index": 295
         },
         {
          "city": "San Francisco",
          "company": "SmartRecruiters",
          "company_id": 417,
          "continent": "North America",
          "country": "United States",
          "index": 296
         },
         {
          "city": "Marina del Rey",
          "company": "Whatnot",
          "company_id": 427,
          "continent": "North America",
          "country": "United States",
          "index": 297
         },
         {
          "city": "New York",
          "company": "A24 Films",
          "company_id": 255,
          "continent": "North America",
          "country": "United States",
          "index": 298
         },
         {
          "city": "Lysaker",
          "company": "Cognite",
          "company_id": 397,
          "continent": "Europe",
          "country": "Norway",
          "index": 299
         },
         {
          "city": "New York",
          "company": "Aircall",
          "company_id": 857,
          "continent": "North America",
          "country": "United States",
          "index": 300
         },
         {
          "city": "Mountain View",
          "company": "Quora",
          "company_id": 588,
          "continent": "North America",
          "country": "United States",
          "index": 301
         },
         {
          "city": "Colorado Springs",
          "company": "Quantum Metric",
          "company_id": 1005,
          "continent": "North America",
          "country": "United States",
          "index": 302
         },
         {
          "city": "Chennai",
          "company": "CredAvenue",
          "company_id": 609,
          "continent": "Asia",
          "country": "India",
          "index": 303
         },
         {
          "city": "Beijing",
          "company": "Huisuanzhang",
          "company_id": 619,
          "continent": "Asia",
          "country": "China",
          "index": 304
         },
         {
          "city": "San Francisco",
          "company": "Aleo",
          "company_id": 681,
          "continent": "North America",
          "country": "United States",
          "index": 305
         },
         {
          "city": "Louvain-la-Neuve",
          "company": "Odoo",
          "company_id": 489,
          "continent": "Europe",
          "country": "Belgium",
          "index": 306
         },
         {
          "city": "Shanghai",
          "company": "Keenon Robotics",
          "company_id": 626,
          "continent": "Asia",
          "country": "China",
          "index": 307
         },
         {
          "city": "Changsha",
          "company": "WeBull",
          "company_id": 649,
          "continent": "Asia",
          "country": "China",
          "index": 308
         },
         {
          "city": "Mississauga",
          "company": "PointClickCare",
          "company_id": 234,
          "continent": "North America",
          "country": "Canada",
          "index": 309
         },
         {
          "city": "Los Angeles",
          "company": "FloQast",
          "company_id": 770,
          "continent": "North America",
          "country": "United States",
          "index": 310
         },
         {
          "city": "Austin",
          "company": "Everly Health",
          "company_id": 614,
          "continent": "North America",
          "country": "United States",
          "index": 311
         },
         {
          "city": "Los Angeles",
          "company": "Spotter",
          "company_id": 482,
          "continent": "North America",
          "country": "United States",
          "index": 312
         },
         {
          "city": "Beijing",
          "company": "Mia.com",
          "company_id": 968,
          "continent": "Asia",
          "country": "China",
          "index": 313
         },
         {
          "city": "Paris",
          "company": "Dental Monitoring",
          "company_id": 899,
          "continent": "Europe",
          "country": "France",
          "index": 314
         },
         {
          "city": "Aberdeen",
          "company": "BrewDog",
          "company_id": 386,
          "continent": "Europe",
          "country": "United Kingdom",
          "index": 315
         },
         {
          "city": "Hangzhou",
          "company": "Kujiale",
          "company_id": 665,
          "continent": "Asia",
          "country": "China",
          "index": 316
         },
         {
          "city": "Toronto",
          "company": "TensTorrent",
          "company_id": 1039,
          "continent": "North America",
          "country": "Canada",
          "index": 317
         },
         {
          "city": "San Jose",
          "company": "CloudBees",
          "company_id": 800,
          "continent": "North America",
          "country": "United States",
          "index": 318
         },
         {
          "city": "Dublin",
          "company": "Wayflyer",
          "company_id": 457,
          "continent": "Europe",
          "country": "Ireland",
          "index": 319
         },
         {
          "city": "Draper",
          "company": "TaxBit",
          "company_id": 676,
          "continent": "North America",
          "country": "United States",
          "index": 320
         },
         {
          "city": "Sao Paulo",
          "company": "Unico",
          "company_id": 1050,
          "continent": "South America",
          "country": "Brazil",
          "index": 321
         },
         {
          "city": "Ghent",
          "company": "Deliverect",
          "company_id": 694,
          "continent": "Europe",
          "country": "Belgium",
          "index": 322
         },
         {
          "city": "Redwood City",
          "company": "Reltio",
          "company_id": 481,
          "continent": "North America",
          "country": "United States",
          "index": 323
         },
         {
          "city": "New York",
          "company": "Bluecore",
          "company_id": 878,
          "continent": "North America",
          "country": "United States",
          "index": 324
         },
         {
          "city": "London",
          "company": "Payhawk",
          "company_id": 995,
          "continent": "Europe",
          "country": "United Kingdom",
          "index": 325
         },
         {
          "city": "San Francisco",
          "company": "Standard",
          "company_id": 1034,
          "continent": "North America",
          "country": "United States",
          "index": 326
         },
         {
          "city": "Munich",
          "company": "Agile Robots",
          "company_id": 855,
          "continent": "Europe",
          "country": "Germany",
          "index": 327
         },
         {
          "city": "San Francisco",
          "company": "Outschool",
          "company_id": 345,
          "continent": "North America",
          "country": "United States",
          "index": 328
         },
         {
          "city": "Mountain View",
          "company": "Coda",
          "company_id": 691,
          "continent": "North America",
          "country": "United States",
          "index": 329
         },
         {
          "city": "Bengaluru",
          "company": "Amagi",
          "company_id": 860,
          "continent": "Asia",
          "country": "India",
          "index": 330
         },
         {
          "city": "New York",
          "company": "Opentrons",
          "company_id": 511,
          "continent": "North America",
          "country": "United States",
          "index": 331
         },
         {
          "city": "Miami",
          "company": "Papa",
          "company_id": 704,
          "continent": "North America",
          "country": "United States",
          "index": 332
         },
         {
          "city": "Englewood",
          "company": "Boom Supersonic",
          "company_id": 881,
          "continent": "North America",
          "country": "United States",
          "index": 333
         },
         {
          "city": "San Francisco",
          "company": "Intercom",
          "company_id": 747,
          "continent": "North America",
          "country": "United States",
          "index": 334
         },
         {
          "city": "Chicago",
          "company": "Amount",
          "company_id": 861,
          "continent": "North America",
          "country": "United States",
          "index": 335
         },
         {
          "city": "New York",
          "company": "Lusha",
          "company_id": 407,
          "continent": "North America",
          "country": "United States",
          "index": 336
         },
         {
          "city": "Jakarta",
          "company": "Ajaib",
          "company_id": 858,
          "continent": "Asia",
          "country": "Indonesia",
          "index": 337
         },
         {
          "city": "New York",
          "company": "BigID",
          "company_id": 749,
          "continent": "North America",
          "country": "United States",
          "index": 338
         },
         {
          "city": "Gurgaon",
          "company": "Rivigo",
          "company_id": 841,
          "continent": "Asia",
          "country": "India",
          "index": 339
         },
         {
          "city": "San Francisco",
          "company": "Sourcegraph",
          "company_id": 282,
          "continent": "North America",
          "country": "United States",
          "index": 340
         },
         {
          "city": "Bengaluru",
          "company": "Slice",
          "company_id": 1026,
          "continent": "Asia",
          "country": "India",
          "index": 341
         },
         {
          "city": "Gurugram",
          "company": "MobiKwik",
          "company_id": 630,
          "continent": "Asia",
          "country": "India",
          "index": 342
         },
         {
          "city": "Hangzhou",
          "company": "Hyperchain",
          "company_id": 621,
          "continent": "Asia",
          "country": "China",
          "index": 343
         },
         {
          "city": "Beijing",
          "company": "Jiuxian",
          "company_id": 847,
          "continent": "Asia",
          "country": "China",
          "index": 344
         },
         {
          "city": "Dublin",
          "company": "BrowserStack",
          "company_id": 223,
          "continent": "Europe",
          "country": "Ireland",
          "index": 345
         },
         {
          "city": "Fort Mill",
          "company": "Red Ventures",
          "company_id": 1009,
          "continent": "North America",
          "country": "United States",
          "index": 346
         },
         {
          "city": "Somerville",
          "company": "Formlabs",
          "company_id": 563,
          "continent": "North America",
          "country": "United States",
          "index": 347
         },
         {
          "city": "Mountain View",
          "company": "H2O.ai",
          "company_id": 476,
          "continent": "North America",
          "country": "United States",
          "index": 348
         },
         {
          "city": "Beijing",
          "company": "Mobvoi",
          "company_id": 970,
          "continent": "Asia",
          "country": "China",
          "index": 349
         },
         {
          "city": "New York",
          "company": "Orchard",
          "company_id": 990,
          "continent": "North America",
          "country": "United States",
          "index": 350
         },
         {
          "city": "Hangzhou",
          "company": "Tongdun Technology",
          "company_id": 728,
          "continent": "Asia",
          "country": "China",
          "index": 351
         },
         {
          "city": "Scottsdale",
          "company": "Paradox",
          "company_id": 415,
          "continent": "North America",
          "country": "United States",
          "index": 352
         },
         {
          "city": "Beijing",
          "company": "LinkDoc Technology",
          "company_id": 956,
          "continent": "Asia",
          "country": "China",
          "index": 353
         },
         {
          "city": "San Francisco",
          "company": "Snapdocs",
          "company_id": 418,
          "continent": "North America",
          "country": "United States",
          "index": 354
         },
         {
          "city": "New York",
          "company": "Chronosphere",
          "company_id": 892,
          "continent": "North America",
          "country": "United States",
          "index": 355
         },
         {
          "city": "New York",
          "company": "Owkin",
          "company_id": 991,
          "continent": "North America",
          "country": "United States",
          "index": 356
         },
         {
          "city": "Chicago",
          "company": "SMS Assist",
          "company_id": 1028,
          "continent": "North America",
          "country": "United States",
          "index": 357
         },
         {
          "city": "Hayward",
          "company": "Truepill",
          "company_id": 454,
          "continent": "North America",
          "country": "United States",
          "index": 358
         },
         {
          "city": "Richmond",
          "company": "Culture Amp",
          "company_id": 400,
          "continent": "Oceania",
          "country": "Australia",
          "index": 359
         },
         {
          "city": "Austin",
          "company": "The Zebra",
          "company_id": 1042,
          "continent": "North America",
          "country": "United States",
          "index": 360
         },
         {
          "city": "San Francisco",
          "company": "Incode Technologies",
          "company_id": 753,
          "continent": "North America",
          "country": "United States",
          "index": 361
         },
         {
          "city": "Herndon",
          "company": "Expel",
          "company_id": 911,
          "continent": "North America",
          "country": "United States",
          "index": 362
         },
         {
          "city": "Chicago",
          "company": "G2",
          "company_id": 819,
          "continent": "North America",
          "country": "United States",
          "index": 363
         },
         {
          "city": "Boston",
          "company": "Reify Health",
          "company_id": 507,
          "continent": "North America",
          "country": "United States",
          "index": 364
         },
         {
          "city": "San Mateo",
          "company": "Evidation",
          "company_id": 910,
          "continent": "North America",
          "country": "United States",
          "index": 365
         },
         {
          "city": "Sherman Oaks",
          "company": "Mythical Games",
          "company_id": 756,
          "continent": "North America",
          "country": "United States",
          "index": 366
         },
         {
          "city": "San Francisco",
          "company": "Productboard",
          "company_id": 480,
          "continent": "North America",
          "country": "United States",
          "index": 367
         },
         {
          "city": "Santa Barbara",
          "company": "impact.com",
          "company_id": 405,
          "continent": "North America",
          "country": "United States",
          "index": 368
         },
         {
          "city": "Solihull",
          "company": "Gymshark",
          "company_id": 683,
          "continent": "Europe",
          "country": "United Kingdom",
          "index": 369
         },
         {
          "city": "Paris",
          "company": "Lydia",
          "company_id": 959,
          "continent": "Europe",
          "country": "France",
          "index": 370
         },
         {
          "city": "Dublin",
          "company": "LetsGetChecked",
          "company_id": 954,
          "continent": "Europe",
          "country": "Ireland",
          "index": 371
         },
         {
          "city": "New York",
          "company": "VAST Data",
          "company_id": 203,
          "continent": "North America",
          "country": "United States",
          "index": 372
         },
         {
          "city": "",
          "company": "HyalRoute",
          "company_id": 170,
          "continent": "Asia",
          "country": "Singapore",
          "index": 373
         },
         {
          "city": "Tel Aviv",
          "company": "Firebolt",
          "company_id": 698,
          "continent": "Asia",
          "country": "Israel",
          "index": 374
         },
         {
          "city": "San Diego",
          "company": "Tealium",
          "company_id": 790,
          "continent": "North America",
          "country": "United States",
          "index": 375
         },
         {
          "city": "Brisbane",
          "company": "Mammoth Biosciences",
          "company_id": 962,
          "continent": "North America",
          "country": "United States",
          "index": 376
         },
         {
          "city": "Ramat Gan",
          "company": "Aqua Security",
          "company_id": 865,
          "continent": "Asia",
          "country": "Israel",
          "index": 377
         },
         {
          "city": "New York",
          "company": "Glossier",
          "company_id": 461,
          "continent": "North America",
          "country": "United States",
          "index": 378
         },
         {
          "city": "Hangzhou",
          "company": "DT Dream",
          "company_id": 670,
          "continent": "Asia",
          "country": "China",
          "index": 379
         },
         {
          "city": "Orlando",
          "company": "Jeeves",
          "company_id": 529,
          "continent": "North America",
          "country": "United States",
          "index": 380
         },
         {
          "city": "Beijing",
          "company": "Pipa Coding",
          "company_id": 634,
          "continent": "Asia",
          "country": "China",
          "index": 381
         },
         {
          "city": "Los Altos",
          "company": "Contrast Security",
          "company_id": 897,
          "continent": "North America",
          "country": "United States",
          "index": 382
         },
         {
          "city": "Oslo",
          "company": "Gelato",
          "company_id": 924,
          "continent": "Europe",
          "country": "Norway",
          "index": 383
         },
         {
          "city": "Chicago",
          "company": "Copado",
          "company_id": 768,
          "continent": "North America",
          "country": "United States",
          "index": 384
         },
         {
          "city": "Palo Alto",
          "company": "Salt Security",
          "company_id": 707,
          "continent": "North America",
          "country": "United States",
          "index": 385
         },
         {
          "city": "New York",
          "company": "K Health",
          "company_id": 673,
          "continent": "North America",
          "country": "United States",
          "index": 386
         },
         {
          "city": "London",
          "company": "TrueLayer",
          "company_id": 1049,
          "continent": "Europe",
          "country": "United Kingdom",
          "index": 387
         },
         {
          "city": "Zurich",
          "company": "Scandit",
          "company_id": 1017,
          "continent": "Europe",
          "country": "Switzerland",
          "index": 388
         },
         {
          "city": "Beijing",
          "company": "Aibee",
          "company_id": 856,
          "continent": "Asia",
          "country": "China",
          "index": 389
         },
         {
          "city": "San Francisco",
          "company": "RapidAPI",
          "company_id": 1007,
          "continent": "North America",
          "country": "United States",
          "index": 390
         },
         {
          "city": "Tel Aviv",
          "company": "Hibob",
          "company_id": 462,
          "continent": "Asia",
          "country": "Israel",
          "index": 391
         },
         {
          "city": "New York",
          "company": "Sisense",
          "company_id": 832,
          "continent": "North America",
          "country": "United States",
          "index": 392
         },
         {
          "city": "Thane",
          "company": "Infra.Market",
          "company_id": 265,
          "continent": "Asia",
          "country": "India",
          "index": 393
         },
         {
          "city": "Austin",
          "company": "ZenBusiness",
          "company_id": 485,
          "continent": "North America",
          "country": "United States",
          "index": 394
         },
         {
          "city": "Santa Monica",
          "company": "Skydance Media",
          "company_id": 490,
          "continent": "North America",
          "country": "United States",
          "index": 395
         },
         {
          "city": "London",
          "company": "Motorway",
          "company_id": 723,
          "continent": "Europe",
          "country": "United Kingdom",
          "index": 396
         },
         {
          "city": "San Mateo",
          "company": "Feedzai",
          "company_id": 913,
          "continent": "North America",
          "country": "United States",
          "index": 397
         },
         {
          "city": "Los Angeles",
          "company": "ReCharge",
          "company_id": 534,
          "continent": "North America",
          "country": "United States",
          "index": 398
         },
         {
          "city": "Lehi",
          "company": "Pattern",
          "company_id": 494,
          "continent": "North America",
          "country": "United States",
          "index": 399
         },
         {
          "city": "San Francisco",
          "company": "Mixpanel",
          "company_id": 849,
          "continent": "North America",
          "country": "United States",
          "index": 400
         },
         {
          "city": "Dubai",
          "company": "Emerging Markets Property Group",
          "company_id": 908,
          "continent": "Asia",
          "country": "United Arab Emirates",
          "index": 401
         },
         {
          "city": "Sydney",
          "company": "Immutable",
          "company_id": 264,
          "continent": "Oceania",
          "country": "Australia",
          "index": 402
         },
         {
          "city": "Amsterdam",
          "company": "Bunq",
          "company_id": 550,
          "continent": "Europe",
          "country": "Netherlands",
          "index": 403
         },
         {
          "city": "San Francisco",
          "company": "MindTickle",
          "company_id": 778,
          "continent": "North America",
          "country": "United States",
          "index": 404
         },
         {
          "city": "Chengdu",
          "company": "Juma Peisong",
          "company_id": 624,
          "continent": "Asia",
          "country": "China",
          "index": 405
         },
         {
          "city": "San Francisco",
          "company": "Lookout",
          "company_id": 958,
          "continent": "North America",
          "country": "United States",
          "index": 406
         },
         {
          "city": "New York",
          "company": "Capitolis",
          "company_id": 440,
          "continent": "North America",
          "country": "United States",
          "index": 407
         },
         {
          "city": "Beijing",
          "company": "FXiaoKe",
          "company_id": 921,
          "continent": "Asia",
          "country": "China",
          "index": 408
         },
         {
          "city": "Brisbane",
          "company": "GO1",
          "company_id": 926,
          "continent": "Oceania",
          "country": "Australia",
          "index": 409
         },
         {
          "city": "Leudelange",
          "company": "OCSiAl",
          "company_id": 584,
          "continent": "Europe",
          "country": "Luxembourg",
          "index": 410
         },
         {
          "city": "",
          "company": "NIUM",
          "company_id": 980,
          "continent": "Asia",
          "country": "Singapore",
          "index": 411
         },
         {
          "city": "Shanghai",
          "company": "Biren Technology",
          "company_id": 468,
          "continent": "Asia",
          "country": "China",
          "index": 412
         },
         {
          "city": "Austin",
          "company": "SparkCognition",
          "company_id": 709,
          "continent": "North America",
          "country": "United States",
          "index": 413
         },
         {
          "city": "London",
          "company": "Lendable",
          "company_id": 138,
          "continent": "Europe",
          "country": "United Kingdom",
          "index": 414
         },
         {
          "city": "Hawthorne",
          "company": "Epirus",
          "company_id": 719,
          "continent": "North America",
          "country": "United States",
          "index": 415
         },
         {
          "city": "Seoul",
          "company": "MUSINSA",
          "company_id": 505,
          "continent": "Asia",
          "country": "South Korea",
          "index": 416
         },
         {
          "city": "",
          "company": "Carousell",
          "company_id": 811,
          "continent": "Asia",
          "country": "Singapore",
          "index": 417
         },
         {
          "city": "Nashville",
          "company": "Built",
          "company_id": 395,
          "continent": "North America",
          "country": "United States",
          "index": 418
         },
         {
          "city": "Sunnyvale",
          "company": "YugaByte",
          "company_id": 746,
          "continent": "North America",
          "country": "United States",
          "index": 419
         },
         {
          "city": "Bengaluru",
          "company": "Vedantu",
          "company_id": 1052,
          "continent": "Asia",
          "country": "India",
          "index": 420
         },
         {
          "city": "Mountain View",
          "company": "At-Bay",
          "company_id": 806,
          "continent": "North America",
          "country": "United States",
          "index": 421
         },
         {
          "city": "London",
          "company": "BenevolentAI",
          "company_id": 873,
          "continent": "Europe",
          "country": "United Kingdom",
          "index": 422
         },
         {
          "city": "Paris",
          "company": "Meero",
          "company_id": 966,
          "continent": "Europe",
          "country": "France",
          "index": 423
         },
         {
          "city": "San Francisco",
          "company": "AppsFlyer",
          "company_id": 545,
          "continent": "North America",
          "country": "United States",
          "index": 424
         },
         {
          "city": "New York",
          "company": "Fabric",
          "company_id": 912,
          "continent": "North America",
          "country": "United States",
          "index": 425
         },
         {
          "city": "Seattle",
          "company": "Rec Room",
          "company_id": 187,
          "continent": "North America",
          "country": "United States",
          "index": 426
         },
         {
          "city": "San Francisco",
          "company": "Ripple",
          "company_id": 47,
          "continent": "North America",
          "country": "United States",
          "index": 427
         },
         {
          "city": "New York",
          "company": "Augury",
          "company_id": 868,
          "continent": "North America",
          "country": "United States",
          "index": 428
         },
         {
          "city": "Bellevue",
          "company": "fabric",
          "company_id": 671,
          "continent": "North America",
          "country": "United States",
          "index": 429
         },
         {
          "city": "Bethesda",
          "company": "Aledade",
          "company_id": 521,
          "continent": "North America",
          "country": "United States",
          "index": 430
         },
         {
          "city": "New York",
          "company": "Spring Health",
          "company_id": 591,
          "continent": "North America",
          "country": "United States",
          "index": 431
         },
         {
          "city": "New York",
          "company": "SWORD Health",
          "company_id": 593,
          "continent": "North America",
          "country": "United States",
          "index": 432
         },
         {
          "city": "Mumbai",
          "company": "National Stock Exchange of India",
          "company_id": 84,
          "continent": "Asia",
          "country": "India",
          "index": 433
         },
         {
          "city": "San Francisco",
          "company": "Transcarent",
          "company_id": 459,
          "continent": "North America",
          "country": "United States",
          "index": 434
         },
         {
          "city": "Shanghai",
          "company": "Huaqin Telecom Technology",
          "company_id": 514,
          "continent": "Asia",
          "country": "China",
          "index": 435
         },
         {
          "city": "Boulder",
          "company": "Veho",
          "company_id": 425,
          "continent": "North America",
          "country": "United States",
          "index": 436
         },
         {
          "city": "Oakland",
          "company": "Everlaw",
          "company_id": 561,
          "continent": "North America",
          "country": "United States",
          "index": 437
         },
         {
          "city": "Vancouver",
          "company": "Blockstream",
          "company_id": 303,
          "continent": "North America",
          "country": "Canada",
          "index": 438
         },
         {
          "city": "New York",
          "company": "Fever Labs",
          "company_id": 914,
          "continent": "North America",
          "country": "United States",
          "index": 439
         },
         {
          "city": "Wilmington",
          "company": "Locus Robotics",
          "company_id": 957,
          "continent": "North America",
          "country": "United States",
          "index": 440
         },
         {
          "city": "New York",
          "company": "Il Makiage",
          "company_id": 368,
          "continent": "North America",
          "country": "United States",
          "index": 441
         },
         {
          "city": "New York",
          "company": "Articulate",
          "company_id": 204,
          "continent": "North America",
          "country": "United States",
          "index": 442
         },
         {
          "city": "San Francisco",
          "company": "Chime",
          "company_id": 14,
          "continent": "North America",
          "country": "United States",
          "index": 443
         },
         {
          "city": "Miami",
          "company": "REEF Technology",
          "company_id": 1010,
          "continent": "North America",
          "country": "United States",
          "index": 444
         },
         {
          "city": "London",
          "company": "Revolut",
          "company_id": 10,
          "continent": "Europe",
          "country": "United Kingdom",
          "index": 445
         },
         {
          "city": "Shanghai",
          "company": "Hozon Auto",
          "company_id": 220,
          "continent": "Asia",
          "country": "China",
          "index": 446
         },
         {
          "city": "Santa Monica",
          "company": "Fair",
          "company_id": 615,
          "continent": "North America",
          "country": "United States",
          "index": 447
         },
         {
          "city": "London",
          "company": "Checkout.com",
          "company_id": 6,
          "continent": "Europe",
          "country": "United Kingdom",
          "index": 448
         },
         {
          "city": "San Francisco",
          "company": "Stripe",
          "company_id": 3,
          "continent": "North America",
          "country": "United States",
          "index": 449
         },
         {
          "city": "Istanbul",
          "company": "Getir",
          "company_id": 34,
          "continent": "Europe",
          "country": "Turkey",
          "index": 450
         },
         {
          "city": "",
          "company": "FTX",
          "company_id": 12,
          "continent": "North America",
          "country": "Bahamas",
          "index": 451
         },
         {
          "city": "Shanghai",
          "company": "Hello TransTech",
          "company_id": 657,
          "continent": "Asia",
          "country": "China",
          "index": 452
         },
         {
          "city": "London",
          "company": "Greensill",
          "company_id": 169,
          "continent": "Europe",
          "country": "United Kingdom",
          "index": 453
         },
         {
          "city": "Shenzhen",
          "company": "SHEIN",
          "company_id": 2,
          "continent": "Asia",
          "country": "China",
          "index": 454
         },
         {
          "city": "Waltham",
          "company": "Devoted Health",
          "company_id": 26,
          "continent": "North America",
          "country": "United States",
          "index": 455
         },
         {
          "city": "Beijing",
          "company": "Ziroom",
          "company_id": 93,
          "continent": "Asia",
          "country": "China",
          "index": 456
         },
         {
          "city": "Beijing",
          "company": "Horizon Robotics",
          "company_id": 176,
          "continent": "Asia",
          "country": "China",
          "index": 457
         },
         {
          "city": "Redwood City",
          "company": "Impossible Foods",
          "company_id": 86,
          "continent": "North America",
          "country": "United States",
          "index": 458
         },
         {
          "city": "Lerma de Villada",
          "company": "Kavak",
          "company_id": 66,
          "continent": "North America",
          "country": "Mexico",
          "index": 459
         },
         {
          "city": "Mountain View",
          "company": "Nuro",
          "company_id": 64,
          "continent": "North America",
          "country": "United States",
          "index": 460
         },
         {
          "city": "Seoul",
          "company": "Yanolja",
          "company_id": 62,
          "continent": "Asia",
          "country": "South Korea",
          "index": 461
         },
         {
          "city": "Walpole",
          "company": "Thrasio",
          "company_id": 60,
          "continent": "North America",
          "country": "United States",
          "index": 462
         },
         {
          "city": "Mumbai",
          "company": "Dream11",
          "company_id": 71,
          "continent": "Asia",
          "country": "India",
          "index": 463
         },
         {
          "city": "New Delhi",
          "company": "Snapdeal",
          "company_id": 640,
          "continent": "Asia",
          "country": "India",
          "index": 464
         },
         {
          "city": "Cheung Sha Wan",
          "company": "Lalamove",
          "company_id": 56,
          "continent": "Asia",
          "country": "Hong Kong",
          "index": 465
         },
         {
          "city": "San Jose",
          "company": "Lacework",
          "company_id": 76,
          "continent": "North America",
          "country": "United States",
          "index": 466
         },
         {
          "city": "San Francisco",
          "company": "Flexport",
          "company_id": 83,
          "continent": "North America",
          "country": "United States",
          "index": 467
         },
         {
          "city": "Bogota",
          "company": "Rappi",
          "company_id": 149,
          "continent": "South America",
          "country": "Colombia",
          "index": 468
         },
         {
          "city": "Berlin",
          "company": "N26",
          "company_id": 67,
          "continent": "Europe",
          "country": "Germany",
          "index": 469
         },
         {
          "city": "Sao Paulo",
          "company": "C6 Bank",
          "company_id": 155,
          "continent": "South America",
          "country": "Brazil",
          "index": 470
         },
         {
          "city": "Beijing",
          "company": "Easyhome",
          "company_id": 103,
          "continent": "Asia",
          "country": "China",
          "index": 471
         },
         {
          "city": "Boston",
          "company": "ConcertAI",
          "company_id": 523,
          "continent": "North America",
          "country": "United States",
          "index": 472
         },
         {
          "city": "Shenzhen",
          "company": "SmartMore",
          "company_id": 789,
          "continent": "Asia",
          "country": "China",
          "index": 473
         },
         {
          "city": "Beijing",
          "company": "Maimai",
          "company_id": 961,
          "continent": "Asia",
          "country": "China",
          "index": 474
         },
         {
          "city": "Beijing",
          "company": "58 Daojia",
          "company_id": 854,
          "continent": "Asia",
          "country": "China",
          "index": 475
         },
         {
          "city": "Portola Valley",
          "company": "ClickHouse",
          "company_id": 554,
          "continent": "North America",
          "country": "United States",
          "index": 476
         },
         {
          "city": "Bangalore",
          "company": "CoinSwitch Kuber",
          "company_id": 522,
          "continent": "Asia",
          "country": "India",
          "index": 477
         },
         {
          "city": "Beijing",
          "company": "Huike Group",
          "company_id": 935,
          "continent": "Asia",
          "country": "China",
          "index": 478
         },
         {
          "city": "San Francisco",
          "company": "Chipper Cash",
          "company_id": 552,
          "continent": "North America",
          "country": "United States",
          "index": 479
         },
         {
          "city": "San Francisco",
          "company": "Astranis Space Technologies",
          "company_id": 687,
          "continent": "North America",
          "country": "United States",
          "index": 480
         },
         {
          "city": "Berlin",
          "company": "Enpal",
          "company_id": 815,
          "continent": "Europe",
          "country": "Germany",
          "index": 481
         },
         {
          "city": "Chicago",
          "company": "Clearcover",
          "company_id": 895,
          "continent": "North America",
          "country": "United States",
          "index": 482
         },
         {
          "city": "Jerusalem",
          "company": "Lightricks",
          "company_id": 510,
          "continent": "Asia",
          "country": "Israel",
          "index": 483
         },
         {
          "city": "Mountain View",
          "company": "Moveworks",
          "company_id": 531,
          "continent": "North America",
          "country": "United States",
          "index": 484
         },
         {
          "city": "Beijing",
          "company": "KnowBox",
          "company_id": 949,
          "continent": "Asia",
          "country": "China",
          "index": 485
         },
         {
          "city": "Chemnitz",
          "company": "Staffbase",
          "company_id": 833,
          "continent": "Europe",
          "country": "Germany",
          "index": 486
         },
         {
          "city": "Guangzhou",
          "company": "WTOIP",
          "company_id": 650,
          "continent": "Asia",
          "country": "China",
          "index": 487
         },
         {
          "city": "Washington",
          "company": "Vox Media",
          "company_id": 1057,
          "continent": "North America",
          "country": "United States",
          "index": 488
         },
         {
          "city": "New York",
          "company": "Public",
          "company_id": 785,
          "continent": "North America",
          "country": "United States",
          "index": 489
         },
         {
          "city": "Altrincham",
          "company": "Matillion",
          "company_id": 408,
          "continent": "Europe",
          "country": "United Kingdom",
          "index": 490
         },
         {
          "city": "El Segundo",
          "company": "Savage X Fenty",
          "company_id": 1015,
          "continent": "North America",
          "country": "United States",
          "index": 491
         },
         {
          "city": "Beijing",
          "company": "TalkingData",
          "company_id": 642,
          "continent": "Asia",
          "country": "China",
          "index": 492
         },
         {
          "city": "Menlo Park",
          "company": "Globality",
          "company_id": 617,
          "continent": "North America",
          "country": "United States",
          "index": 493
         },
         {
          "city": "Mumbai",
          "company": "MyGlamm",
          "company_id": 779,
          "continent": "Asia",
          "country": "India",
          "index": 494
         },
         {
          "city": "London",
          "company": "Gousto",
          "company_id": 475,
          "continent": "Europe",
          "country": "United Kingdom",
          "index": 495
         },
         {
          "city": "Ho Chi Minh City",
          "company": "Sky Mavis",
          "company_id": 349,
          "continent": "Asia",
          "country": "Vietnam",
          "index": 496
         },
         {
          "city": "San Francisco",
          "company": "Vercel",
          "company_id": 272,
          "continent": "North America",
          "country": "United States",
          "index": 497
         },
         {
          "city": "Munich",
          "company": "Scalable Capital",
          "company_id": 708,
          "continent": "Europe",
          "country": "Germany",
          "index": 498
         },
         {
          "city": "Austin",
          "company": "FLASH",
          "company_id": 916,
          "continent": "North America",
          "country": "United States",
          "index": 499
         },
         {
          "city": "San Francisco",
          "company": "Komodo Health",
          "company_id": 289,
          "continent": "North America",
          "country": "United States",
          "index": 500
         },
         {
          "city": "Paris",
          "company": "Spendesk",
          "company_id": 675,
          "continent": "Europe",
          "country": "France",
          "index": 501
         },
         {
          "city": "San Francisco",
          "company": "Side",
          "company_id": 266,
          "continent": "North America",
          "country": "United States",
          "index": 502
         },
         {
          "city": "Cambridge",
          "company": "Prime Medicine",
          "company_id": 784,
          "continent": "North America",
          "country": "United States",
          "index": 503
         },
         {
          "city": "San Francisco",
          "company": "CircleCI",
          "company_id": 471,
          "continent": "North America",
          "country": "United States",
          "index": 504
         },
         {
          "city": "Shanghai",
          "company": "iTutorGroup",
          "company_id": 622,
          "continent": "Asia",
          "country": "China",
          "index": 505
         },
         {
          "city": "Dallas",
          "company": "LTK",
          "company_id": 574,
          "continent": "North America",
          "country": "United States",
          "index": 506
         },
         {
          "city": "Mountain View",
          "company": "BigPanda",
          "company_id": 766,
          "continent": "North America",
          "country": "United States",
          "index": 507
         },
         {
          "city": "Pleasanton",
          "company": "Degreed",
          "company_id": 693,
          "continent": "North America",
          "country": "United States",
          "index": 508
         },
         {
          "city": "San Francisco",
          "company": "Extend",
          "company_id": 390,
          "continent": "North America",
          "country": "United States",
          "index": 509
         },
         {
          "city": "Curitiba",
          "company": "Olist",
          "company_id": 413,
          "continent": "South America",
          "country": "Brazil",
          "index": 510
         },
         {
          "city": "Chicago",
          "company": "M1 Finance",
          "company_id": 684,
          "continent": "North America",
          "country": "United States",
          "index": 511
         },
         {
          "city": "San Francisco",
          "company": "Elemy",
          "company_id": 801,
          "continent": "North America",
          "country": "United States",
          "index": 512
         },
         {
          "city": "Bristol",
          "company": "OVO Energy",
          "company_id": 748,
          "continent": "Europe",
          "country": "United Kingdom",
          "index": 513
         },
         {
          "city": "San Mateo",
          "company": "FalconX",
          "company_id": 206,
          "continent": "North America",
          "country": "United States",
          "index": 514
         },
         {
          "city": "San Francisco",
          "company": "Honor Technology",
          "company_id": 752,
          "continent": "North America",
          "country": "United States",
          "index": 515
         },
         {
          "city": "Shanghai",
          "company": "Gaussian Robotics",
          "company_id": 820,
          "continent": "Asia",
          "country": "China",
          "index": 516
         },
         {
          "city": "New York",
          "company": "MediaMath",
          "company_id": 965,
          "continent": "North America",
          "country": "United States",
          "index": 517
         },
         {
          "city": "Waltham",
          "company": "Infinidat",
          "company_id": 448,
          "continent": "North America",
          "country": "United States",
          "index": 518
         },
         {
          "city": "Ra'anana",
          "company": "DriveNets",
          "company_id": 902,
          "continent": "Asia",
          "country": "Israel",
          "index": 519
         },
         {
          "city": "Montpellier",
          "company": "Swile",
          "company_id": 1036,
          "continent": "Europe",
          "country": "France",
          "index": 520
         },
         {
          "city": "New York",
          "company": "Cedar",
          "company_id": 304,
          "continent": "North America",
          "country": "United States",
          "index": 521
         },
         {
          "city": "",
          "company": "Amber Group",
          "company_id": 325,
          "continent": "Asia",
          "country": "Hong Kong",
          "index": 522
         },
         {
          "city": "San Diego",
          "company": "Shield AI",
          "company_id": 1019,
          "continent": "North America",
          "country": "United States",
          "index": 523
         },
         {
          "city": "San Francisco",
          "company": "Clarify Health",
          "company_id": 690,
          "continent": "North America",
          "country": "United States",
          "index": 524
         },
         {
          "city": "Seattle",
          "company": "Rad Power Bikes",
          "company_id": 636,
          "continent": "North America",
          "country": "United States",
          "index": 525
         },
         {
          "city": "San Francisco",
          "company": "Lattice",
          "company_id": 342,
          "continent": "North America",
          "country": "United States",
          "index": 526
         },
         {
          "city": "Oakland",
          "company": "LaunchDarkly",
          "company_id": 343,
          "continent": "North America",
          "country": "United States",
          "index": 527
         },
         {
          "city": "Espoo",
          "company": "HMD Global",
          "company_id": 933,
          "continent": "Europe",
          "country": "Finland",
          "index": 528
         },
         {
          "city": "Tampa",
          "company": "ReliaQuest",
          "company_id": 1011,
          "continent": "North America",
          "country": "United States",
          "index": 529
         },
         {
          "city": "Beijing",
          "company": "Womai",
          "company_id": 1062,
          "continent": "Asia",
          "country": "China",
          "index": 530
         },
         {
          "city": "Bellevue",
          "company": "Zenoti",
          "company_id": 428,
          "continent": "North America",
          "country": "United States",
          "index": 531
         },
         {
          "city": "Chicago",
          "company": "ShipBob",
          "company_id": 1021,
          "continent": "North America",
          "country": "United States",
          "index": 532
         },
         {
          "city": "Berlin",
          "company": "Contentful",
          "company_id": 332,
          "continent": "Europe",
          "country": "Germany",
          "index": 533
         },
         {
          "city": "Jakarta",
          "company": "Kopi Kenangan",
          "company_id": 950,
          "continent": "Asia",
          "country": "Indonesia",
          "index": 534
         },
         {
          "city": "San Francisco",
          "company": "Figma",
          "company_id": 54,
          "continent": "North America",
          "country": "United States",
          "index": 535
         },
         {
          "city": "Sacramento",
          "company": "Ironclad",
          "company_id": 308,
          "continent": "North America",
          "country": "United States",
          "index": 536
         },
         {
          "city": "San Francisco",
          "company": "Algolia",
          "company_id": 493,
          "continent": "North America",
          "country": "United States",
          "index": 537
         },
         {
          "city": "San Francisco",
          "company": "Webflow",
          "company_id": 237,
          "continent": "North America",
          "country": "United States",
          "index": 538
         },
         {
          "city": "New York",
          "company": "Betterment",
          "company_id": 730,
          "continent": "North America",
          "country": "United States",
          "index": 539
         },
         {
          "city": "New York",
          "company": "Loadsmart",
          "company_id": 741,
          "continent": "North America",
          "country": "United States",
          "index": 540
         },
         {
          "city": "Parana",
          "company": "MadeiraMadeira",
          "company_id": 960,
          "continent": "South America",
          "country": "Brazil",
          "index": 541
         },
         {
          "city": "El Segundo",
          "company": "TechStyle Fashion Group",
          "company_id": 1038,
          "continent": "North America",
          "country": "United States",
          "index": 542
         },
         {
          "city": "Oslo",
          "company": "Oda",
          "company_id": 780,
          "continent": "Europe",
          "country": "Norway",
          "index": 543
         },
         {
          "city": "Cambridge",
          "company": "Inari",
          "company_id": 774,
          "continent": "North America",
          "country": "United States",
          "index": 544
         },
         {
          "city": "San Francisco",
          "company": "Human Interest",
          "company_id": 936,
          "continent": "North America",
          "country": "United States",
          "index": 545
         },
         {
          "city": "Westerville",
          "company": "TradingView",
          "company_id": 351,
          "continent": "North America",
          "country": "United States",
          "index": 546
         },
         {
          "city": "London",
          "company": "Zilch",
          "company_id": 602,
          "continent": "Europe",
          "country": "United Kingdom",
          "index": 547
         },
         {
          "city": "San Mateo",
          "company": "Guideline",
          "company_id": 802,
          "continent": "North America",
          "country": "United States",
          "index": 548
         },
         {
          "city": "Seoul",
          "company": "L&P Cosmetic",
          "company_id": 794,
          "continent": "Asia",
          "country": "South Korea",
          "index": 549
         },
         {
          "city": "Lausanne",
          "company": "MindMaze",
          "company_id": 381,
          "continent": "Europe",
          "country": "Switzerland",
          "index": 550
         },
         {
          "city": "Redwood City",
          "company": "Skydio",
          "company_id": 1025,
          "continent": "North America",
          "country": "United States",
          "index": 551
         },
         {
          "city": "Berlin",
          "company": "Sennder",
          "company_id": 831,
          "continent": "Europe",
          "country": "Germany",
          "index": 552
         },
         {
          "city": "San Francisco",
          "company": "Zeta",
          "company_id": 429,
          "continent": "North America",
          "country": "United States",
          "index": 553
         },
         {
          "city": "Santa Clara",
          "company": "Aviatrix",
          "company_id": 547,
          "continent": "North America",
          "country": "United States",
          "index": 554
         },
         {
          "city": "San Francisco",
          "company": "Iterable",
          "company_id": 568,
          "continent": "North America",
          "country": "United States",
          "index": 555
         },
         {
          "city": "San Francisco",
          "company": "Notion Labs",
          "company_id": 57,
          "continent": "North America",
          "country": "United States",
          "index": 556
         },
         {
          "city": "Bogota",
          "company": "LifeMiles",
          "company_id": 628,
          "continent": "South America",
          "country": "Colombia",
          "index": 557
         },
         {
          "city": "Sao Paulo",
          "company": "CloudWalk",
          "company_id": 517,
          "continent": "South America",
          "country": "Brazil",
          "index": 558
         },
         {
          "city": "Mexico City",
          "company": "Merama",
          "company_id": 777,
          "continent": "North America",
          "country": "Mexico",
          "index": 559
         },
         {
          "city": "Prilly",
          "company": "Nexthink",
          "company_id": 827,
          "continent": "Europe",
          "country": "Switzerland",
          "index": 560
         },
         {
          "city": "Seattle",
          "company": "Qumulo",
          "company_id": 786,
          "continent": "North America",
          "country": "United States",
          "index": 561
         },
         {
          "city": "New York",
          "company": "InVision",
          "company_id": 528,
          "continent": "North America",
          "country": "United States",
          "index": 562
         },
         {
          "city": "Boston",
          "company": "Globalization Partners",
          "company_id": 210,
          "continent": "North America",
          "country": "United States",
          "index": 563
         },
         {
          "city": "Bangkok",
          "company": "Flash Express",
          "company_id": 917,
          "continent": "Asia",
          "country": "Thailand",
          "index": 564
         },
         {
          "city": "Atlanta",
          "company": "Calendly",
          "company_id": 328,
          "continent": "North America",
          "country": "United States",
          "index": 565
         },
         {
          "city": "San Francisco",
          "company": "Diamond Foundry",
          "company_id": 508,
          "continent": "North America",
          "country": "United States",
          "index": 566
         },
         {
          "city": "Sunnyvale",
          "company": "Applied Intuition",
          "company_id": 192,
          "continent": "North America",
          "country": "United States",
          "index": 567
         },
         {
          "city": "",
          "company": "PatSnap",
          "company_id": 994,
          "continent": "Asia",
          "country": "Singapore",
          "index": 568
         },
         {
          "city": "Bengaluru",
          "company": "BlackBuck",
          "company_id": 877,
          "continent": "Asia",
          "country": "India",
          "index": 569
         },
         {
          "city": "San Jose",
          "company": "Vectra Networks",
          "company_id": 646,
          "continent": "North America",
          "country": "United States",
          "index": 570
         },
         {
          "city": "Mountain View",
          "company": "Redis Labs",
          "company_id": 589,
          "continent": "North America",
          "country": "United States",
          "index": 571
         },
         {
          "city": "Raleigh",
          "company": "Pendo",
          "company_id": 278,
          "continent": "North America",
          "country": "United States",
          "index": 572
         },
         {
          "city": "Hanover",
          "company": "Dragos",
          "company_id": 474,
          "continent": "North America",
          "country": "United States",
          "index": 573
         },
         {
          "city": "Beijing",
          "company": "FlashEx",
          "company_id": 918,
          "continent": "Asia",
          "country": "China",
          "index": 574
         },
         {
          "city": "Chicago",
          "company": "ActiveCampaign",
          "company_id": 323,
          "continent": "North America",
          "country": "United States",
          "index": 575
         },
         {
          "city": "Beijing",
          "company": "Unisound",
          "company_id": 729,
          "continent": "Asia",
          "country": "China",
          "index": 576
         },
         {
          "city": "Mountain View",
          "company": "TangoMe",
          "company_id": 835,
          "continent": "North America",
          "country": "United States",
          "index": 577
         },
         {
          "city": "Shanghai",
          "company": "Bordrin Motors",
          "company_id": 680,
          "continent": "Asia",
          "country": "China",
          "index": 578
         },
         {
          "city": "Mountain View",
          "company": "Groq",
          "company_id": 927,
          "continent": "North America",
          "country": "United States",
          "index": 579
         },
         {
          "city": "Paris",
          "company": "Alan",
          "company_id": 467,
          "continent": "Europe",
          "country": "France",
          "index": 580
         },
         {
          "city": "Oakland",
          "company": "Roofstock",
          "company_id": 535,
          "continent": "North America",
          "country": "United States",
          "index": 581
         },
         {
          "city": "San Francisco",
          "company": "Helium Systems",
          "company_id": 773,
          "continent": "North America",
          "country": "United States",
          "index": 582
         },
         {
          "city": "New York",
          "company": "Unqork",
          "company_id": 596,
          "continent": "North America",
          "country": "United States",
          "index": 583
         },
         {
          "city": "San Mateo",
          "company": "SiFive",
          "company_id": 267,
          "continent": "North America",
          "country": "United States",
          "index": 584
         },
         {
          "city": "New York",
          "company": "Chainalysis",
          "company_id": 208,
          "continent": "North America",
          "country": "United States",
          "index": 585
         },
         {
          "city": "Beijing",
          "company": "Koudai",
          "company_id": 702,
          "continent": "Asia",
          "country": "China",
          "index": 586
         },
         {
          "city": "Hangzhou",
          "company": "Wacai",
          "company_id": 648,
          "continent": "Asia",
          "country": "China",
          "index": 587
         },
         {
          "city": "London",
          "company": "PPRO",
          "company_id": 1003,
          "continent": "Europe",
          "country": "United Kingdom",
          "index": 588
         },
         {
          "city": "Santiago",
          "company": "NotCo",
          "company_id": 412,
          "continent": "South America",
          "country": "Chile",
          "index": 589
         },
         {
          "city": "San Francisco",
          "company": "Divvy Homes",
          "company_id": 558,
          "continent": "North America",
          "country": "United States",
          "index": 590
         },
         {
          "city": "San Mateo",
          "company": "SnapLogic",
          "company_id": 1029,
          "continent": "North America",
          "country": "United States",
          "index": 591
         },
         {
          "city": "Bellevue",
          "company": "Icertis",
          "company_id": 158,
          "continent": "North America",
          "country": "United States",
          "index": 592
         },
         {
          "city": "Gurgaon",
          "company": "Urban Company",
          "company_id": 536,
          "continent": "Asia",
          "country": "India",
          "index": 593
         },
         {
          "city": "San Francisco",
          "company": "Virta Health",
          "company_id": 598,
          "continent": "North America",
          "country": "United States",
          "index": 594
         },
         {
          "city": "New York",
          "company": "ZocDoc",
          "company_id": 512,
          "continent": "North America",
          "country": "United States",
          "index": 595
         },
         {
          "city": "Shanghai",
          "company": "ZongMu Technology",
          "company_id": 39,
          "continent": "Asia",
          "country": "China",
          "index": 596
         },
         {
          "city": "Milpitas",
          "company": "Tarana Wireless",
          "company_id": 1037,
          "continent": "North America",
          "country": "United States",
          "index": 597
         },
         {
          "city": "Bengaluru",
          "company": "Mobile Premier League",
          "company_id": 431,
          "continent": "Asia",
          "country": "India",
          "index": 598
         },
         {
          "city": "Mexico City",
          "company": "Konfio",
          "company_id": 739,
          "continent": "North America",
          "country": "Mexico",
          "index": 599
         },
         {
          "city": "Mexico City",
          "company": "Bitso",
          "company_id": 499,
          "continent": "North America",
          "country": "Mexico",
          "index": 600
         },
         {
          "city": "Denver",
          "company": "Guild Education",
          "company_id": 207,
          "continent": "North America",
          "country": "United States",
          "index": 601
         },
         {
          "city": "Shanghai",
          "company": "Zhaogang",
          "company_id": 1069,
          "continent": "Asia",
          "country": "China",
          "index": 602
         },
         {
          "city": "San Francisco",
          "company": "Innovaccer",
          "company_id": 307,
          "continent": "North America",
          "country": "United States",
          "index": 603
         },
         {
          "city": "New York",
          "company": "ASAPP",
          "company_id": 437,
          "continent": "North America",
          "country": "United States",
          "index": 604
         },
         {
          "city": "Prague",
          "company": "Rohlik",
          "company_id": 787,
          "continent": "Europe",
          "country": "Czech Republic",
          "index": 605
         },
         {
          "city": "New York",
          "company": "Andela",
          "company_id": 392,
          "continent": "North America",
          "country": "United States",
          "index": 606
         },
         {
          "city": "Atlanta",
          "company": "Flock Safety",
          "company_id": 182,
          "continent": "North America",
          "country": "United States",
          "index": 607
         },
         {
          "city": "Cambridge",
          "company": "Devo",
          "company_id": 401,
          "continent": "North America",
          "country": "United States",
          "index": 608
         },
         {
          "city": "Mexico City",
          "company": "Clip",
          "company_id": 555,
          "continent": "North America",
          "country": "Mexico",
          "index": 609
         },
         {
          "city": "Los Angeles",
          "company": "VideoAmp",
          "company_id": 713,
          "continent": "North America",
          "country": "United States",
          "index": 610
         },
         {
          "city": "San Francisco",
          "company": "GrubMarket",
          "company_id": 772,
          "continent": "North America",
          "country": "United States",
          "index": 611
         },
         {
          "city": "San Francisco",
          "company": "GupShup",
          "company_id": 700,
          "continent": "North America",
          "country": "United States",
          "index": 612
         },
         {
          "city": "Burnaby",
          "company": "Clio",
          "company_id": 442,
          "continent": "North America",
          "country": "Canada",
          "index": 613
         },
         {
          "city": "Beijing",
          "company": "Beisen",
          "company_id": 663,
          "continent": "Asia",
          "country": "China",
          "index": 614
         },
         {
          "city": "Suzhou",
          "company": "Yunxuetang",
          "company_id": 1068,
          "continent": "Asia",
          "country": "China",
          "index": 615
         },
         {
          "city": "San Jose",
          "company": "Signifyd",
          "company_id": 722,
          "continent": "North America",
          "country": "United States",
          "index": 616
         },
         {
          "city": "Foster City",
          "company": "Exabeam",
          "company_id": 444,
          "continent": "North America",
          "country": "United States",
          "index": 617
         },
         {
          "city": "Sao Paulo",
          "company": "CargoX",
          "company_id": 888,
          "continent": "South America",
          "country": "Brazil",
          "index": 618
         },
         {
          "city": "Beijing",
          "company": "Fenbi Education",
          "company_id": 366,
          "continent": "Asia",
          "country": "China",
          "index": 619
         },
         {
          "city": "Chengdu",
          "company": "Fiture",
          "company_id": 915,
          "continent": "Asia",
          "country": "China",
          "index": 620
         },
         {
          "city": "Bengaluru",
          "company": "Groww",
          "company_id": 339,
          "continent": "Asia",
          "country": "India",
          "index": 621
         },
         {
          "city": "Evry",
          "company": "Ynsect",
          "company_id": 656,
          "continent": "Europe",
          "country": "France",
          "index": 622
         },
         {
          "city": "Wuhan",
          "company": "ECARX",
          "company_id": 659,
          "continent": "Asia",
          "country": "China",
          "index": 623
         },
         {
          "city": "Boca Raton",
          "company": "Modernizing Medicine",
          "company_id": 631,
          "continent": "North America",
          "country": "United States",
          "index": 624
         },
         {
          "city": "New York",
          "company": "Axonius",
          "company_id": 275,
          "continent": "North America",
          "country": "United States",
          "index": 625
         },
         {
          "city": "Qingdao",
          "company": "TELD",
          "company_id": 807,
          "continent": "Asia",
          "country": "China",
          "index": 626
         },
         {
          "city": "Berlin",
          "company": "Omio",
          "company_id": 985,
          "continent": "Europe",
          "country": "Germany",
          "index": 627
         },
         {
          "city": "Seoul",
          "company": "WEMAKEPRICE",
          "company_id": 466,
          "continent": "Asia",
          "country": "South Korea",
          "index": 628
         },
         {
          "city": "Santa Clara",
          "company": "Eightfold.ai",
          "company_id": 524,
          "continent": "North America",
          "country": "United States",
          "index": 629
         },
         {
          "city": "Los Angeles",
          "company": "BlockDaemon",
          "company_id": 296,
          "continent": "North America",
          "country": "United States",
          "index": 630
         },
         {
          "city": "Encinitas",
          "company": "Flock Freight",
          "company_id": 735,
          "continent": "North America",
          "country": "United States",
          "index": 631
         },
         {
          "city": "Los Angeles",
          "company": "Skims",
          "company_id": 309,
          "continent": "North America",
          "country": "United States",
          "index": 632
         },
         {
          "city": "Plantation",
          "company": "Magic Leap",
          "company_id": 577,
          "continent": "North America",
          "country": "United States",
          "index": 633
         },
         {
          "city": "Philadelphia",
          "company": "goPuff",
          "company_id": 23,
          "continent": "North America",
          "country": "United States",
          "index": 634
         },
         {
          "city": "Changzhou",
          "company": "SVOLT",
          "company_id": 105,
          "continent": "Asia",
          "country": "China",
          "index": 635
         },
         {
          "city": "San Francisco",
          "company": "Databricks",
          "company_id": 9,
          "continent": "North America",
          "country": "United States",
          "index": 636
         },
         {
          "city": "Beijing",
          "company": "Zuoyebang",
          "company_id": 46,
          "continent": "Asia",
          "country": "China",
          "index": 637
         },
         {
          "city": "San Francisco",
          "company": "Instacart",
          "company_id": 7,
          "continent": "North America",
          "country": "United States",
          "index": 638
         },
         {
          "city": "Gurugram",
          "company": "OYO Rooms",
          "company_id": 48,
          "continent": "Asia",
          "country": "India",
          "index": 639
         },
         {
          "city": "San Francisco",
          "company": "Dialpad",
          "company_id": 502,
          "continent": "North America",
          "country": "United States",
          "index": 640
         },
         {
          "city": "San Francisco",
          "company": "Grammarly",
          "company_id": 28,
          "continent": "North America",
          "country": "United States",
          "index": 641
         },
         {
          "city": "Shanghai",
          "company": "YITU Technology",
          "company_id": 516,
          "continent": "Asia",
          "country": "China",
          "index": 642
         },
         {
          "city": "Boston",
          "company": "BitSight Technologies",
          "company_id": 438,
          "continent": "North America",
          "country": "United States",
          "index": 643
         },
         {
          "city": "New York",
          "company": "Current",
          "company_id": 501,
          "continent": "North America",
          "country": "United States",
          "index": 644
         },
         {
          "city": "Denver",
          "company": "DispatchHealth",
          "company_id": 473,
          "continent": "North America",
          "country": "United States",
          "index": 645
         },
         {
          "city": "Berlin",
          "company": "solarisBank",
          "company_id": 465,
          "continent": "Europe",
          "country": "Germany",
          "index": 646
         },
         {
          "city": "London",
          "company": "Thought Machine",
          "company_id": 1044,
          "continent": "Europe",
          "country": "United Kingdom",
          "index": 647
         },
         {
          "city": "San Francisco",
          "company": "Fundbox",
          "company_id": 818,
          "continent": "North America",
          "country": "United States",
          "index": 648
         },
         {
          "city": "Boston",
          "company": "Whoop",
          "company_id": 195,
          "continent": "North America",
          "country": "United States",
          "index": 649
         },
         {
          "city": "New York",
          "company": "Better.com",
          "company_id": 125,
          "continent": "North America",
          "country": "United States",
          "index": 650
         },
         {
          "city": "New York",
          "company": "CAIS",
          "company_id": 885,
          "continent": "North America",
          "country": "United States",
          "index": 651
         },
         {
          "city": "Madrid",
          "company": "Cabify",
          "company_id": 689,
          "continent": "Europe",
          "country": "Spain",
          "index": 652
         },
         {
          "city": "San Francisco",
          "company": "Ethos",
          "company_id": 288,
          "continent": "North America",
          "country": "United States",
          "index": 653
         },
         {
          "city": "Louisville",
          "company": "JumpCloud",
          "company_id": 280,
          "continent": "North America",
          "country": "United States",
          "index": 654
         },
         {
          "city": "Jeju-do",
          "company": "Socar",
          "company_id": 843,
          "continent": "Asia",
          "country": "South Korea",
          "index": 655
         },
         {
          "city": "Schaffhausen",
          "company": "Acronis",
          "company_id": 256,
          "continent": "Europe",
          "country": "Switzerland",
          "index": 656
         },
         {
          "city": "San Mateo",
          "company": "Neo4j",
          "company_id": 582,
          "continent": "North America",
          "country": "United States",
          "index": 657
         },
         {
          "city": "Barcelona",
          "company": "TravelPerk",
          "company_id": 745,
          "continent": "Europe",
          "country": "Spain",
          "index": 658
         },
         {
          "city": "Santa Clara",
          "company": "Dremio",
          "company_id": 559,
          "continent": "North America",
          "country": "United States",
          "index": 659
         },
         {
          "city": "Tokyo",
          "company": "SmartNews",
          "company_id": 590,
          "continent": "Asia",
          "country": "Japan",
          "index": 660
         },
         {
          "city": "San Francisco",
          "company": "Benchling",
          "company_id": 124,
          "continent": "North America",
          "country": "United States",
          "index": 661
         },
         {
          "city": "San Francisco",
          "company": "Patreon",
          "company_id": 233,
          "continent": "North America",
          "country": "United States",
          "index": 662
         },
         {
          "city": "Philadelphia",
          "company": "dbt Labs",
          "company_id": 209,
          "continent": "North America",
          "country": "United States",
          "index": 663
         },
         {
          "city": "Boston",
          "company": "Starburst",
          "company_id": 284,
          "continent": "North America",
          "country": "United States",
          "index": 664
         },
         {
          "city": "Mountain View",
          "company": "Workato",
          "company_id": 119,
          "continent": "North America",
          "country": "United States",
          "index": 665
         },
         {
          "city": "Milan",
          "company": "Scalapay",
          "company_id": 1016,
          "continent": "Europe",
          "country": "Italy",
          "index": 666
         },
         {
          "city": "Dallas",
          "company": "o9 Solutions",
          "company_id": 291,
          "continent": "North America",
          "country": "United States",
          "index": 667
         },
         {
          "city": "Tel Aviv",
          "company": "Pagaya",
          "company_id": 371,
          "continent": "Asia",
          "country": "Israel",
          "index": 668
         },
         {
          "city": "San Francisco",
          "company": "KeepTruckin",
          "company_id": 488,
          "continent": "North America",
          "country": "United States",
          "index": 669
         },
         {
          "city": "Dubai",
          "company": "Vista Global",
          "company_id": 245,
          "continent": "Asia",
          "country": "United Arab Emirates",
          "index": 670
         },
         {
          "city": "El Segundo",
          "company": "ABL Space Systems",
          "company_id": 435,
          "continent": "North America",
          "country": "United States",
          "index": 671
         },
         {
          "city": "Lehi",
          "company": "Podium",
          "company_id": 346,
          "continent": "North America",
          "country": "United States",
          "index": 672
         },
         {
          "city": "Boston",
          "company": "ezCater",
          "company_id": 445,
          "continent": "North America",
          "country": "United States",
          "index": 673
         },
         {
          "city": "Paris",
          "company": "Ankorstore",
          "company_id": 539,
          "continent": "Europe",
          "country": "France",
          "index": 674
         },
         {
          "city": "Mountain View",
          "company": "BloomReach",
          "company_id": 500,
          "continent": "North America",
          "country": "United States",
          "index": 675
         },
         {
          "city": "Mountain View",
          "company": "Zume",
          "company_id": 497,
          "continent": "North America",
          "country": "United States",
          "index": 676
         },
         {
          "city": "New York",
          "company": "Gemini",
          "company_id": 99,
          "continent": "North America",
          "country": "United States",
          "index": 677
         },
         {
          "city": "Bengaluru",
          "company": "NoBroker",
          "company_id": 981,
          "continent": "Asia",
          "country": "India",
          "index": 678
         },
         {
          "city": "Tel Aviv",
          "company": "Moon Active",
          "company_id": 159,
          "continent": "Asia",
          "country": "Israel",
          "index": 679
         },
         {
          "city": "San Francisco",
          "company": "6Sense",
          "company_id": 150,
          "continent": "North America",
          "country": "United States",
          "index": 680
         },
         {
          "city": "New York",
          "company": "Stash",
          "company_id": 710,
          "continent": "North America",
          "country": "United States",
          "index": 681
         },
         {
          "city": "San Diego",
          "company": "Seismic",
          "company_id": 348,
          "continent": "North America",
          "country": "United States",
          "index": 682
         },
         {
          "city": "New York",
          "company": "OpenSea",
          "company_id": 27,
          "continent": "North America",
          "country": "United States",
          "index": 683
         },
         {
          "city": "Bengaluru",
          "company": "LivSpace",
          "company_id": 776,
          "continent": "Asia",
          "country": "India",
          "index": 684
         },
         {
          "city": "Copenhagen",
          "company": "Pleo",
          "company_id": 145,
          "continent": "Europe",
          "country": "Denmark",
          "index": 685
         },
         {
          "city": "New York",
          "company": "Jokr",
          "company_id": 775,
          "continent": "North America",
          "country": "United States",
          "index": 686
         },
         {
          "city": "San Francisco",
          "company": "AppDirect",
          "company_id": 385,
          "continent": "North America",
          "country": "United States",
          "index": 687
         },
         {
          "city": "New York",
          "company": "VerbIT",
          "company_id": 597,
          "continent": "North America",
          "country": "United States",
          "index": 688
         },
         {
          "city": "Shanghai",
          "company": "Ouyeel",
          "company_id": 685,
          "continent": "Asia",
          "country": "China",
          "index": 689
         },
         {
          "city": "San Francisco",
          "company": "Postman",
          "company_id": 112,
          "continent": "North America",
          "country": "United States",
          "index": 690
         },
         {
          "city": "Islandia",
          "company": "Pharmapacks",
          "company_id": 829,
          "continent": "North America",
          "country": "United States",
          "index": 691
         },
         {
          "city": "Toronto",
          "company": "Clearco",
          "company_id": 553,
          "continent": "North America",
          "country": "Canada",
          "index": 692
         },
         {
          "city": "Ho Chi Minh City",
          "company": "MoMo",
          "company_id": 492,
          "continent": "Asia",
          "country": "Vietnam",
          "index": 693
         },
         {
          "city": "San Francisco",
          "company": "Handshake",
          "company_id": 183,
          "continent": "North America",
          "country": "United States",
          "index": 694
         },
         {
          "city": "San Ramon",
          "company": "Tekion",
          "company_id": 188,
          "continent": "North America",
          "country": "United States",
          "index": 695
         },
         {
          "city": "Pune",
          "company": "ElasticRun",
          "company_id": 402,
          "continent": "Asia",
          "country": "India",
          "index": 696
         },
         {
          "city": "Houston",
          "company": "Solugen",
          "company_id": 419,
          "continent": "North America",
          "country": "United States",
          "index": 697
         },
         {
          "city": "New York",
          "company": "Yotpo",
          "company_id": 715,
          "continent": "North America",
          "country": "United States",
          "index": 698
         },
         {
          "city": "Jakarta",
          "company": "Akulaku",
          "company_id": 543,
          "continent": "Asia",
          "country": "Indonesia",
          "index": 699
         },
         {
          "city": "Beijing",
          "company": "Geek+",
          "company_id": 923,
          "continent": "Asia",
          "country": "China",
          "index": 700
         },
         {
          "city": "Hangzhou",
          "company": "Shulan Health",
          "company_id": 638,
          "continent": "Asia",
          "country": "China",
          "index": 701
         },
         {
          "city": "San Francisco",
          "company": "Eat Just",
          "company_id": 660,
          "continent": "North America",
          "country": "United States",
          "index": 702
         },
         {
          "city": "New York",
          "company": "Papaya Global",
          "company_id": 199,
          "continent": "North America",
          "country": "United States",
          "index": 703
         },
         {
          "city": "Pune",
          "company": "FirstCry",
          "company_id": 525,
          "continent": "Asia",
          "country": "India",
          "index": 704
         },
         {
          "city": "Chongqing",
          "company": "Zhubajie",
          "company_id": 458,
          "continent": "Asia",
          "country": "China",
          "index": 705
         },
         {
          "city": "Carlsbad",
          "company": "Vuori",
          "company_id": 236,
          "continent": "North America",
          "country": "United States",
          "index": 706
         },
         {
          "city": "San Francisco",
          "company": "Rippling",
          "company_id": 90,
          "continent": "North America",
          "country": "United States",
          "index": 707
         },
         {
          "city": "Amsterdam",
          "company": "Mambu",
          "company_id": 108,
          "continent": "Europe",
          "country": "Netherlands",
          "index": 708
         },
         {
          "city": "Aarhus",
          "company": "Lunar",
          "company_id": 575,
          "continent": "Europe",
          "country": "Denmark",
          "index": 709
         },
         {
          "city": "Jaipur",
          "company": "CarDekho",
          "company_id": 767,
          "continent": "Asia",
          "country": "India",
          "index": 710
         },
         {
          "city": "San Francisco",
          "company": "Omada Health",
          "company_id": 984,
          "continent": "North America",
          "country": "United States",
          "index": 711
         },
         {
          "city": "Paris",
          "company": "BlaBlaCar",
          "company_id": 548,
          "continent": "Europe",
          "country": "France",
          "index": 712
         },
         {
          "city": "Miami",
          "company": "Yuga Labs",
          "company_id": 238,
          "continent": "North America",
          "country": "United States",
          "index": 713
         },
         {
          "city": "Lehi",
          "company": "MX Technologies",
          "company_id": 532,
          "continent": "North America",
          "country": "United States",
          "index": 714
         },
         {
          "city": "Croix",
          "company": "Exotec",
          "company_id": 562,
          "continent": "Europe",
          "country": "France",
          "index": 715
         },
         {
          "city": "San Francisco",
          "company": "Tonal",
          "company_id": 453,
          "continent": "North America",
          "country": "United States",
          "index": 716
         },
         {
          "city": "Chennai",
          "company": "Five Star Business Finance",
          "company_id": 699,
          "continent": "Asia",
          "country": "India",
          "index": 717
         },
         {
          "city": "San Francisco",
          "company": "Deliverr",
          "company_id": 557,
          "continent": "North America",
          "country": "United States",
          "index": 718
         },
         {
          "city": "Bengaluru",
          "company": "Acko General Insurance",
          "company_id": 808,
          "continent": "Asia",
          "country": "India",
          "index": 719
         },
         {
          "city": "Vancouver",
          "company": "Nexii",
          "company_id": 759,
          "continent": "North America",
          "country": "Canada",
          "index": 720
         },
         {
          "city": "San Francisco",
          "company": "Boba",
          "company_id": 357,
          "continent": "North America",
          "country": "United States",
          "index": 721
         },
         {
          "city": "New York",
          "company": "Gauntlet Networks",
          "company_id": 922,
          "continent": "North America",
          "country": "United States",
          "index": 722
         },
         {
          "city": "Curitiba",
          "company": "EBANX",
          "company_id": 905,
          "continent": "South America",
          "country": "Brazil",
          "index": 723
         },
         {
          "city": "San Francisco",
          "company": "MasterClass",
          "company_id": 300,
          "continent": "North America",
          "country": "United States",
          "index": 724
         },
         {
          "city": "San Francisco",
          "company": "Cerebral",
          "company_id": 151,
          "continent": "North America",
          "country": "United States",
          "index": 725
         },
         {
          "city": "Chicago",
          "company": "Nature's Fynd",
          "company_id": 976,
          "continent": "North America",
          "country": "United States",
          "index": 726
         },
         {
          "city": "McLean",
          "company": "Somatus",
          "company_id": 268,
          "continent": "North America",
          "country": "United States",
          "index": 727
         },
         {
          "city": "Paris",
          "company": "Ledger",
          "company_id": 406,
          "continent": "Europe",
          "country": "France",
          "index": 728
         },
         {
          "city": "Istanbul",
          "company": "Dream Games",
          "company_id": 298,
          "continent": "Europe",
          "country": "Turkey",
          "index": 729
         },
         {
          "city": "Walnut",
          "company": "ChargeBee Technologies",
          "company_id": 179,
          "continent": "North America",
          "country": "United States",
          "index": 730
         },
         {
          "city": "",
          "company": "Moglix",
          "company_id": 242,
          "continent": "Asia",
          "country": "Singapore",
          "index": 731
         },
         {
          "city": "Shanghai",
          "company": "Enflame",
          "company_id": 387,
          "continent": "Asia",
          "country": "China",
          "index": 732
         },
         {
          "city": "Vancouver",
          "company": "Trulioo",
          "company_id": 496,
          "continent": "North America",
          "country": "Canada",
          "index": 733
         },
         {
          "city": "San Francisco",
          "company": "Flutterwave",
          "company_id": 336,
          "continent": "North America",
          "country": "United States",
          "index": 734
         },
         {
          "city": "San Francisco",
          "company": "Grove Collaborative",
          "company_id": 727,
          "continent": "North America",
          "country": "United States",
          "index": 735
         },
         {
          "city": "Sunnyvale",
          "company": "Druva",
          "company_id": 560,
          "continent": "North America",
          "country": "United States",
          "index": 736
         },
         {
          "city": "Houston",
          "company": "HighRadius",
          "company_id": 318,
          "continent": "North America",
          "country": "United States",
          "index": 737
         },
         {
          "city": "Taguig City",
          "company": "Mynt",
          "company_id": 581,
          "continent": "Asia",
          "country": "Philippines",
          "index": 738
         },
         {
          "city": "San Francisco",
          "company": "Miro",
          "company_id": 18,
          "continent": "North America",
          "country": "United States",
          "index": 739
         },
         {
          "city": "Redwood City",
          "company": "Course Hero",
          "company_id": 193,
          "continent": "North America",
          "country": "United States",
          "index": 740
         },
         {
          "city": "London",
          "company": "Bought By Many",
          "company_id": 358,
          "continent": "Europe",
          "country": "United Kingdom",
          "index": 741
         },
         {
          "city": "Lehi",
          "company": "Route",
          "company_id": 757,
          "continent": "North America",
          "country": "United States",
          "index": 742
         },
         {
          "city": "Kitchener",
          "company": "ApplyBoard",
          "company_id": 302,
          "continent": "North America",
          "country": "Canada",
          "index": 743
         },
         {
          "city": "South San Francisco",
          "company": "Zipline",
          "company_id": 311,
          "continent": "North America",
          "country": "United States",
          "index": 744
         },
         {
          "city": "San Francisco",
          "company": "Rothy's",
          "company_id": 1013,
          "continent": "North America",
          "country": "United States",
          "index": 745
         },
         {
          "city": "New York",
          "company": "Rokt",
          "company_id": 537,
          "continent": "North America",
          "country": "United States",
          "index": 746
         },
         {
          "city": "San Francisco",
          "company": "Anchorage Digital",
          "company_id": 326,
          "continent": "North America",
          "country": "United States",
          "index": 747
         },
         {
          "city": "Seattle",
          "company": "Outreach",
          "company_id": 190,
          "continent": "North America",
          "country": "United States",
          "index": 748
         },
         {
          "city": "Bengaluru",
          "company": "Licious",
          "company_id": 955,
          "continent": "Asia",
          "country": "India",
          "index": 749
         },
         {
          "city": "London",
          "company": "Blockchain.com",
          "company_id": 24,
          "continent": "Europe",
          "country": "United Kingdom",
          "index": 750
         },
         {
          "city": "Shenzhen",
          "company": "Royole Corporation",
          "company_id": 133,
          "continent": "Asia",
          "country": "China",
          "index": 751
         },
         {
          "city": "New York",
          "company": "YipitData",
          "company_id": 1067,
          "continent": "North America",
          "country": "United States",
          "index": 752
         },
         {
          "city": "Culver City",
          "company": "GOAT",
          "company_id": 197,
          "continent": "North America",
          "country": "United States",
          "index": 753
         },
         {
          "city": "Detroit",
          "company": "StockX",
          "company_id": 213,
          "continent": "North America",
          "country": "United States",
          "index": 754
         },
         {
          "city": "London",
          "company": "PayFit",
          "company_id": 533,
          "continent": "Europe",
          "country": "United Kingdom",
          "index": 755
         },
         {
          "city": "Guangzhou",
          "company": "Yaoshibang",
          "company_id": 721,
          "continent": "Asia",
          "country": "China",
          "index": 756
         },
         {
          "city": "Sunnyvale",
          "company": "Clari",
          "company_id": 276,
          "continent": "North America",
          "country": "United States",
          "index": 757
         },
         {
          "city": "San Francisco",
          "company": "Remote",
          "company_id": 347,
          "continent": "North America",
          "country": "United States",
          "index": 758
         },
         {
          "city": "San Francisco",
          "company": "Talkdesk",
          "company_id": 59,
          "continent": "North America",
          "country": "United States",
          "index": 759
         },
         {
          "city": "New York",
          "company": "Bowery Farming",
          "company_id": 486,
          "continent": "North America",
          "country": "United States",
          "index": 760
         },
         {
          "city": "Burlingame",
          "company": "Color",
          "company_id": 142,
          "continent": "North America",
          "country": "United States",
          "index": 761
         },
         {
          "city": "San Francisco",
          "company": "HoneyBook",
          "company_id": 447,
          "continent": "North America",
          "country": "United States",
          "index": 762
         },
         {
          "city": "Eden Prairie",
          "company": "Arctic Wolf Networks",
          "company_id": 196,
          "continent": "North America",
          "country": "United States",
          "index": 763
         },
         {
          "city": "Beijing",
          "company": "Chehaoduo",
          "company_id": 52,
          "continent": "Asia",
          "country": "China",
          "index": 764
         },
         {
          "city": "Bengaluru",
          "company": "BYJU's",
          "company_id": 15,
          "continent": "Asia",
          "country": "India",
          "index": 765
         },
         {
          "city": "Jacksonville",
          "company": "Fanatics",
          "company_id": 13,
          "continent": "North America",
          "country": "United States",
          "index": 766
         },
         {
          "city": "Beijing",
          "company": "Yuanfudao",
          "company_id": 19,
          "continent": "Asia",
          "country": "China",
          "index": 767
         },
         {
          "city": "Stockholm",
          "company": "Northvolt",
          "company_id": 30,
          "continent": "Europe",
          "country": "Sweden",
          "index": 768
         },
         {
          "city": "Bengaluru",
          "company": "Ola Cabs",
          "company_id": 89,
          "continent": "Asia",
          "country": "India",
          "index": 769
         },
         {
          "city": "Shanghai",
          "company": "WM Motor",
          "company_id": 166,
          "continent": "Asia",
          "country": "China",
          "index": 770
         },
         {
          "city": "Pittsburgh",
          "company": "Argo AI",
          "company_id": 29,
          "continent": "North America",
          "country": "United States",
          "index": 771
         },
         {
          "city": "Stockholm",
          "company": "Klarna",
          "company_id": 4,
          "continent": "Europe",
          "country": "Sweden",
          "index": 772
         },
         {
          "city": "Glendale",
          "company": "Age of Learning",
          "company_id": 324,
          "continent": "North America",
          "country": "United States",
          "index": 773
         },
         {
          "city": "Burlington",
          "company": "Aura",
          "company_id": 257,
          "continent": "North America",
          "country": "United States",
          "index": 774
         },
         {
          "city": "Shanghai",
          "company": "United Imaging Healthcare",
          "company_id": 165,
          "continent": "Asia",
          "country": "China",
          "index": 775
         },
         {
          "city": "Cambridge",
          "company": "Cambridge Mobile Telematics",
          "company_id": 359,
          "continent": "North America",
          "country": "United States",
          "index": 776
         },
         {
          "city": "Beijing",
          "company": "Mafengwo",
          "company_id": 576,
          "continent": "Asia",
          "country": "China",
          "index": 777
         },
         {
          "city": "New York",
          "company": "Melio",
          "company_id": 230,
          "continent": "North America",
          "country": "United States",
          "index": 778
         },
         {
          "city": "Dubai",
          "company": "Kitopi",
          "company_id": 948,
          "continent": "Asia",
          "country": "United Arab Emirates",
          "index": 779
         },
         {
          "city": "San Francisco",
          "company": "Coalition",
          "company_id": 180,
          "continent": "North America",
          "country": "United States",
          "index": 780
         },
         {
          "city": "Sao Paulo",
          "company": "Loggi",
          "company_id": 573,
          "continent": "South America",
          "country": "Brazil",
          "index": 781
         },
         {
          "city": "Palo Alto",
          "company": "Medable",
          "company_id": 530,
          "continent": "North America",
          "country": "United States",
          "index": 782
         },
         {
          "city": "Englewood Cliffs",
          "company": "OwnBackup",
          "company_id": 283,
          "continent": "North America",
          "country": "United States",
          "index": 783
         },
         {
          "city": "Irvine",
          "company": "Acorns",
          "company_id": 520,
          "continent": "North America",
          "country": "United States",
          "index": 784
         },
         {
          "city": "Gurugram",
          "company": "Spinny",
          "company_id": 495,
          "continent": "Asia",
          "country": "India",
          "index": 785
         },
         {
          "city": "Stockholm",
          "company": "Epidemic Sound",
          "company_id": 696,
          "continent": "Europe",
          "country": "Sweden",
          "index": 786
         },
         {
          "city": "New York",
          "company": "Symphony",
          "company_id": 711,
          "continent": "North America",
          "country": "United States",
          "index": 787
         },
         {
          "city": "Beijing",
          "company": "Yijiupi",
          "company_id": 678,
          "continent": "Asia",
          "country": "China",
          "index": 788
         },
         {
          "city": "Guangzhou",
          "company": "CloudWalk Technology",
          "company_id": 132,
          "continent": "Asia",
          "country": "China",
          "index": 789
         },
         {
          "city": "",
          "company": "ONE",
          "company_id": 986,
          "continent": "Asia",
          "country": "Singapore",
          "index": 790
         },
         {
          "city": "Stockholm",
          "company": "VOI",
          "company_id": 1056,
          "continent": "Europe",
          "country": "Sweden",
          "index": 791
         },
         {
          "city": "Paris",
          "company": "Voodoo",
          "company_id": 469,
          "continent": "Europe",
          "country": "France",
          "index": 792
         },
         {
          "city": "Beijing",
          "company": "HuiMin",
          "company_id": 566,
          "continent": "Asia",
          "country": "China",
          "index": 793
         },
         {
          "city": "Charlotte",
          "company": "Tresata",
          "company_id": 1047,
          "continent": "North America",
          "country": "United States",
          "index": 794
         },
         {
          "city": "San Francisco",
          "company": "PandaDoc",
          "company_id": 992,
          "continent": "North America",
          "country": "United States",
          "index": 795
         },
         {
          "city": "Tsuruoka",
          "company": "Spiber",
          "company_id": 762,
          "continent": "Asia",
          "country": "Japan",
          "index": 796
         },
         {
          "city": "Pune",
          "company": "Rebel Foods",
          "company_id": 706,
          "continent": "Asia",
          "country": "India",
          "index": 797
         },
         {
          "city": "San Francisco",
          "company": "Aurora Solar",
          "company_id": 221,
          "continent": "North America",
          "country": "United States",
          "index": 798
         },
         {
          "city": "Shanghai",
          "company": "Guoquan Shihui",
          "company_id": 564,
          "continent": "Asia",
          "country": "China",
          "index": 799
         },
         {
          "city": "San Francisco",
          "company": "Carbon Health",
          "company_id": 329,
          "continent": "North America",
          "country": "United States",
          "index": 800
         },
         {
          "city": "Wuxi",
          "company": "China Cloud",
          "company_id": 608,
          "continent": "Asia",
          "country": "China",
          "index": 801
         },
         {
          "city": "Munich",
          "company": "Personio",
          "company_id": 116,
          "continent": "Europe",
          "country": "Germany",
          "index": 802
         },
         {
          "city": "San Francisco",
          "company": "Alto Pharmacy",
          "company_id": 859,
          "continent": "North America",
          "country": "United States",
          "index": 803
         },
         {
          "city": "New York",
          "company": "Gympass",
          "company_id": 504,
          "continent": "North America",
          "country": "United States",
          "index": 804
         },
         {
          "city": "New York",
          "company": "Forter",
          "company_id": 337,
          "continent": "North America",
          "country": "United States",
          "index": 805
         },
         {
          "city": "New York",
          "company": "BlueVoyant",
          "company_id": 879,
          "continent": "North America",
          "country": "United States",
          "index": 806
         },
         {
          "city": "Pennsauken",
          "company": "Misfits Market",
          "company_id": 578,
          "continent": "North America",
          "country": "United States",
          "index": 807
         },
         {
          "city": "London",
          "company": "GoCardless",
          "company_id": 527,
          "continent": "Europe",
          "country": "United Kingdom",
          "index": 808
         },
         {
          "city": "Shanghai",
          "company": "LinkSure Network",
          "company_id": 629,
          "continent": "Asia",
          "country": "China",
          "index": 809
         },
         {
          "city": "Bengaluru",
          "company": "Digit Insurance",
          "company_id": 260,
          "continent": "Asia",
          "country": "India",
          "index": 810
         },
         {
          "city": "Paris",
          "company": "Deezer",
          "company_id": 692,
          "continent": "Europe",
          "country": "France",
          "index": 811
         },
         {
          "city": "Tel Aviv",
          "company": "Cato Networks",
          "company_id": 259,
          "continent": "Asia",
          "country": "Israel",
          "index": 812
         },
         {
          "city": "Ottawa",
          "company": "Assent",
          "company_id": 867,
          "continent": "North America",
          "country": "Canada",
          "index": 813
         },
         {
          "city": "New York",
          "company": "Grafana Labs",
          "company_id": 338,
          "continent": "North America",
          "country": "United States",
          "index": 814
         },
         {
          "city": "San Diego",
          "company": "ClickUp",
          "company_id": 225,
          "continent": "North America",
          "country": "United States",
          "index": 815
         },
         {
          "city": "Hangzhou",
          "company": "Cgtz",
          "company_id": 362,
          "continent": "Asia",
          "country": "China",
          "index": 816
         },
         {
          "city": "",
          "company": "Advance Intelligence Group",
          "company_id": 541,
          "continent": "Asia",
          "country": "Singapore",
          "index": 817
         },
         {
          "city": "Leawood",
          "company": "C2FO",
          "company_id": 883,
          "continent": "North America",
          "country": "United States",
          "index": 818
         },
         {
          "city": "New York",
          "company": "Paxos",
          "company_id": 450,
          "continent": "North America",
          "country": "United States",
          "index": 819
         },
         {
          "city": "Beijing",
          "company": "Nxin",
          "company_id": 838,
          "continent": "Asia",
          "country": "China",
          "index": 820
         },
         {
          "city": "San Francisco",
          "company": "Commure",
          "company_id": 181,
          "continent": "North America",
          "country": "United States",
          "index": 821
         },
         {
          "city": "San Francisco",
          "company": "PAX",
          "company_id": 479,
          "continent": "North America",
          "country": "United States",
          "index": 822
         },
         {
          "city": "Bengaluru",
          "company": "Zetwerk",
          "company_id": 286,
          "continent": "Asia",
          "country": "India",
          "index": 823
         },
         {
          "city": "Buenos Aires",
          "company": "Uala",
          "company_id": 432,
          "continent": "South America",
          "country": "Argentina",
          "index": 824
         },
         {
          "city": "Miami",
          "company": "Kaseya",
          "company_id": 570,
          "continent": "North America",
          "country": "United States",
          "index": 825
         },
         {
          "city": "Paris",
          "company": "Shift Technology",
          "company_id": 1020,
          "continent": "Europe",
          "country": "France",
          "index": 826
         },
         {
          "city": "Vienna",
          "company": "BitPanda",
          "company_id": 216,
          "continent": "Europe",
          "country": "Austria",
          "index": 827
         },
         {
          "city": "Midrand",
          "company": "Cell C",
          "company_id": 607,
          "continent": "Africa",
          "country": "South Africa",
          "index": 828
         },
         {
          "city": "Shanghai",
          "company": "DianRong",
          "company_id": 900,
          "continent": "Asia",
          "country": "China",
          "index": 829
         },
         {
          "city": "San Mateo",
          "company": "Tipalti",
          "company_id": 77,
          "continent": "North America",
          "country": "United States",
          "index": 830
         },
         {
          "city": "Mumbai",
          "company": "Upstox",
          "company_id": 244,
          "continent": "Asia",
          "country": "India",
          "index": 831
         },
         {
          "city": "Irvine",
          "company": "Kajabi",
          "company_id": 569,
          "continent": "North America",
          "country": "United States",
          "index": 832
         },
         {
          "city": "Unterfoehring",
          "company": "NuCom Group",
          "company_id": 506,
          "continent": "Europe",
          "country": "Germany",
          "index": 833
         },
         {
          "city": "Chatham",
          "company": "DriveWealth",
          "company_id": 313,
          "continent": "North America",
          "country": "United States",
          "index": 834
         },
         {
          "city": "Palo Alto",
          "company": "Rubrik",
          "company_id": 235,
          "continent": "North America",
          "country": "United States",
          "index": 835
         },
         {
          "city": "Shanghai",
          "company": "Yimidida",
          "company_id": 654,
          "continent": "Asia",
          "country": "China",
          "index": 836
         },
         {
          "city": "Miami",
          "company": "MoonPay",
          "company_id": 177,
          "continent": "North America",
          "country": "United States",
          "index": 837
         },
         {
          "city": "Bryanston",
          "company": "Promasidor Holdings",
          "company_id": 373,
          "continent": "Asia",
          "country": "South Africa",
          "index": 838
         },
         {
          "city": "Atlanta",
          "company": "Greenlight",
          "company_id": 487,
          "continent": "North America",
          "country": "United States",
          "index": 839
         },
         {
          "city": "Luohe",
          "company": "Weilong Foods",
          "company_id": 42,
          "continent": "Asia",
          "country": "China",
          "index": 840
         },
         {
          "city": "Sunnyvale",
          "company": "Illumio",
          "company_id": 299,
          "continent": "North America",
          "country": "United States",
          "index": 841
         },
         {
          "city": "San Francisco",
          "company": "Checkr",
          "company_id": 141,
          "continent": "North America",
          "country": "United States",
          "index": 842
         },
         {
          "city": "Vilnius",
          "company": "Vinted",
          "company_id": 137,
          "continent": "Europe",
          "country": "Lithuania",
          "index": 843
         },
         {
          "city": "San Francisco",
          "company": "Alchemy",
          "company_id": 51,
          "continent": "North America",
          "country": "United States",
          "index": 844
         },
         {
          "city": "Miami",
          "company": "Pipe",
          "company_id": 586,
          "continent": "North America",
          "country": "United States",
          "index": 845
         },
         {
          "city": "San Francisco",
          "company": "BetterUp",
          "company_id": 144,
          "continent": "North America",
          "country": "United States",
          "index": 846
         },
         {
          "city": "Redwood City",
          "company": "HeartFlow",
          "company_id": 389,
          "continent": "North America",
          "country": "United States",
          "index": 847
         },
         {
          "city": "Stockholm",
          "company": "KRY",
          "company_id": 572,
          "continent": "Europe",
          "country": "Sweden",
          "index": 848
         },
         {
          "city": "Lagos",
          "company": "Opay",
          "company_id": 585,
          "continent": "Africa",
          "country": "Nigeria",
          "index": 849
         },
         {
          "city": "New York",
          "company": "Capsule",
          "company_id": 887,
          "continent": "North America",
          "country": "United States",
          "index": 850
         },
         {
          "city": "Surry Hills",
          "company": "Canva",
          "company_id": 5,
          "continent": "Oceania",
          "country": "Australia",
          "index": 851
         },
         {
          "city": "Beijing",
          "company": "XiaoZhu",
          "company_id": 677,
          "continent": "Asia",
          "country": "China",
          "index": 852
         },
         {
          "city": "Boston",
          "company": "OutSystems",
          "company_id": 49,
          "continent": "North America",
          "country": "United States",
          "index": 853
         },
         {
          "city": "Pune",
          "company": "Xpressbees",
          "company_id": 793,
          "continent": "Asia",
          "country": "India",
          "index": 854
         },
         {
          "city": "Selangor",
          "company": "Carsome",
          "company_id": 470,
          "continent": "Asia",
          "country": "Malaysia",
          "index": 855
         },
         {
          "city": "Madison",
          "company": "Fetch Rewards",
          "company_id": 261,
          "continent": "North America",
          "country": "United States",
          "index": 856
         },
         {
          "city": "Tel Aviv",
          "company": "Transmit Security",
          "company_id": 295,
          "continent": "Asia",
          "country": "Israel",
          "index": 857
         },
         {
          "city": "Palo Alto",
          "company": "Gong",
          "company_id": 95,
          "continent": "North America",
          "country": "United States",
          "index": 858
         },
         {
          "city": "San Mateo",
          "company": "Veev",
          "company_id": 1053,
          "continent": "North America",
          "country": "United States",
          "index": 859
         },
         {
          "city": "Berlin",
          "company": "Tier",
          "company_id": 594,
          "continent": "Europe",
          "country": "Germany",
          "index": 860
         },
         {
          "city": "San Francisco",
          "company": "Upgrade",
          "company_id": 120,
          "continent": "North America",
          "country": "United States",
          "index": 861
         },
         {
          "city": "Sao Paulo",
          "company": "Movile",
          "company_id": 974,
          "continent": "South America",
          "country": "Brazil",
          "index": 862
         },
         {
          "city": "Mumbai",
          "company": "Eruditus Executive Education",
          "company_id": 306,
          "continent": "Asia",
          "country": "India",
          "index": 863
         },
         {
          "city": "Osasco",
          "company": "iFood",
          "company_id": 939,
          "continent": "South America",
          "country": "Brazil",
          "index": 864
         },
         {
          "city": "Berlin",
          "company": "Forto",
          "company_id": 526,
          "continent": "Europe",
          "country": "Germany",
          "index": 865
         },
         {
          "city": "Beijing",
          "company": "Kuaikan Manhua",
          "company_id": 754,
          "continent": "Asia",
          "country": "China",
          "index": 866
         },
         {
          "city": "Shenzhen",
          "company": "HEYTEA",
          "company_id": 376,
          "continent": "Asia",
          "country": "China",
          "index": 867
         },
         {
          "city": "",
          "company": "Carro",
          "company_id": 889,
          "continent": "Asia",
          "country": "Singapore",
          "index": 868
         },
         {
          "city": "Brussels",
          "company": "Collibra",
          "company_id": 148,
          "continent": "Europe",
          "country": "Belgium",
          "index": 869
         },
         {
          "city": "Montreal",
          "company": "Hopper",
          "company_id": 157,
          "continent": "North America",
          "country": "Canada",
          "index": 870
         },
         {
          "city": "Bruchsal",
          "company": "Volocopter",
          "company_id": 519,
          "continent": "Europe",
          "country": "Germany",
          "index": 871
         },
         {
          "city": "Bengaluru",
          "company": "Swiggy",
          "company_id": 41,
          "continent": "Asia",
          "country": "India",
          "index": 872
         },
         {
          "city": "London",
          "company": "Global Switch",
          "company_id": 43,
          "continent": "Europe",
          "country": "United Kingdom",
          "index": 873
         },
         {
          "city": "Jakarta",
          "company": "J&T Express",
          "company_id": 16,
          "continent": "Asia",
          "country": "Indonesia",
          "index": 874
         },
         {
          "city": "Changsha",
          "company": "Xingsheng Selected",
          "company_id": 38,
          "continent": "Asia",
          "country": "China",
          "index": 875
         },
         {
          "city": "New Delhi",
          "company": "BharatPe",
          "company_id": 312,
          "continent": "Asia",
          "country": "India",
          "index": 876
         },
         {
          "city": "Berlin",
          "company": "InFarm",
          "company_id": 940,
          "continent": "Europe",
          "country": "Germany",
          "index": 877
         },
         {
          "city": "Tel Aviv",
          "company": "Wiz",
          "company_id": 127,
          "continent": "Asia",
          "country": "Israel",
          "index": 878
         },
         {
          "city": "San Francisco",
          "company": "Scale AI",
          "company_id": 94,
          "continent": "North America",
          "country": "United States",
          "index": 879
         },
         {
          "city": "Bend",
          "company": "Dutchie",
          "company_id": 205,
          "continent": "North America",
          "country": "United States",
          "index": 880
         },
         {
          "city": "Palo Alto",
          "company": "Uniphore",
          "company_id": 270,
          "continent": "North America",
          "country": "United States",
          "index": 881
         },
         {
          "city": "Vancouver",
          "company": "Dapper Labs",
          "company_id": 75,
          "continent": "North America",
          "country": "Canada",
          "index": 882
         },
         {
          "city": "New York",
          "company": "Pat McGrath Labs",
          "company_id": 993,
          "continent": "North America",
          "country": "United States",
          "index": 883
         },
         {
          "city": "New York",
          "company": "The Brandtech Group",
          "company_id": 744,
          "continent": "North America",
          "country": "United States",
          "index": 884
         },
         {
          "city": "Dongguan",
          "company": "KK Group",
          "company_id": 341,
          "continent": "Asia",
          "country": "China",
          "index": 885
         },
         {
          "city": "Bengaluru",
          "company": "DealShare",
          "company_id": 472,
          "continent": "Asia",
          "country": "India",
          "index": 886
         },
         {
          "city": "Beijing",
          "company": "Keep",
          "company_id": 571,
          "continent": "Asia",
          "country": "China",
          "index": 887
         },
         {
          "city": "Palo Alto",
          "company": "Houzz",
          "company_id": 228,
          "continent": "North America",
          "country": "United States",
          "index": 888
         },
         {
          "city": "Long Beach",
          "company": "Zwift",
          "company_id": 1073,
          "continent": "North America",
          "country": "United States",
          "index": 889
         },
         {
          "city": "Beijing",
          "company": "TERMINUS Technology",
          "company_id": 1040,
          "continent": "Asia",
          "country": "China",
          "index": 890
         },
         {
          "city": "Norfolk",
          "company": "Trader Interactive",
          "company_id": 460,
          "continent": "North America",
          "country": "United States",
          "index": 891
         },
         {
          "city": "San Francisco",
          "company": "SpotOn",
          "company_id": 316,
          "continent": "North America",
          "country": "United States",
          "index": 892
         },
         {
          "city": "Sao Paulo",
          "company": "Nuvemshop",
          "company_id": 320,
          "continent": "South America",
          "country": "Brazil",
          "index": 893
         },
         {
          "city": "San Francisco",
          "company": "Deel",
          "company_id": 107,
          "continent": "North America",
          "country": "United States",
          "index": 894
         },
         {
          "city": "Seongnam-Si",
          "company": "Aprogen",
          "company_id": 605,
          "continent": "Asia",
          "country": "South Korea",
          "index": 895
         },
         {
          "city": "San Francisco",
          "company": "Quizlet",
          "company_id": 1006,
          "continent": "North America",
          "country": "United States",
          "index": 896
         },
         {
          "city": "Portland",
          "company": "Orca Security",
          "company_id": 666,
          "continent": "North America",
          "country": "United States",
          "index": 897
         },
         {
          "city": "Tirat Carmel",
          "company": "InSightec",
          "company_id": 736,
          "continent": "Asia",
          "country": "Israel",
          "index": 898
         },
         {
          "city": "New York",
          "company": "Cockroach Labs",
          "company_id": 156,
          "continent": "North America",
          "country": "United States",
          "index": 899
         },
         {
          "city": "Gurgaon",
          "company": "PolicyBazaar",
          "company_id": 372,
          "continent": "Asia",
          "country": "India",
          "index": 900
         },
         {
          "city": "Goleta",
          "company": "Apeel Sciences",
          "company_id": 544,
          "continent": "North America",
          "country": "United States",
          "index": 901
         },
         {
          "city": "New York",
          "company": "Claroty",
          "company_id": 378,
          "continent": "North America",
          "country": "United States",
          "index": 902
         },
         {
          "city": "Seattle",
          "company": "Highspot",
          "company_id": 184,
          "continent": "North America",
          "country": "United States",
          "index": 903
         },
         {
          "city": "New York",
          "company": "Socure",
          "company_id": 135,
          "continent": "North America",
          "country": "United States",
          "index": 904
         },
         {
          "city": "Los Angeles",
          "company": "Black Unicorn Factory",
          "company_id": 102,
          "continent": "North America",
          "country": "United States",
          "index": 905
         },
         {
          "city": "New York",
          "company": "Dataiku",
          "company_id": 143,
          "continent": "North America",
          "country": "United States",
          "index": 906
         },
         {
          "city": "Waterloo",
          "company": "Axelar",
          "company_id": 869,
          "continent": "North America",
          "country": "Canada",
          "index": 907
         },
         {
          "city": "Shanghai",
          "company": "Mofang Living",
          "company_id": 674,
          "continent": "Asia",
          "country": "China",
          "index": 908
         },
         {
          "city": "Tianjin",
          "company": "Kuaigou Dache",
          "company_id": 627,
          "continent": "Asia",
          "country": "China",
          "index": 909
         },
         {
          "city": "Beijing",
          "company": "Newlink Group",
          "company_id": 977,
          "continent": "Asia",
          "country": "China",
          "index": 910
         },
         {
          "city": "London",
          "company": "ZEPZ",
          "company_id": 167,
          "continent": "Europe",
          "country": "United Kingdom",
          "index": 911
         },
         {
          "city": "Berlin",
          "company": "GetYourGuide",
          "company_id": 821,
          "continent": "Europe",
          "country": "Germany",
          "index": 912
         },
         {
          "city": "New York",
          "company": "Noom",
          "company_id": 198,
          "continent": "North America",
          "country": "United States",
          "index": 913
         },
         {
          "city": "Hefei",
          "company": "Yipin Shengxian",
          "company_id": 655,
          "continent": "Asia",
          "country": "China",
          "index": 914
         },
         {
          "city": "Chicago",
          "company": "Avant",
          "company_id": 546,
          "continent": "North America",
          "country": "United States",
          "index": 915
         },
         {
          "city": "New York",
          "company": "Trumid",
          "company_id": 661,
          "continent": "North America",
          "country": "United States",
          "index": 916
         },
         {
          "city": "New York",
          "company": "Ramp",
          "company_id": 80,
          "continent": "North America",
          "country": "United States",
          "index": 917
         },
         {
          "city": "San Jose",
          "company": "Cohesity",
          "company_id": 253,
          "continent": "North America",
          "country": "United States",
          "index": 918
         },
         {
          "city": "New York",
          "company": "ConsenSys",
          "company_id": 100,
          "continent": "North America",
          "country": "United States",
          "index": 919
         },
         {
          "city": "Paris",
          "company": "Vestiaire Collective",
          "company_id": 483,
          "continent": "Europe",
          "country": "France",
          "index": 920
         },
         {
          "city": "Sunnyvale",
          "company": "ThoughtSpot",
          "company_id": 214,
          "continent": "North America",
          "country": "United States",
          "index": 921
         },
         {
          "city": "Bengaluru",
          "company": "CureFit",
          "company_id": 669,
          "continent": "Asia",
          "country": "India",
          "index": 922
         },
         {
          "city": "Palo Alto",
          "company": "PsiQuantum",
          "company_id": 315,
          "continent": "North America",
          "country": "United States",
          "index": 923
         },
         {
          "city": "Seattle",
          "company": "Convoy",
          "company_id": 297,
          "continent": "North America",
          "country": "United States",
          "index": 924
         },
         {
          "city": "Redwood City",
          "company": "Branch",
          "company_id": 222,
          "continent": "North America",
          "country": "United States",
          "index": 925
         },
         {
          "city": "Mountain View",
          "company": "Addepar",
          "company_id": 515,
          "continent": "North America",
          "country": "United States",
          "index": 926
         },
         {
          "city": "Boston",
          "company": "Klaviyo",
          "company_id": 68,
          "continent": "North America",
          "country": "United States",
          "index": 927
         },
         {
          "city": "Seoul",
          "company": "GPclub",
          "company_id": 726,
          "continent": "Asia",
          "country": "South Korea",
          "index": 928
         },
         {
          "city": "Hangzhou",
          "company": "Dxy.cn",
          "company_id": 904,
          "continent": "Asia",
          "country": "China",
          "index": 929
         },
         {
          "city": "Redwood City",
          "company": "Carbon",
          "company_id": 441,
          "continent": "North America",
          "country": "United States",
          "index": 930
         },
         {
          "city": "Bristol",
          "company": "Graphcore",
          "company_id": 301,
          "continent": "Europe",
          "country": "United Kingdom",
          "index": 931
         },
         {
          "city": "Mumbai",
          "company": "Fractal Analytics",
          "company_id": 919,
          "continent": "Asia",
          "country": "India",
          "index": 932
         },
         {
          "city": "Vienna",
          "company": "GoStudent",
          "company_id": 263,
          "continent": "Europe",
          "country": "Austria",
          "index": 933
         },
         {
          "city": "Irvine",
          "company": "Anduril",
          "company_id": 140,
          "continent": "North America",
          "country": "United States",
          "index": 934
         },
         {
          "city": "San Francisco",
          "company": "Gusto",
          "company_id": 55,
          "continent": "North America",
          "country": "United States",
          "index": 935
         },
         {
          "city": "Peterborough",
          "company": "BGL Group",
          "company_id": 377,
          "continent": "Europe",
          "country": "United Kingdom",
          "index": 936
         },
         {
          "city": "Shanghai",
          "company": "Banma Network Technologies",
          "company_id": 871,
          "continent": "Asia",
          "country": "China",
          "index": 937
         },
         {
          "city": "San Francisco",
          "company": "Thumbtack",
          "company_id": 310,
          "continent": "North America",
          "country": "United States",
          "index": 938
         },
         {
          "city": "Cambridge",
          "company": "EQRx",
          "company_id": 613,
          "continent": "North America",
          "country": "United States",
          "index": 939
         },
         {
          "city": "Paris",
          "company": "Qonto",
          "company_id": 163,
          "continent": "Europe",
          "country": "France",
          "index": 940
         },
         {
          "city": "Paris",
          "company": "ManoMano",
          "company_id": 277,
          "continent": "Europe",
          "country": "France",
          "index": 941
         },
         {
          "city": "San Francisco",
          "company": "Watershed",
          "company_id": 1059,
          "continent": "North America",
          "country": "United States",
          "index": 942
         },
         {
          "city": "Beijing",
          "company": "G7 Networks",
          "company_id": 503,
          "continent": "Asia",
          "country": "China",
          "index": 943
         },
         {
          "city": "Boston",
          "company": "Circle",
          "company_id": 330,
          "continent": "North America",
          "country": "United States",
          "index": 944
         },
         {
          "city": "Boston",
          "company": "Cybereason",
          "company_id": 254,
          "continent": "North America",
          "country": "United States",
          "index": 945
         },
         {
          "city": "Shanghai",
          "company": "Hesai Tech",
          "company_id": 367,
          "continent": "Asia",
          "country": "China",
          "index": 946
         },
         {
          "city": "San Francisco",
          "company": "Collective Health",
          "company_id": 399,
          "continent": "North America",
          "country": "United States",
          "index": 947
         },
         {
          "city": "Seoul",
          "company": "Dunamu",
          "company_id": 61,
          "continent": "Asia",
          "country": "South Korea",
          "index": 948
         },
         {
          "city": "Shanghai",
          "company": "Ximalaya FM",
          "company_id": 375,
          "continent": "Asia",
          "country": "China",
          "index": 949
         },
         {
          "city": "Sao Paulo",
          "company": "Neon",
          "company_id": 716,
          "continent": "South America",
          "country": "Brazil",
          "index": 950
         },
         {
          "city": "Los Altos",
          "company": "Cerebras Systems",
          "company_id": 224,
          "continent": "North America",
          "country": "United States",
          "index": 951
         },
         {
          "city": "Beijing",
          "company": "Genki Forest",
          "company_id": 22,
          "continent": "Asia",
          "country": "China",
          "index": 952
         },
         {
          "city": "Central",
          "company": "Klook",
          "company_id": 720,
          "continent": "Asia",
          "country": "Hong Kong",
          "index": 953
         },
         {
          "city": "Austin",
          "company": "Workrise",
          "company_id": 322,
          "continent": "North America",
          "country": "United States",
          "index": 954
         },
         {
          "city": "Palo Alto",
          "company": "Plume",
          "company_id": 279,
          "continent": "North America",
          "country": "United States",
          "index": 955
         },
         {
          "city": "Oakland",
          "company": "FiveTran",
          "company_id": 111,
          "continent": "North America",
          "country": "United States",
          "index": 956
         },
         {
          "city": "New York",
          "company": "iCapital Network",
          "company_id": 126,
          "continent": "North America",
          "country": "United States",
          "index": 957
         },
         {
          "city": "San Francisco",
          "company": "Sysdig",
          "company_id": 269,
          "continent": "North America",
          "country": "United States",
          "index": 958
         },
         {
          "city": "San Francisco",
          "company": "Plaid",
          "company_id": 25,
          "continent": "North America",
          "country": "United States",
          "index": 959
         },
         {
          "city": "Gurgaon",
          "company": "OfBusiness",
          "company_id": 160,
          "continent": "Asia",
          "country": "India",
          "index": 960
         },
         {
          "city": "Washington",
          "company": "Cava Group",
          "company_id": 731,
          "continent": "North America",
          "country": "United States",
          "index": 961
         },
         {
          "city": "Paris",
          "company": "Sorare",
          "company_id": 202,
          "continent": "Europe",
          "country": "France",
          "index": 962
         },
         {
          "city": "Bengaluru",
          "company": "Razorpay",
          "company_id": 74,
          "continent": "Asia",
          "country": "India",
          "index": 963
         },
         {
          "city": "Hangzhou",
          "company": "Cao Cao Mobility",
          "company_id": 439,
          "continent": "Asia",
          "country": "China",
          "index": 964
         },
         {
          "city": "London",
          "company": "Improbable",
          "company_id": 379,
          "continent": "Europe",
          "country": "United Kingdom",
          "index": 965
         },
         {
          "city": "Campinas",
          "company": "QuintoAndar",
          "company_id": 154,
          "continent": "South America",
          "country": "Brazil",
          "index": 966
         },
         {
          "city": "Beijing",
          "company": "TuJia",
          "company_id": 423,
          "continent": "Asia",
          "country": "China",
          "index": 967
         },
         {
          "city": "Mumbai",
          "company": "Games24x7",
          "company_id": 262,
          "continent": "Asia",
          "country": "India",
          "index": 968
         },
         {
          "city": "Chengdu",
          "company": "Medlinker",
          "company_id": 219,
          "continent": "Asia",
          "country": "China",
          "index": 969
         },
         {
          "city": "Bengaluru",
          "company": "Ola Electric Mobility",
          "company_id": 161,
          "continent": "Asia",
          "country": "India",
          "index": 970
         },
         {
          "city": "Beijing",
          "company": "Bitmain",
          "company_id": 36,
          "continent": "Asia",
          "country": "China",
          "index": 971
         },
         {
          "city": "Berlin",
          "company": "SellerX",
          "company_id": 384,
          "continent": "Europe",
          "country": "Germany",
          "index": 972
         },
         {
          "city": "Chengdu",
          "company": "Xinchao Media",
          "company_id": 599,
          "continent": "Asia",
          "country": "China",
          "index": 973
         },
         {
          "city": "London",
          "company": "Rapyd",
          "company_id": 20,
          "continent": "Europe",
          "country": "United Kingdom",
          "index": 974
         },
         {
          "city": "Seoul",
          "company": "Kurly",
          "company_id": 241,
          "continent": "Asia",
          "country": "South Korea",
          "index": 975
         },
         {
          "city": "San Francisco",
          "company": "Niantic",
          "company_id": 69,
          "continent": "North America",
          "country": "United States",
          "index": 976
         },
         {
          "city": "Fort Lee",
          "company": "Cross River Bank",
          "company_id": 333,
          "continent": "North America",
          "country": "United States",
          "index": 977
         },
         {
          "city": "Beijing",
          "company": "Yixia",
          "company_id": 246,
          "continent": "Asia",
          "country": "China",
          "index": 978
         },
         {
          "city": "Kirkland",
          "company": "Tanium",
          "company_id": 70,
          "continent": "North America",
          "country": "United States",
          "index": 979
         },
         {
          "city": "Faridabad",
          "company": "Lenskart",
          "company_id": 174,
          "continent": "Asia",
          "country": "India",
          "index": 980
         },
         {
          "city": "New York",
          "company": "Via",
          "company_id": 294,
          "continent": "North America",
          "country": "United States",
          "index": 981
         },
         {
          "city": "Shenzhen",
          "company": "XtalPi",
          "company_id": 601,
          "continent": "Asia",
          "country": "China",
          "index": 982
         },
         {
          "city": "Beijing",
          "company": "Mininglamp Technology",
          "company_id": 795,
          "continent": "Asia",
          "country": "China",
          "index": 983
         },
         {
          "city": "Sao Paulo",
          "company": "Loft",
          "company_id": 319,
          "continent": "South America",
          "country": "Brazil",
          "index": 984
         },
         {
          "city": "Bengaluru",
          "company": "Unacademy",
          "company_id": 274,
          "continent": "Asia",
          "country": "India",
          "index": 985
         },
         {
          "city": "London",
          "company": "Starling Bank",
          "company_id": 538,
          "continent": "Europe",
          "country": "United Kingdom",
          "index": 986
         },
         {
          "city": "New York",
          "company": "Harry's",
          "company_id": 478,
          "continent": "North America",
          "country": "United States",
          "index": 987
         },
         {
          "city": "London",
          "company": "Zopa",
          "company_id": 1072,
          "continent": "Europe",
          "country": "United Kingdom",
          "index": 988
         },
         {
          "city": "Carson City",
          "company": "Redwood Materials",
          "company_id": 200,
          "continent": "North America",
          "country": "United States",
          "index": 989
         },
         {
          "city": "Shanghai",
          "company": "AIWAYS",
          "company_id": 498,
          "continent": "Asia",
          "country": "China",
          "index": 990
         },
         {
          "city": "San Diego",
          "company": "Biosplice Therapeutics",
          "company_id": 35,
          "continent": "North America",
          "country": "United States",
          "index": 991
         },
         {
          "city": "Oslo",
          "company": "Dune Analytics",
          "company_id": 903,
          "continent": "Europe",
          "country": "Norway",
          "index": 992
         },
         {
          "city": "Shanghai",
          "company": "DeepBlue Technology",
          "company_id": 610,
          "continent": "Asia",
          "country": "China",
          "index": 993
         },
         {
          "city": "Cary",
          "company": "Epic Games",
          "company_id": 11,
          "continent": "North America",
          "country": "United States",
          "index": 994
         },
         {
          "city": "Hawthorne",
          "company": "SpaceX",
          "company_id": 1,
          "continent": "North America",
          "country": "United States",
          "index": 995
         },
         {
          "city": "Chicago",
          "company": "Heyday",
          "company_id": 932,
          "continent": "North America",
          "country": "United States",
          "index": 996
         },
         {
          "city": "Shanghai",
          "company": "Yiguo",
          "company_id": 653,
          "continent": "Asia",
          "country": "China",
          "index": 997
         },
         {
          "city": "Berlin",
          "company": "Berlin Brands Group",
          "company_id": 874,
          "continent": "Europe",
          "country": "Germany",
          "index": 998
         },
         {
          "city": "Roseville",
          "company": "GoodLeap",
          "company_id": 37,
          "continent": "North America",
          "country": "United States",
          "index": 999
         },
         {
          "city": "Melbourne",
          "company": "Airwallex",
          "company_id": 106,
          "continent": "Oceania",
          "country": "Australia",
          "index": 1000
         },
         {
          "city": "Helsinki",
          "company": "RELEX Solutions",
          "company_id": 117,
          "continent": "Europe",
          "country": "Finland",
          "index": 1001
         },
         {
          "city": "Chongqing",
          "company": "Zihaiguo",
          "company_id": 1071,
          "continent": "Asia",
          "country": "China",
          "index": 1002
         },
         {
          "city": "Paris",
          "company": "ContentSquare",
          "company_id": 305,
          "continent": "Europe",
          "country": "France",
          "index": 1003
         },
         {
          "city": "Paris",
          "company": "Doctolib",
          "company_id": 110,
          "continent": "Europe",
          "country": "France",
          "index": 1004
         },
         {
          "city": "Chicago",
          "company": "Project44",
          "company_id": 281,
          "continent": "North America",
          "country": "United States",
          "index": 1005
         },
         {
          "city": "Chicago",
          "company": "Tempus",
          "company_id": 81,
          "continent": "North America",
          "country": "United States",
          "index": 1006
         },
         {
          "city": "Sao Paulo",
          "company": "Creditas",
          "company_id": 152,
          "continent": "South America",
          "country": "Brazil",
          "index": 1007
         },
         {
          "city": "San Francisco",
          "company": "Hinge Health",
          "company_id": 122,
          "continent": "North America",
          "country": "United States",
          "index": 1008
         },
         {
          "city": "London",
          "company": "Gett",
          "company_id": 403,
          "continent": "Europe",
          "country": "United Kingdom",
          "index": 1009
         },
         {
          "city": "Seoul",
          "company": "Toss",
          "company_id": 92,
          "continent": "Asia",
          "country": "South Korea",
          "index": 1010
         },
         {
          "city": "San Jose",
          "company": "Automation Anywhere",
          "company_id": 98,
          "continent": "North America",
          "country": "United States",
          "index": 1011
         },
         {
          "city": "Columbus",
          "company": "Olive",
          "company_id": 232,
          "continent": "North America",
          "country": "United States",
          "index": 1012
         },
         {
          "city": "San Francisco",
          "company": "Automattic",
          "company_id": 247,
          "continent": "North America",
          "country": "United States",
          "index": 1013
         },
         {
          "city": "San Francisco",
          "company": "Tradeshift",
          "company_id": 388,
          "continent": "North America",
          "country": "United States",
          "index": 1014
         },
         {
          "city": "Hoboken",
          "company": "Attentive",
          "company_id": 88,
          "continent": "North America",
          "country": "United States",
          "index": 1015
         },
         {
          "city": "Fremont",
          "company": "Weee!",
          "company_id": 218,
          "continent": "North America",
          "country": "United States",
          "index": 1016
         },
         {
          "city": "Hoboken",
          "company": "Celsius Network",
          "company_id": 178,
          "continent": "North America",
          "country": "United States",
          "index": 1017
         },
         {
          "city": "Bengaluru",
          "company": "DailyHunt",
          "company_id": 128,
          "continent": "Asia",
          "country": "India",
          "index": 1018
         },
         {
          "city": "Jerusalem",
          "company": "OrCam Technologies",
          "company_id": 851,
          "continent": "Asia",
          "country": "Israel",
          "index": 1019
         },
         {
          "city": "Hangzhou",
          "company": "1KMXC",
          "company_id": 853,
          "continent": "Asia",
          "country": "China",
          "index": 1020
         },
         {
          "city": "San Carlos",
          "company": "Farmers Business Network",
          "company_id": 227,
          "continent": "North America",
          "country": "United States",
          "index": 1021
         },
         {
          "city": "",
          "company": "WeLab",
          "company_id": 1061,
          "continent": "Asia",
          "country": "Hong Kong",
          "index": 1022
         },
         {
          "city": "Shanghai",
          "company": "Tuhu",
          "company_id": 799,
          "continent": "Asia",
          "country": "China",
          "index": 1023
         },
         {
          "city": "Alameda",
          "company": "Sila Nanotechnologies",
          "company_id": 293,
          "continent": "North America",
          "country": "United States",
          "index": 1024
         },
         {
          "city": "Palo Alto",
          "company": "Next Insurance",
          "company_id": 231,
          "continent": "North America",
          "country": "United States",
          "index": 1025
         },
         {
          "city": "Brooklyn",
          "company": "Cityblock Health",
          "company_id": 114,
          "continent": "North America",
          "country": "United States",
          "index": 1026
         },
         {
          "city": "Beijing",
          "company": "Bytedance",
          "company_id": 0,
          "continent": "Asia",
          "country": "China",
          "index": 1027
         },
         {
          "city": "Madrid",
          "company": "Jobandtalent",
          "company_id": 463,
          "continent": "Europe",
          "country": "Spain",
          "index": 1028
         },
         {
          "city": "Noida",
          "company": "Pine Labs",
          "company_id": 162,
          "continent": "Asia",
          "country": "India",
          "index": 1029
         },
         {
          "city": "Hunan",
          "company": "Wenheyou",
          "company_id": 433,
          "continent": "Asia",
          "country": "China",
          "index": 1030
         },
         {
          "city": "London",
          "company": "The Bank of London",
          "company_id": 836,
          "continent": "Europe",
          "country": "United Kingdom",
          "index": 1031
         },
         {
          "city": "San Francisco",
          "company": "Forte Labs",
          "company_id": 668,
          "continent": "North America",
          "country": "United States",
          "index": 1032
         },
         {
          "city": "Burlingame",
          "company": "Lyra Health",
          "company_id": 123,
          "continent": "North America",
          "country": "United States",
          "index": 1033
         },
         {
          "city": "Palo Alto",
          "company": "TripActions",
          "company_id": 96,
          "continent": "North America",
          "country": "United States",
          "index": 1034
         },
         {
          "city": "Shanghai",
          "company": "Xiaohongshu",
          "company_id": 17,
          "continent": "Asia",
          "country": "China",
          "index": 1035
         },
         {
          "city": "Berlin",
          "company": "wefox",
          "company_id": 353,
          "continent": "Europe",
          "country": "Germany",
          "index": 1036
         },
         {
          "city": "Washington DC",
          "company": "Morning Consult",
          "company_id": 973,
          "continent": "North America",
          "country": "United States",
          "index": 1037
         },
         {
          "city": "Toronto",
          "company": "1Password",
          "company_id": 97,
          "continent": "North America",
          "country": "Canada",
          "index": 1038
         },
         {
          "city": "Bengaluru",
          "company": "CRED",
          "company_id": 87,
          "continent": "Asia",
          "country": "India",
          "index": 1039
         },
         {
          "city": "Atlanta",
          "company": "OneTrust",
          "company_id": 153,
          "continent": "North America",
          "country": "United States",
          "index": 1040
         },
         {
          "city": "Amsterdam",
          "company": "Mollie",
          "company_id": 109,
          "continent": "Europe",
          "country": "Netherlands",
          "index": 1041
         },
         {
          "city": "Tel Aviv",
          "company": "JoyTunes",
          "company_id": 946,
          "continent": "Asia",
          "country": "Israel",
          "index": 1042
         },
         {
          "city": "Denver",
          "company": "Ibotta",
          "company_id": 937,
          "continent": "North America",
          "country": "United States",
          "index": 1043
         },
         {
          "city": "Shenzhen",
          "company": "UBTECH Robotics",
          "company_id": 139,
          "continent": "Asia",
          "country": "China",
          "index": 1044
         },
         {
          "city": "Zhuhai",
          "company": "Meizu Technology",
          "company_id": 131,
          "continent": "Asia",
          "country": "China",
          "index": 1045
         },
         {
          "city": "Jiangsu",
          "company": "Carzone",
          "company_id": 360,
          "continent": "Asia",
          "country": "China",
          "index": 1046
         },
         {
          "city": "Beijing",
          "company": "Miaoshou Doctor",
          "company_id": 658,
          "continent": "Asia",
          "country": "China",
          "index": 1047
         },
         {
          "city": "Paris",
          "company": "Mirakl",
          "company_id": 186,
          "continent": "Europe",
          "country": "France",
          "index": 1048
         },
         {
          "city": "Framingham",
          "company": "Alzheon",
          "company_id": 604,
          "continent": "North America",
          "country": "United States",
          "index": 1049
         },
         {
          "city": "Shenzhen",
          "company": "Xingyun Group",
          "company_id": 600,
          "continent": "Asia",
          "country": "China",
          "index": 1050
         },
         {
          "city": "Hangzhou",
          "company": "JOLLY Information Technology",
          "company_id": 672,
          "continent": "Asia",
          "country": "China",
          "index": 1051
         },
         {
          "city": "San Francisco",
          "company": "Retool",
          "company_id": 518,
          "continent": "North America",
          "country": "United States",
          "index": 1052
         },
         {
          "city": "Cambridge",
          "company": "CMR Surgical",
          "company_id": 331,
          "continent": "Europe",
          "country": "United Kingdom",
          "index": 1053
         },
         {
          "city": "",
          "company": "Ninja Van",
          "company_id": 382,
          "continent": "Asia",
          "country": "Singapore",
          "index": 1054
         },
         {
          "city": "San Francisco",
          "company": "Discord",
          "company_id": 21,
          "continent": "North America",
          "country": "United States",
          "index": 1055
         },
         {
          "city": "San Francisco",
          "company": "Varo Bank",
          "company_id": 271,
          "continent": "North America",
          "country": "United States",
          "index": 1056
         },
         {
          "city": "Giv'atayim",
          "company": "Earnix",
          "company_id": 664,
          "continent": "Asia",
          "country": "Israel",
          "index": 1057
         },
         {
          "city": "Beijing",
          "company": "Zhuan Zhuan",
          "company_id": 1070,
          "continent": "Asia",
          "country": "China",
          "index": 1058
         },
         {
          "city": "Berlin",
          "company": "Trade Republic",
          "company_id": 146,
          "continent": "Europe",
          "country": "Germany",
          "index": 1059
         },
         {
          "city": "Culver City",
          "company": "Scopely",
          "company_id": 292,
          "continent": "North America",
          "country": "United States",
          "index": 1060
         },
         {
          "city": "Dublin",
          "company": "Workhuman",
          "company_id": 792,
          "continent": "Europe",
          "country": "Ireland",
          "index": 1061
         },
         {
          "city": "Guiyang",
          "company": "SITECH DEV",
          "company_id": 639,
          "continent": "Asia",
          "country": "China",
          "index": 1062
         },
         {
          "city": "Dallas",
          "company": "ISN",
          "company_id": 567,
          "continent": "North America",
          "country": "United States",
          "index": 1063
         },
         {
          "city": "Austin",
          "company": "Iodine Software",
          "company_id": 945,
          "continent": "North America",
          "country": "United States",
          "index": 1064
         },
         {
          "city": "Austin",
          "company": "Kendra Scott",
          "company_id": 947,
          "continent": "North America",
          "country": "United States",
          "index": 1065
         },
         {
          "city": "La Plaine Saint-Denis",
          "company": "Veepee",
          "company_id": 717,
          "continent": "Europe",
          "country": "France",
          "index": 1066
         },
         {
          "city": "Boulder",
          "company": "Uplight",
          "company_id": 424,
          "continent": "North America",
          "country": "United States",
          "index": 1067
         },
         {
          "city": "New York",
          "company": "DistroKid",
          "company_id": 733,
          "continent": "North America",
          "country": "United States",
          "index": 1068
         },
         {
          "city": "Shanghai",
          "company": "Poizon",
          "company_id": 1002,
          "continent": "Asia",
          "country": "China",
          "index": 1069
         },
         {
          "city": "Montreal",
          "company": "SSENSE",
          "company_id": 215,
          "continent": "North America",
          "country": "Canada",
          "index": 1070
         },
         {
          "city": "Culver City",
          "company": "Assembly",
          "company_id": 866,
          "continent": "North America",
          "country": "United States",
          "index": 1071
         },
         {
          "city": "Beijing",
          "company": "Xiaobing",
          "company_id": 651,
          "continent": "Asia",
          "country": "China",
          "index": 1072
         },
         {
          "city": "Lincoln",
          "company": "Carson Group",
          "company_id": 890,
          "continent": "North America",
          "country": "United States",
          "index": 1073
         }
        ],
        "schema": {
         "fields": [
          {
           "name": "index",
           "type": "integer"
          },
          {
           "name": "company_id",
           "type": "integer"
          },
          {
           "name": "company",
           "type": "string"
          },
          {
           "name": "city",
           "type": "string"
          },
          {
           "name": "country",
           "type": "string"
          },
          {
           "name": "continent",
           "type": "string"
          }
         ],
         "pandas_version": "1.4.0",
         "primaryKey": [
          "index"
         ]
        }
       },
       "total_rows": 1074,
       "truncation_type": null
      },
      "text/html": [
       "<div>\n",
       "<style scoped>\n",
       "    .dataframe tbody tr th:only-of-type {\n",
       "        vertical-align: middle;\n",
       "    }\n",
       "\n",
       "    .dataframe tbody tr th {\n",
       "        vertical-align: top;\n",
       "    }\n",
       "\n",
       "    .dataframe thead th {\n",
       "        text-align: right;\n",
       "    }\n",
       "</style>\n",
       "<table border=\"1\" class=\"dataframe\">\n",
       "  <thead>\n",
       "    <tr style=\"text-align: right;\">\n",
       "      <th></th>\n",
       "      <th>company_id</th>\n",
       "      <th>company</th>\n",
       "      <th>city</th>\n",
       "      <th>country</th>\n",
       "      <th>continent</th>\n",
       "    </tr>\n",
       "  </thead>\n",
       "  <tbody>\n",
       "    <tr>\n",
       "      <th>0</th>\n",
       "      <td>189</td>\n",
       "      <td>Otto Bock HealthCare</td>\n",
       "      <td>Duderstadt</td>\n",
       "      <td>Germany</td>\n",
       "      <td>Europe</td>\n",
       "    </tr>\n",
       "    <tr>\n",
       "      <th>1</th>\n",
       "      <td>848</td>\n",
       "      <td>Matrixport</td>\n",
       "      <td></td>\n",
       "      <td>Singapore</td>\n",
       "      <td>Asia</td>\n",
       "    </tr>\n",
       "    <tr>\n",
       "      <th>2</th>\n",
       "      <td>556</td>\n",
       "      <td>Cloudinary</td>\n",
       "      <td>Santa Clara</td>\n",
       "      <td>United States</td>\n",
       "      <td>North America</td>\n",
       "    </tr>\n",
       "    <tr>\n",
       "      <th>3</th>\n",
       "      <td>999</td>\n",
       "      <td>PLACE</td>\n",
       "      <td>Bellingham</td>\n",
       "      <td>United States</td>\n",
       "      <td>North America</td>\n",
       "    </tr>\n",
       "    <tr>\n",
       "      <th>4</th>\n",
       "      <td>396</td>\n",
       "      <td>candy.com</td>\n",
       "      <td>New York</td>\n",
       "      <td>United States</td>\n",
       "      <td>North America</td>\n",
       "    </tr>\n",
       "    <tr>\n",
       "      <th>...</th>\n",
       "      <td>...</td>\n",
       "      <td>...</td>\n",
       "      <td>...</td>\n",
       "      <td>...</td>\n",
       "      <td>...</td>\n",
       "    </tr>\n",
       "    <tr>\n",
       "      <th>1069</th>\n",
       "      <td>1002</td>\n",
       "      <td>Poizon</td>\n",
       "      <td>Shanghai</td>\n",
       "      <td>China</td>\n",
       "      <td>Asia</td>\n",
       "    </tr>\n",
       "    <tr>\n",
       "      <th>1070</th>\n",
       "      <td>215</td>\n",
       "      <td>SSENSE</td>\n",
       "      <td>Montreal</td>\n",
       "      <td>Canada</td>\n",
       "      <td>North America</td>\n",
       "    </tr>\n",
       "    <tr>\n",
       "      <th>1071</th>\n",
       "      <td>866</td>\n",
       "      <td>Assembly</td>\n",
       "      <td>Culver City</td>\n",
       "      <td>United States</td>\n",
       "      <td>North America</td>\n",
       "    </tr>\n",
       "    <tr>\n",
       "      <th>1072</th>\n",
       "      <td>651</td>\n",
       "      <td>Xiaobing</td>\n",
       "      <td>Beijing</td>\n",
       "      <td>China</td>\n",
       "      <td>Asia</td>\n",
       "    </tr>\n",
       "    <tr>\n",
       "      <th>1073</th>\n",
       "      <td>890</td>\n",
       "      <td>Carson Group</td>\n",
       "      <td>Lincoln</td>\n",
       "      <td>United States</td>\n",
       "      <td>North America</td>\n",
       "    </tr>\n",
       "  </tbody>\n",
       "</table>\n",
       "<p>1074 rows × 5 columns</p>\n",
       "</div>"
      ],
      "text/plain": [
       "      company_id               company         city        country  \\\n",
       "0            189  Otto Bock HealthCare   Duderstadt        Germany   \n",
       "1            848            Matrixport                   Singapore   \n",
       "2            556            Cloudinary  Santa Clara  United States   \n",
       "3            999                 PLACE   Bellingham  United States   \n",
       "4            396             candy.com     New York  United States   \n",
       "...          ...                   ...          ...            ...   \n",
       "1069        1002                Poizon     Shanghai          China   \n",
       "1070         215                SSENSE     Montreal         Canada   \n",
       "1071         866              Assembly  Culver City  United States   \n",
       "1072         651              Xiaobing      Beijing          China   \n",
       "1073         890          Carson Group      Lincoln  United States   \n",
       "\n",
       "          continent  \n",
       "0            Europe  \n",
       "1              Asia  \n",
       "2     North America  \n",
       "3     North America  \n",
       "4     North America  \n",
       "...             ...  \n",
       "1069           Asia  \n",
       "1070  North America  \n",
       "1071  North America  \n",
       "1072           Asia  \n",
       "1073  North America  \n",
       "\n",
       "[1074 rows x 5 columns]"
      ]
     },
     "execution_count": 41,
     "metadata": {},
     "output_type": "execute_result"
    }
   ],
   "source": [
    "SELECT * FROM companies"
   ]
  },
  {
   "cell_type": "code",
   "execution_count": 48,
   "id": "e67e9358-6225-4d6e-bcc6-33233c9efc54",
   "metadata": {
    "customType": "sql",
    "dataFrameVariableName": "df",
    "executionTime": 1792,
    "initial": false,
    "integrationId": "89e17161-a224-4a8a-846b-0adc0fe7a4b1",
    "lastSuccessfullyExecutedCode": "SELECT * FROM industries"
   },
   "outputs": [
    {
     "data": {
      "application/com.datacamp.data-table.v1+json": {
       "table": {
        "data": [
         {
          "company_id": 189,
          "index": 0,
          "industry": "Health"
         },
         {
          "company_id": 848,
          "index": 1,
          "industry": "Fintech"
         },
         {
          "company_id": 556,
          "index": 2,
          "industry": "Internet software & services"
         },
         {
          "company_id": 999,
          "index": 3,
          "industry": "Internet software & services"
         },
         {
          "company_id": 396,
          "index": 4,
          "industry": "Fintech"
         },
         {
          "company_id": 931,
          "index": 5,
          "industry": "Consumer & retail"
         },
         {
          "company_id": 364,
          "index": 6,
          "industry": "E-commerce & direct-to-consumer"
         },
         {
          "company_id": 732,
          "index": 7,
          "industry": "Fintech"
         },
         {
          "company_id": 906,
          "index": 8,
          "industry": "Hardware"
         },
         {
          "company_id": 72,
          "index": 9,
          "industry": "Hardware"
         },
         {
          "company_id": 983,
          "index": 10,
          "industry": "Fintech"
         },
         {
          "company_id": 898,
          "index": 11,
          "industry": "Internet software & services"
         },
         {
          "company_id": 844,
          "index": 12,
          "industry": "Fintech"
         },
         {
          "company_id": 894,
          "index": 13,
          "industry": "Fintech"
         },
         {
          "company_id": 813,
          "index": 14,
          "industry": "Fintech"
         },
         {
          "company_id": 743,
          "index": 15,
          "industry": "Other"
         },
         {
          "company_id": 226,
          "index": 16,
          "industry": "Mobile & telecommunications"
         },
         {
          "company_id": 963,
          "index": 17,
          "industry": "Fintech"
         },
         {
          "company_id": 764,
          "index": 18,
          "industry": "Fintech"
         },
         {
          "company_id": 839,
          "index": 19,
          "industry": "E-commerce & direct-to-consumer"
         },
         {
          "company_id": 1033,
          "index": 20,
          "industry": "Internet software & services"
         },
         {
          "company_id": 725,
          "index": 21,
          "industry": "Health"
         },
         {
          "company_id": 549,
          "index": 22,
          "industry": "Artificial intelligence"
         },
         {
          "company_id": 667,
          "index": 23,
          "industry": "Mobile & telecommunications"
         },
         {
          "company_id": 755,
          "index": 24,
          "industry": "Fintech"
         },
         {
          "company_id": 782,
          "index": 25,
          "industry": "Fintech"
         },
         {
          "company_id": 175,
          "index": 26,
          "industry": "Fintech"
         },
         {
          "company_id": 398,
          "index": 27,
          "industry": "Fintech"
         },
         {
          "company_id": 814,
          "index": 28,
          "industry": "E-commerce & direct-to-consumer"
         },
         {
          "company_id": 436,
          "index": 29,
          "industry": "Artificial intelligence"
         },
         {
          "company_id": 1046,
          "index": 30,
          "industry": "Artificial intelligence"
         },
         {
          "company_id": 565,
          "index": 31,
          "industry": "Artificial intelligence"
         },
         {
          "company_id": 781,
          "index": 32,
          "industry": "Internet software & services"
         },
         {
          "company_id": 997,
          "index": 33,
          "industry": "E-commerce & direct-to-consumer"
         },
         {
          "company_id": 194,
          "index": 34,
          "industry": "Internet software & services"
         },
         {
          "company_id": 249,
          "index": 35,
          "industry": "Fintech"
         },
         {
          "company_id": 434,
          "index": 36,
          "industry": "Auto & transportation"
         },
         {
          "company_id": 1035,
          "index": 37,
          "industry": "Cybersecurity"
         },
         {
          "company_id": 969,
          "index": 38,
          "industry": "Data management & analytics"
         },
         {
          "company_id": 1018,
          "index": 39,
          "industry": "Other"
         },
         {
          "company_id": 355,
          "index": 40,
          "industry": "Internet software & services"
         },
         {
          "company_id": 934,
          "index": 41,
          "industry": "E-commerce & direct-to-consumer"
         },
         {
          "company_id": 1054,
          "index": 42,
          "industry": "Fintech"
         },
         {
          "company_id": 901,
          "index": 43,
          "industry": "Cybersecurity"
         },
         {
          "company_id": 173,
          "index": 44,
          "industry": "Internet software & services"
         },
         {
          "company_id": 738,
          "index": 45,
          "industry": "Fintech"
         },
         {
          "company_id": 422,
          "index": 46,
          "industry": "Internet software & services"
         },
         {
          "company_id": 830,
          "index": 47,
          "industry": "Health"
         },
         {
          "company_id": 1004,
          "index": 48,
          "industry": "Other"
         },
         {
          "company_id": 951,
          "index": 49,
          "industry": "E-commerce & direct-to-consumer"
         },
         {
          "company_id": 734,
          "index": 50,
          "industry": "Internet software & services"
         },
         {
          "company_id": 1063,
          "index": 51,
          "industry": "Fintech"
         },
         {
          "company_id": 623,
          "index": 52,
          "industry": "Fintech"
         },
         {
          "company_id": 846,
          "index": 53,
          "industry": "Data management & analytics"
         },
         {
          "company_id": 823,
          "index": 54,
          "industry": "Fintech"
         },
         {
          "company_id": 944,
          "index": 55,
          "industry": "Fintech"
         },
         {
          "company_id": 1030,
          "index": 56,
          "industry": "Artificial intelligence"
         },
         {
          "company_id": 824,
          "index": 57,
          "industry": "E-commerce & direct-to-consumer"
         },
         {
          "company_id": 930,
          "index": 58,
          "industry": "Internet software & services"
         },
         {
          "company_id": 370,
          "index": 59,
          "industry": "Data management & analytics"
         },
         {
          "company_id": 618,
          "index": 60,
          "industry": "E-commerce & direct-to-consumer"
         },
         {
          "company_id": 456,
          "index": 61,
          "industry": "Cybersecurity"
         },
         {
          "company_id": 893,
          "index": 62,
          "industry": "E-commerce & direct-to-consumer"
         },
         {
          "company_id": 812,
          "index": 63,
          "industry": "Other"
         },
         {
          "company_id": 1001,
          "index": 64,
          "industry": "Other"
         },
         {
          "company_id": 703,
          "index": 65,
          "industry": "Cybersecurity"
         },
         {
          "company_id": 884,
          "index": 66,
          "industry": "Health"
         },
         {
          "company_id": 404,
          "index": 67,
          "industry": "Cybersecurity"
         },
         {
          "company_id": 952,
          "index": 68,
          "industry": "Internet software & services"
         },
         {
          "company_id": 625,
          "index": 69,
          "industry": "Internet software & services"
         },
         {
          "company_id": 971,
          "index": 70,
          "industry": "Internet software & services"
         },
         {
          "company_id": 796,
          "index": 71,
          "industry": "Edtech"
         },
         {
          "company_id": 909,
          "index": 72,
          "industry": "Fintech"
         },
         {
          "company_id": 587,
          "index": 73,
          "industry": "Artificial intelligence"
         },
         {
          "company_id": 273,
          "index": 74,
          "industry": "Health"
         },
         {
          "company_id": 771,
          "index": 75,
          "industry": "Internet software & services"
         },
         {
          "company_id": 758,
          "index": 76,
          "industry": "Internet software & services"
         },
         {
          "company_id": 652,
          "index": 77,
          "industry": "Internet software & services"
         },
         {
          "company_id": 8,
          "index": 78,
          "industry": "Consumer & retail"
         },
         {
          "company_id": 760,
          "index": 79,
          "industry": "Mobile & telecommunications"
         },
         {
          "company_id": 394,
          "index": 80,
          "industry": "Health"
         },
         {
          "company_id": 393,
          "index": 81,
          "industry": "Fintech"
         },
         {
          "company_id": 870,
          "index": 82,
          "industry": "Other"
         },
         {
          "company_id": 804,
          "index": 83,
          "industry": "Artificial intelligence"
         },
         {
          "company_id": 1041,
          "index": 84,
          "industry": "Internet software & services"
         },
         {
          "company_id": 443,
          "index": 85,
          "industry": "Artificial intelligence"
         },
         {
          "company_id": 978,
          "index": 86,
          "industry": "Internet software & services"
         },
         {
          "company_id": 612,
          "index": 87,
          "industry": "Auto & transportation"
         },
         {
          "company_id": 714,
          "index": 88,
          "industry": "Mobile & telecommunications"
         },
         {
          "company_id": 925,
          "index": 89,
          "industry": "Fintech"
         },
         {
          "company_id": 421,
          "index": 90,
          "industry": "Internet software & services"
         },
         {
          "company_id": 449,
          "index": 91,
          "industry": "Fintech"
         },
         {
          "company_id": 1022,
          "index": 92,
          "industry": "Supply chain, logistics, & delivery"
         },
         {
          "company_id": 240,
          "index": 93,
          "industry": "Other"
         },
         {
          "company_id": 644,
          "index": 94,
          "industry": "Supply chain, logistics, & delivery"
         },
         {
          "company_id": 718,
          "index": 95,
          "industry": "Fintech"
         },
         {
          "company_id": 920,
          "index": 96,
          "industry": "Fintech"
         },
         {
          "company_id": 1048,
          "index": 97,
          "industry": "Health"
         },
         {
          "company_id": 1024,
          "index": 98,
          "industry": "Artificial intelligence"
         },
         {
          "company_id": 929,
          "index": 99,
          "industry": "Artificial intelligence"
         },
         {
          "company_id": 751,
          "index": 100,
          "industry": "Internet software & services"
         },
         {
          "company_id": 1012,
          "index": 101,
          "industry": "Other"
         },
         {
          "company_id": 863,
          "index": 102,
          "industry": "Artificial intelligence"
         },
         {
          "company_id": 662,
          "index": 103,
          "industry": "Fintech"
         },
         {
          "company_id": 1027,
          "index": 104,
          "industry": "Fintech"
         },
         {
          "company_id": 783,
          "index": 105,
          "industry": "Fintech"
         },
         {
          "company_id": 592,
          "index": 106,
          "industry": "Cybersecurity"
         },
         {
          "company_id": 1023,
          "index": 107,
          "industry": "Fintech"
         },
         {
          "company_id": 1051,
          "index": 108,
          "industry": "Internet software & services"
         },
         {
          "company_id": 633,
          "index": 109,
          "industry": "Internet software & services"
         },
         {
          "company_id": 635,
          "index": 110,
          "industry": "Internet software & services"
         },
         {
          "company_id": 750,
          "index": 111,
          "industry": "Fintech"
         },
         {
          "company_id": 697,
          "index": 112,
          "industry": "Internet software & services"
         },
         {
          "company_id": 886,
          "index": 113,
          "industry": "Internet software & services"
         },
         {
          "company_id": 826,
          "index": 114,
          "industry": "Edtech"
         },
         {
          "company_id": 1000,
          "index": 115,
          "industry": "Artificial intelligence"
         },
         {
          "company_id": 740,
          "index": 116,
          "industry": "Internet software & services"
         },
         {
          "company_id": 798,
          "index": 117,
          "industry": "Health"
         },
         {
          "company_id": 1008,
          "index": 118,
          "industry": "Consumer & retail"
         },
         {
          "company_id": 761,
          "index": 119,
          "industry": "Internet software & services"
         },
         {
          "company_id": 701,
          "index": 120,
          "industry": "Internet software & services"
         },
         {
          "company_id": 825,
          "index": 121,
          "industry": "Internet software & services"
         },
         {
          "company_id": 344,
          "index": 122,
          "industry": "Internet software & services"
         },
         {
          "company_id": 695,
          "index": 123,
          "industry": "Internet software & services"
         },
         {
          "company_id": 876,
          "index": 124,
          "industry": "Hardware"
         },
         {
          "company_id": 643,
          "index": 125,
          "industry": "Artificial intelligence"
         },
         {
          "company_id": 509,
          "index": 126,
          "industry": "Internet software & services"
         },
         {
          "company_id": 979,
          "index": 127,
          "industry": "Internet software & services"
         },
         {
          "company_id": 1031,
          "index": 128,
          "industry": "Internet software & services"
         },
         {
          "company_id": 817,
          "index": 129,
          "industry": "Other"
         },
         {
          "company_id": 943,
          "index": 130,
          "industry": "Artificial intelligence"
         },
         {
          "company_id": 975,
          "index": 131,
          "industry": "Internet software & services"
         },
         {
          "company_id": 647,
          "index": 132,
          "industry": "Cybersecurity"
         },
         {
          "company_id": 426,
          "index": 133,
          "industry": "Artificial intelligence"
         },
         {
          "company_id": 705,
          "index": 134,
          "industry": "Health"
         },
         {
          "company_id": 724,
          "index": 135,
          "industry": "E-commerce & direct-to-consumer"
         },
         {
          "company_id": 464,
          "index": 136,
          "industry": "Internet software & services"
         },
         {
          "company_id": 942,
          "index": 137,
          "industry": "Fintech"
         },
         {
          "company_id": 354,
          "index": 138,
          "industry": "Other"
         },
         {
          "company_id": 688,
          "index": 139,
          "industry": "E-commerce & direct-to-consumer"
         },
         {
          "company_id": 1045,
          "index": 140,
          "industry": "Internet software & services"
         },
         {
          "company_id": 391,
          "index": 141,
          "industry": "Internet software & services"
         },
         {
          "company_id": 891,
          "index": 142,
          "industry": "Cybersecurity"
         },
         {
          "company_id": 1066,
          "index": 143,
          "industry": "Supply chain, logistics, & delivery"
         },
         {
          "company_id": 579,
          "index": 144,
          "industry": "Fintech"
         },
         {
          "company_id": 686,
          "index": 145,
          "industry": "Health"
         },
         {
          "company_id": 822,
          "index": 146,
          "industry": "E-commerce & direct-to-consumer"
         },
         {
          "company_id": 882,
          "index": 147,
          "industry": "Supply chain, logistics, & delivery"
         },
         {
          "company_id": 816,
          "index": 148,
          "industry": "Cybersecurity"
         },
         {
          "company_id": 369,
          "index": 149,
          "industry": "Hardware"
         },
         {
          "company_id": 340,
          "index": 150,
          "industry": "Fintech"
         },
         {
          "company_id": 1058,
          "index": 151,
          "industry": "Internet software & services"
         },
         {
          "company_id": 129,
          "index": 152,
          "industry": "Other"
         },
         {
          "company_id": 862,
          "index": 153,
          "industry": "Artificial intelligence"
         },
         {
          "company_id": 363,
          "index": 154,
          "industry": "Edtech"
         },
         {
          "company_id": 603,
          "index": 155,
          "industry": "Supply chain, logistics, & delivery"
         },
         {
          "company_id": 645,
          "index": 156,
          "industry": "Health"
         },
         {
          "company_id": 769,
          "index": 157,
          "industry": "Fintech"
         },
         {
          "company_id": 788,
          "index": 158,
          "industry": "Internet software & services"
         },
         {
          "company_id": 452,
          "index": 159,
          "industry": "Fintech"
         },
         {
          "company_id": 420,
          "index": 160,
          "industry": "Other"
         },
         {
          "company_id": 996,
          "index": 161,
          "industry": "Cybersecurity"
         },
         {
          "company_id": 763,
          "index": 162,
          "industry": "Artificial intelligence"
         },
         {
          "company_id": 803,
          "index": 163,
          "industry": "Fintech"
         },
         {
          "company_id": 765,
          "index": 164,
          "industry": "Internet software & services"
         },
         {
          "company_id": 989,
          "index": 165,
          "industry": "Health"
         },
         {
          "company_id": 409,
          "index": 166,
          "industry": "Artificial intelligence"
         },
         {
          "company_id": 580,
          "index": 167,
          "industry": "Internet software & services"
         },
         {
          "company_id": 513,
          "index": 168,
          "industry": "Other"
         },
         {
          "company_id": 809,
          "index": 169,
          "industry": "Internet software & services"
         },
         {
          "company_id": 791,
          "index": 170,
          "industry": "Edtech"
         },
         {
          "company_id": 998,
          "index": 171,
          "industry": "Mobile & telecommunications"
         },
         {
          "company_id": 455,
          "index": 172,
          "industry": "Health"
         },
         {
          "company_id": 477,
          "index": 173,
          "industry": "Artificial intelligence"
         },
         {
          "company_id": 896,
          "index": 174,
          "industry": "Artificial intelligence"
         },
         {
          "company_id": 797,
          "index": 175,
          "industry": "Internet software & services"
         },
         {
          "company_id": 361,
          "index": 176,
          "industry": "Fintech"
         },
         {
          "company_id": 250,
          "index": 177,
          "industry": "Supply chain, logistics, & delivery"
         },
         {
          "company_id": 229,
          "index": 178,
          "industry": "Artificial intelligence"
         },
         {
          "company_id": 540,
          "index": 179,
          "industry": "Artificial intelligence"
         },
         {
          "company_id": 73,
          "index": 180,
          "industry": "Cybersecurity"
         },
         {
          "company_id": 852,
          "index": 181,
          "industry": "Auto & transportation"
         },
         {
          "company_id": 78,
          "index": 182,
          "industry": "Internet software & services"
         },
         {
          "company_id": 79,
          "index": 183,
          "industry": "Health"
         },
         {
          "company_id": 632,
          "index": 184,
          "industry": "Other"
         },
         {
          "company_id": 314,
          "index": 185,
          "industry": "E-commerce & direct-to-consumer"
         },
         {
          "company_id": 82,
          "index": 186,
          "industry": "Fintech"
         },
         {
          "company_id": 164,
          "index": 187,
          "industry": "Data management & analytics"
         },
         {
          "company_id": 85,
          "index": 188,
          "industry": "Mobile & telecommunications"
         },
         {
          "company_id": 212,
          "index": 189,
          "industry": "Other"
         },
         {
          "company_id": 65,
          "index": 190,
          "industry": "Cybersecurity"
         },
         {
          "company_id": 258,
          "index": 191,
          "industry": "Auto & transportation"
         },
         {
          "company_id": 63,
          "index": 192,
          "industry": "Artificial intelligence"
         },
         {
          "company_id": 58,
          "index": 193,
          "industry": "Internet software & services"
         },
         {
          "company_id": 31,
          "index": 194,
          "industry": "Artificial intelligence"
         },
         {
          "company_id": 248,
          "index": 195,
          "industry": "Fintech"
         },
         {
          "company_id": 32,
          "index": 196,
          "industry": "Internet software & services"
         },
         {
          "company_id": 252,
          "index": 197,
          "industry": "Mobile & telecommunications"
         },
         {
          "company_id": 33,
          "index": 198,
          "industry": "Fintech"
         },
         {
          "company_id": 287,
          "index": 199,
          "industry": "E-commerce & direct-to-consumer"
         },
         {
          "company_id": 251,
          "index": 200,
          "industry": "Artificial intelligence"
         },
         {
          "company_id": 243,
          "index": 201,
          "industry": "Artificial intelligence"
         },
         {
          "company_id": 40,
          "index": 202,
          "industry": "Auto & transportation"
         },
         {
          "company_id": 44,
          "index": 203,
          "industry": "Fintech"
         },
         {
          "company_id": 45,
          "index": 204,
          "industry": "Data management & analytics"
         },
         {
          "company_id": 211,
          "index": 205,
          "industry": "Health"
         },
         {
          "company_id": 50,
          "index": 206,
          "industry": "Internet software & services"
         },
         {
          "company_id": 53,
          "index": 207,
          "industry": "Fintech"
         },
         {
          "company_id": 285,
          "index": 208,
          "industry": "Auto & transportation"
         },
         {
          "company_id": 217,
          "index": 209,
          "industry": "Artificial intelligence"
         },
         {
          "company_id": 134,
          "index": 210,
          "industry": "Fintech"
         },
         {
          "company_id": 317,
          "index": 211,
          "industry": "E-commerce & direct-to-consumer"
         },
         {
          "company_id": 365,
          "index": 212,
          "industry": "Auto & transportation"
         },
         {
          "company_id": 91,
          "index": 213,
          "industry": "Fintech"
         },
         {
          "company_id": 185,
          "index": 214,
          "industry": "Artificial intelligence"
         },
         {
          "company_id": 121,
          "index": 215,
          "industry": "E-commerce & direct-to-consumer"
         },
         {
          "company_id": 335,
          "index": 216,
          "industry": "Auto & transportation"
         },
         {
          "company_id": 1014,
          "index": 217,
          "industry": "Fintech"
         },
         {
          "company_id": 191,
          "index": 218,
          "industry": "Auto & transportation"
         },
         {
          "company_id": 334,
          "index": 219,
          "industry": "Supply chain, logistics, & delivery"
         },
         {
          "company_id": 118,
          "index": 220,
          "industry": "Internet software & services"
         },
         {
          "company_id": 115,
          "index": 221,
          "industry": "Artificial intelligence"
         },
         {
          "company_id": 113,
          "index": 222,
          "industry": "E-commerce & direct-to-consumer"
         },
         {
          "company_id": 147,
          "index": 223,
          "industry": "Hardware"
         },
         {
          "company_id": 136,
          "index": 224,
          "industry": "Edtech"
         },
         {
          "company_id": 130,
          "index": 225,
          "industry": "Internet software & services"
         },
         {
          "company_id": 321,
          "index": 226,
          "industry": "Supply chain, logistics, & delivery"
         },
         {
          "company_id": 327,
          "index": 227,
          "industry": "Fintech"
         },
         {
          "company_id": 641,
          "index": 228,
          "industry": "Fintech"
         },
         {
          "company_id": 352,
          "index": 229,
          "industry": "Travel"
         },
         {
          "company_id": 972,
          "index": 230,
          "industry": "Artificial intelligence"
         },
         {
          "company_id": 201,
          "index": 231,
          "industry": "Internet software & services"
         },
         {
          "company_id": 168,
          "index": 232,
          "industry": "Health"
         },
         {
          "company_id": 104,
          "index": 233,
          "industry": "Health"
         },
         {
          "company_id": 171,
          "index": 234,
          "industry": "Health"
         },
         {
          "company_id": 350,
          "index": 235,
          "industry": "E-commerce & direct-to-consumer"
         },
         {
          "company_id": 101,
          "index": 236,
          "industry": "Health"
         },
         {
          "company_id": 239,
          "index": 237,
          "industry": "Internet software & services"
         },
         {
          "company_id": 1065,
          "index": 238,
          "industry": "Internet software & services"
         },
         {
          "company_id": 938,
          "index": 239,
          "industry": "Artificial intelligence"
         },
         {
          "company_id": 828,
          "index": 240,
          "industry": "Internet software & services"
         },
         {
          "company_id": 941,
          "index": 241,
          "industry": "Mobile & telecommunications"
         },
         {
          "company_id": 988,
          "index": 242,
          "industry": "Hardware"
         },
         {
          "company_id": 484,
          "index": 243,
          "industry": "Fintech"
         },
         {
          "company_id": 864,
          "index": 244,
          "industry": "Internet software & services"
         },
         {
          "company_id": 383,
          "index": 245,
          "industry": "Internet software & services"
         },
         {
          "company_id": 1060,
          "index": 246,
          "industry": "Internet software & services"
         },
         {
          "company_id": 595,
          "index": 247,
          "industry": "Consumer & retail"
         },
         {
          "company_id": 840,
          "index": 248,
          "industry": "Fintech"
         },
         {
          "company_id": 290,
          "index": 249,
          "industry": "Internet software & services"
         },
         {
          "company_id": 742,
          "index": 250,
          "industry": "Fintech"
         },
         {
          "company_id": 964,
          "index": 251,
          "industry": "Health"
         },
         {
          "company_id": 712,
          "index": 252,
          "industry": "Mobile & telecommunications"
         },
         {
          "company_id": 837,
          "index": 253,
          "industry": "Fintech"
         },
         {
          "company_id": 583,
          "index": 254,
          "industry": "Internet software & services"
         },
         {
          "company_id": 411,
          "index": 255,
          "industry": "Hardware"
         },
         {
          "company_id": 430,
          "index": 256,
          "industry": "Internet software & services"
         },
         {
          "company_id": 875,
          "index": 257,
          "industry": "Artificial intelligence"
         },
         {
          "company_id": 810,
          "index": 258,
          "industry": "Cybersecurity"
         },
         {
          "company_id": 805,
          "index": 259,
          "industry": "Supply chain, logistics, & delivery"
         },
         {
          "company_id": 953,
          "index": 260,
          "industry": "Internet software & services"
         },
         {
          "company_id": 606,
          "index": 261,
          "industry": "Data management & analytics"
         },
         {
          "company_id": 679,
          "index": 262,
          "industry": "Supply chain, logistics, & delivery"
         },
         {
          "company_id": 907,
          "index": 263,
          "industry": "Cybersecurity"
         },
         {
          "company_id": 880,
          "index": 264,
          "industry": "Fintech"
         },
         {
          "company_id": 834,
          "index": 265,
          "industry": "Fintech"
         },
         {
          "company_id": 542,
          "index": 266,
          "industry": "Internet software & services"
         },
         {
          "company_id": 1043,
          "index": 267,
          "industry": "Health"
         },
         {
          "company_id": 410,
          "index": 268,
          "industry": "Data management & analytics"
         },
         {
          "company_id": 637,
          "index": 269,
          "industry": "Artificial intelligence"
         },
         {
          "company_id": 616,
          "index": 270,
          "industry": "Internet software & services"
         },
         {
          "company_id": 611,
          "index": 271,
          "industry": "Health"
         },
         {
          "company_id": 1064,
          "index": 272,
          "industry": "Fintech"
         },
         {
          "company_id": 1032,
          "index": 273,
          "industry": "Artificial intelligence"
         },
         {
          "company_id": 737,
          "index": 274,
          "industry": "Internet software & services"
         },
         {
          "company_id": 374,
          "index": 275,
          "industry": "E-commerce & direct-to-consumer"
         },
         {
          "company_id": 172,
          "index": 276,
          "industry": "Mobile & telecommunications"
         },
         {
          "company_id": 414,
          "index": 277,
          "industry": "Fintech"
         },
         {
          "company_id": 845,
          "index": 278,
          "industry": "Hardware"
         },
         {
          "company_id": 1055,
          "index": 279,
          "industry": "Internet software & services"
         },
         {
          "company_id": 416,
          "index": 280,
          "industry": "Cybersecurity"
         },
         {
          "company_id": 682,
          "index": 281,
          "industry": "Hardware"
         },
         {
          "company_id": 967,
          "index": 282,
          "industry": "Other"
         },
         {
          "company_id": 551,
          "index": 283,
          "industry": "Consumer & retail"
         },
         {
          "company_id": 491,
          "index": 284,
          "industry": "Artificial intelligence"
         },
         {
          "company_id": 446,
          "index": 285,
          "industry": "Fintech"
         },
         {
          "company_id": 982,
          "index": 286,
          "industry": "Cybersecurity"
         },
         {
          "company_id": 850,
          "index": 287,
          "industry": "Mobile & telecommunications"
         },
         {
          "company_id": 928,
          "index": 288,
          "industry": "Artificial intelligence"
         },
         {
          "company_id": 380,
          "index": 289,
          "industry": "Mobile & telecommunications"
         },
         {
          "company_id": 451,
          "index": 290,
          "industry": "Internet software & services"
         },
         {
          "company_id": 987,
          "index": 291,
          "industry": "Internet software & services"
         },
         {
          "company_id": 842,
          "index": 292,
          "industry": "Other"
         },
         {
          "company_id": 620,
          "index": 293,
          "industry": "Edtech"
         },
         {
          "company_id": 356,
          "index": 294,
          "industry": "Fintech"
         },
         {
          "company_id": 872,
          "index": 295,
          "industry": "E-commerce & direct-to-consumer"
         },
         {
          "company_id": 417,
          "index": 296,
          "industry": "Internet software & services"
         },
         {
          "company_id": 427,
          "index": 297,
          "industry": "E-commerce & direct-to-consumer"
         },
         {
          "company_id": 255,
          "index": 298,
          "industry": "Other"
         },
         {
          "company_id": 397,
          "index": 299,
          "industry": "Data management & analytics"
         },
         {
          "company_id": 857,
          "index": 300,
          "industry": "Internet software & services"
         },
         {
          "company_id": 588,
          "index": 301,
          "industry": "Internet software & services"
         },
         {
          "company_id": 1005,
          "index": 302,
          "industry": "Data management & analytics"
         },
         {
          "company_id": 609,
          "index": 303,
          "industry": "Fintech"
         },
         {
          "company_id": 619,
          "index": 304,
          "industry": "Fintech"
         },
         {
          "company_id": 681,
          "index": 305,
          "industry": "Cybersecurity"
         },
         {
          "company_id": 489,
          "index": 306,
          "industry": "Internet software & services"
         },
         {
          "company_id": 626,
          "index": 307,
          "industry": "Supply chain, logistics, & delivery"
         },
         {
          "company_id": 649,
          "index": 308,
          "industry": "Fintech"
         },
         {
          "company_id": 234,
          "index": 309,
          "industry": "Internet software & services"
         },
         {
          "company_id": 770,
          "index": 310,
          "industry": "Fintech"
         },
         {
          "company_id": 614,
          "index": 311,
          "industry": "E-commerce & direct-to-consumer"
         },
         {
          "company_id": 482,
          "index": 312,
          "industry": "Fintech"
         },
         {
          "company_id": 968,
          "index": 313,
          "industry": "E-commerce & direct-to-consumer"
         },
         {
          "company_id": 899,
          "index": 314,
          "industry": "Health"
         },
         {
          "company_id": 386,
          "index": 315,
          "industry": "Consumer & retail"
         },
         {
          "company_id": 665,
          "index": 316,
          "industry": "Internet software & services"
         },
         {
          "company_id": 1039,
          "index": 317,
          "industry": "Artificial intelligence"
         },
         {
          "company_id": 800,
          "index": 318,
          "industry": "Data management & analytics"
         },
         {
          "company_id": 457,
          "index": 319,
          "industry": "Fintech"
         },
         {
          "company_id": 676,
          "index": 320,
          "industry": "Fintech"
         },
         {
          "company_id": 1050,
          "index": 321,
          "industry": "Artificial intelligence"
         },
         {
          "company_id": 694,
          "index": 322,
          "industry": "Fintech"
         },
         {
          "company_id": 481,
          "index": 323,
          "industry": "Data management & analytics"
         },
         {
          "company_id": 878,
          "index": 324,
          "industry": "Artificial intelligence"
         },
         {
          "company_id": 995,
          "index": 325,
          "industry": "Fintech"
         },
         {
          "company_id": 1034,
          "index": 326,
          "industry": "Artificial intelligence"
         },
         {
          "company_id": 855,
          "index": 327,
          "industry": "Hardware"
         },
         {
          "company_id": 345,
          "index": 328,
          "industry": "Edtech"
         },
         {
          "company_id": 691,
          "index": 329,
          "industry": "Internet software & services"
         },
         {
          "company_id": 860,
          "index": 330,
          "industry": "Internet software & services"
         },
         {
          "company_id": 511,
          "index": 331,
          "industry": "Hardware"
         },
         {
          "company_id": 704,
          "index": 332,
          "industry": "Health"
         },
         {
          "company_id": 881,
          "index": 333,
          "industry": "Other"
         },
         {
          "company_id": 747,
          "index": 334,
          "industry": "Internet software & services"
         },
         {
          "company_id": 861,
          "index": 335,
          "industry": "Fintech"
         },
         {
          "company_id": 407,
          "index": 336,
          "industry": "Internet software & services"
         },
         {
          "company_id": 858,
          "index": 337,
          "industry": "Fintech"
         },
         {
          "company_id": 749,
          "index": 338,
          "industry": "Cybersecurity"
         },
         {
          "company_id": 841,
          "index": 339,
          "industry": "Supply chain, logistics, & delivery"
         },
         {
          "company_id": 282,
          "index": 340,
          "industry": "Internet software & services"
         },
         {
          "company_id": 1026,
          "index": 341,
          "industry": "Fintech"
         },
         {
          "company_id": 630,
          "index": 342,
          "industry": "Fintech"
         },
         {
          "company_id": 621,
          "index": 343,
          "industry": "Fintech"
         },
         {
          "company_id": 847,
          "index": 344,
          "industry": "E-commerce & direct-to-consumer"
         },
         {
          "company_id": 223,
          "index": 345,
          "industry": "Internet software & services"
         },
         {
          "company_id": 1009,
          "index": 346,
          "industry": "Other"
         },
         {
          "company_id": 563,
          "index": 347,
          "industry": "Hardware"
         },
         {
          "company_id": 476,
          "index": 348,
          "industry": "Artificial intelligence"
         },
         {
          "company_id": 970,
          "index": 349,
          "industry": "Consumer & retail"
         },
         {
          "company_id": 990,
          "index": 350,
          "industry": "Fintech"
         },
         {
          "company_id": 728,
          "index": 351,
          "industry": "Cybersecurity"
         },
         {
          "company_id": 415,
          "index": 352,
          "industry": "Internet software & services"
         },
         {
          "company_id": 956,
          "index": 353,
          "industry": "Health"
         },
         {
          "company_id": 418,
          "index": 354,
          "industry": "Fintech"
         },
         {
          "company_id": 892,
          "index": 355,
          "industry": "Data management & analytics"
         },
         {
          "company_id": 991,
          "index": 356,
          "industry": "Artificial intelligence"
         },
         {
          "company_id": 1028,
          "index": 357,
          "industry": "Internet software & services"
         },
         {
          "company_id": 454,
          "index": 358,
          "industry": "Health"
         },
         {
          "company_id": 400,
          "index": 359,
          "industry": "Internet software & services"
         },
         {
          "company_id": 1042,
          "index": 360,
          "industry": "E-commerce & direct-to-consumer"
         },
         {
          "company_id": 753,
          "index": 361,
          "industry": "Cybersecurity"
         },
         {
          "company_id": 911,
          "index": 362,
          "industry": "Cybersecurity"
         },
         {
          "company_id": 819,
          "index": 363,
          "industry": "Internet software & services"
         },
         {
          "company_id": 507,
          "index": 364,
          "industry": "Health"
         },
         {
          "company_id": 910,
          "index": 365,
          "industry": "Health"
         },
         {
          "company_id": 756,
          "index": 366,
          "industry": "Internet software & services"
         },
         {
          "company_id": 480,
          "index": 367,
          "industry": "Internet software & services"
         },
         {
          "company_id": 405,
          "index": 368,
          "industry": "Internet software & services"
         },
         {
          "company_id": 683,
          "index": 369,
          "industry": "E-commerce & direct-to-consumer"
         },
         {
          "company_id": 959,
          "index": 370,
          "industry": "Fintech"
         },
         {
          "company_id": 954,
          "index": 371,
          "industry": "Health"
         },
         {
          "company_id": 203,
          "index": 372,
          "industry": "Data management & analytics"
         },
         {
          "company_id": 170,
          "index": 373,
          "industry": "Mobile & telecommunications"
         },
         {
          "company_id": 698,
          "index": 374,
          "industry": "Data management & analytics"
         },
         {
          "company_id": 790,
          "index": 375,
          "industry": "Internet software & services"
         },
         {
          "company_id": 962,
          "index": 376,
          "industry": "Health"
         },
         {
          "company_id": 865,
          "index": 377,
          "industry": "Cybersecurity"
         },
         {
          "company_id": 461,
          "index": 378,
          "industry": "Consumer & retail"
         },
         {
          "company_id": 670,
          "index": 379,
          "industry": "Data management & analytics"
         },
         {
          "company_id": 529,
          "index": 380,
          "industry": "Fintech"
         },
         {
          "company_id": 634,
          "index": 381,
          "industry": "Edtech"
         },
         {
          "company_id": 897,
          "index": 382,
          "industry": "Cybersecurity"
         },
         {
          "company_id": 924,
          "index": 383,
          "industry": "E-commerce & direct-to-consumer"
         },
         {
          "company_id": 768,
          "index": 384,
          "industry": "Data management & analytics"
         },
         {
          "company_id": 707,
          "index": 385,
          "industry": "Cybersecurity"
         },
         {
          "company_id": 673,
          "index": 386,
          "industry": "Health"
         },
         {
          "company_id": 1049,
          "index": 387,
          "industry": "Fintech"
         },
         {
          "company_id": 1017,
          "index": 388,
          "industry": "Supply chain, logistics, & delivery"
         },
         {
          "company_id": 856,
          "index": 389,
          "industry": "Artificial intelligence"
         },
         {
          "company_id": 1007,
          "index": 390,
          "industry": "Internet software & services"
         },
         {
          "company_id": 462,
          "index": 391,
          "industry": "Internet software & services"
         },
         {
          "company_id": 832,
          "index": 392,
          "industry": "Data management & analytics"
         },
         {
          "company_id": 265,
          "index": 393,
          "industry": "E-commerce & direct-to-consumer"
         },
         {
          "company_id": 485,
          "index": 394,
          "industry": "Fintech"
         },
         {
          "company_id": 490,
          "index": 395,
          "industry": "Other"
         },
         {
          "company_id": 723,
          "index": 396,
          "industry": "E-commerce & direct-to-consumer"
         },
         {
          "company_id": 913,
          "index": 397,
          "industry": "Artificial intelligence"
         },
         {
          "company_id": 534,
          "index": 398,
          "industry": "Fintech"
         },
         {
          "company_id": 494,
          "index": 399,
          "industry": "Internet software & services"
         },
         {
          "company_id": 849,
          "index": 400,
          "industry": "Internet software & services"
         },
         {
          "company_id": 908,
          "index": 401,
          "industry": "Other"
         },
         {
          "company_id": 264,
          "index": 402,
          "industry": "Fintech"
         },
         {
          "company_id": 550,
          "index": 403,
          "industry": "Fintech"
         },
         {
          "company_id": 778,
          "index": 404,
          "industry": "Internet software & services"
         },
         {
          "company_id": 624,
          "index": 405,
          "industry": "Supply chain, logistics, & delivery"
         },
         {
          "company_id": 958,
          "index": 406,
          "industry": "Cybersecurity"
         },
         {
          "company_id": 440,
          "index": 407,
          "industry": "Fintech"
         },
         {
          "company_id": 921,
          "index": 408,
          "industry": "Mobile & telecommunications"
         },
         {
          "company_id": 926,
          "index": 409,
          "industry": "Internet software & services"
         },
         {
          "company_id": 584,
          "index": 410,
          "industry": "Other"
         },
         {
          "company_id": 980,
          "index": 411,
          "industry": "Fintech"
         },
         {
          "company_id": 468,
          "index": 412,
          "industry": "Hardware"
         },
         {
          "company_id": 709,
          "index": 413,
          "industry": "Artificial intelligence"
         },
         {
          "company_id": 138,
          "index": 414,
          "industry": "Fintech"
         },
         {
          "company_id": 719,
          "index": 415,
          "industry": "Other"
         },
         {
          "company_id": 505,
          "index": 416,
          "industry": "E-commerce & direct-to-consumer"
         },
         {
          "company_id": 811,
          "index": 417,
          "industry": "E-commerce & direct-to-consumer"
         },
         {
          "company_id": 395,
          "index": 418,
          "industry": "Internet software & services"
         },
         {
          "company_id": 746,
          "index": 419,
          "industry": "Data management & analytics"
         },
         {
          "company_id": 1052,
          "index": 420,
          "industry": "Edtech"
         },
         {
          "company_id": 806,
          "index": 421,
          "industry": "Fintech"
         },
         {
          "company_id": 873,
          "index": 422,
          "industry": "Artificial intelligence"
         },
         {
          "company_id": 966,
          "index": 423,
          "industry": "Artificial intelligence"
         },
         {
          "company_id": 545,
          "index": 424,
          "industry": "Mobile & telecommunications"
         },
         {
          "company_id": 912,
          "index": 425,
          "industry": "Supply chain, logistics, & delivery"
         },
         {
          "company_id": 187,
          "index": 426,
          "industry": "Internet software & services"
         },
         {
          "company_id": 47,
          "index": 427,
          "industry": "Fintech"
         },
         {
          "company_id": 868,
          "index": 428,
          "industry": "Artificial intelligence"
         },
         {
          "company_id": 671,
          "index": 429,
          "industry": "E-commerce & direct-to-consumer"
         },
         {
          "company_id": 521,
          "index": 430,
          "industry": "Health"
         },
         {
          "company_id": 591,
          "index": 431,
          "industry": "Health"
         },
         {
          "company_id": 593,
          "index": 432,
          "industry": "Health"
         },
         {
          "company_id": 84,
          "index": 433,
          "industry": "Fintech"
         },
         {
          "company_id": 459,
          "index": 434,
          "industry": "Health"
         },
         {
          "company_id": 514,
          "index": 435,
          "industry": "Mobile & telecommunications"
         },
         {
          "company_id": 425,
          "index": 436,
          "industry": "Supply chain, logistics, & delivery"
         },
         {
          "company_id": 561,
          "index": 437,
          "industry": "Internet software & services"
         },
         {
          "company_id": 303,
          "index": 438,
          "industry": "Fintech"
         },
         {
          "company_id": 914,
          "index": 439,
          "industry": "Internet software & services"
         },
         {
          "company_id": 957,
          "index": 440,
          "industry": "Hardware"
         },
         {
          "company_id": 368,
          "index": 441,
          "industry": "E-commerce & direct-to-consumer"
         },
         {
          "company_id": 204,
          "index": 442,
          "industry": "Edtech"
         },
         {
          "company_id": 14,
          "index": 443,
          "industry": "Fintech"
         },
         {
          "company_id": 1010,
          "index": 444,
          "industry": "Supply chain, logistics, & delivery"
         },
         {
          "company_id": 10,
          "index": 445,
          "industry": "Fintech"
         },
         {
          "company_id": 220,
          "index": 446,
          "industry": "Auto & transportation"
         },
         {
          "company_id": 615,
          "index": 447,
          "industry": "Auto & transportation"
         },
         {
          "company_id": 6,
          "index": 448,
          "industry": "Fintech"
         },
         {
          "company_id": 3,
          "index": 449,
          "industry": "Fintech"
         },
         {
          "company_id": 34,
          "index": 450,
          "industry": "E-commerce & direct-to-consumer"
         },
         {
          "company_id": 12,
          "index": 451,
          "industry": "Fintech"
         },
         {
          "company_id": 657,
          "index": 452,
          "industry": "Auto & transportation"
         },
         {
          "company_id": 169,
          "index": 453,
          "industry": "Fintech"
         },
         {
          "company_id": 2,
          "index": 454,
          "industry": "E-commerce & direct-to-consumer"
         },
         {
          "company_id": 26,
          "index": 455,
          "industry": "Health"
         },
         {
          "company_id": 93,
          "index": 456,
          "industry": "E-commerce & direct-to-consumer"
         },
         {
          "company_id": 176,
          "index": 457,
          "industry": "Artificial intelligence"
         },
         {
          "company_id": 86,
          "index": 458,
          "industry": "Consumer & retail"
         },
         {
          "company_id": 66,
          "index": 459,
          "industry": "E-commerce & direct-to-consumer"
         },
         {
          "company_id": 64,
          "index": 460,
          "industry": "Auto & transportation"
         },
         {
          "company_id": 62,
          "index": 461,
          "industry": "Travel"
         },
         {
          "company_id": 60,
          "index": 462,
          "industry": "Other"
         },
         {
          "company_id": 71,
          "index": 463,
          "industry": "Internet software & services"
         },
         {
          "company_id": 640,
          "index": 464,
          "industry": "E-commerce & direct-to-consumer"
         },
         {
          "company_id": 56,
          "index": 465,
          "industry": "Supply chain, logistics, & delivery"
         },
         {
          "company_id": 76,
          "index": 466,
          "industry": "Cybersecurity"
         },
         {
          "company_id": 83,
          "index": 467,
          "industry": "Supply chain, logistics, & delivery"
         },
         {
          "company_id": 149,
          "index": 468,
          "industry": "Supply chain, logistics, & delivery"
         },
         {
          "company_id": 67,
          "index": 469,
          "industry": "Fintech"
         },
         {
          "company_id": 155,
          "index": 470,
          "industry": "Fintech"
         },
         {
          "company_id": 103,
          "index": 471,
          "industry": "Consumer & retail"
         },
         {
          "company_id": 523,
          "index": 472,
          "industry": "Artificial intelligence"
         },
         {
          "company_id": 789,
          "index": 473,
          "industry": "Artificial intelligence"
         },
         {
          "company_id": 961,
          "index": 474,
          "industry": "Mobile & telecommunications"
         },
         {
          "company_id": 854,
          "index": 475,
          "industry": "Internet software & services"
         },
         {
          "company_id": 554,
          "index": 476,
          "industry": "Data management & analytics"
         },
         {
          "company_id": 522,
          "index": 477,
          "industry": "Fintech"
         },
         {
          "company_id": 935,
          "index": 478,
          "industry": "Edtech"
         },
         {
          "company_id": 552,
          "index": 479,
          "industry": "Fintech"
         },
         {
          "company_id": 687,
          "index": 480,
          "industry": "Mobile & telecommunications"
         },
         {
          "company_id": 815,
          "index": 481,
          "industry": "Internet software & services"
         },
         {
          "company_id": 895,
          "index": 482,
          "industry": "Fintech"
         },
         {
          "company_id": 510,
          "index": 483,
          "industry": "Artificial intelligence"
         },
         {
          "company_id": 531,
          "index": 484,
          "industry": "Artificial intelligence"
         },
         {
          "company_id": 949,
          "index": 485,
          "industry": "Edtech"
         },
         {
          "company_id": 833,
          "index": 486,
          "industry": "Internet software & services"
         },
         {
          "company_id": 650,
          "index": 487,
          "industry": "Internet software & services"
         },
         {
          "company_id": 1057,
          "index": 488,
          "industry": "Internet software & services"
         },
         {
          "company_id": 785,
          "index": 489,
          "industry": "Fintech"
         },
         {
          "company_id": 408,
          "index": 490,
          "industry": "Data management & analytics"
         },
         {
          "company_id": 1015,
          "index": 491,
          "industry": "E-commerce & direct-to-consumer"
         },
         {
          "company_id": 642,
          "index": 492,
          "industry": "Mobile & telecommunications"
         },
         {
          "company_id": 617,
          "index": 493,
          "industry": "Artificial intelligence"
         },
         {
          "company_id": 779,
          "index": 494,
          "industry": "E-commerce & direct-to-consumer"
         },
         {
          "company_id": 475,
          "index": 495,
          "industry": "Supply chain, logistics, & delivery"
         },
         {
          "company_id": 349,
          "index": 496,
          "industry": "Internet software & services"
         },
         {
          "company_id": 272,
          "index": 497,
          "industry": "Internet software & services"
         },
         {
          "company_id": 708,
          "index": 498,
          "industry": "Fintech"
         },
         {
          "company_id": 916,
          "index": 499,
          "industry": "Fintech"
         },
         {
          "company_id": 289,
          "index": 500,
          "industry": "Health"
         },
         {
          "company_id": 675,
          "index": 501,
          "industry": "Fintech"
         },
         {
          "company_id": 266,
          "index": 502,
          "industry": "Internet software & services"
         },
         {
          "company_id": 784,
          "index": 503,
          "industry": "Health"
         },
         {
          "company_id": 471,
          "index": 504,
          "industry": "Internet software & services"
         },
         {
          "company_id": 622,
          "index": 505,
          "industry": "Edtech"
         },
         {
          "company_id": 574,
          "index": 506,
          "industry": "Internet software & services"
         },
         {
          "company_id": 766,
          "index": 507,
          "industry": "Artificial intelligence"
         },
         {
          "company_id": 693,
          "index": 508,
          "industry": "Edtech"
         },
         {
          "company_id": 390,
          "index": 509,
          "industry": "Fintech"
         },
         {
          "company_id": 413,
          "index": 510,
          "industry": "E-commerce & direct-to-consumer"
         },
         {
          "company_id": 684,
          "index": 511,
          "industry": "Fintech"
         },
         {
          "company_id": 801,
          "index": 512,
          "industry": "Health"
         },
         {
          "company_id": 748,
          "index": 513,
          "industry": "Other"
         },
         {
          "company_id": 206,
          "index": 514,
          "industry": "Fintech"
         },
         {
          "company_id": 752,
          "index": 515,
          "industry": "Internet software & services"
         },
         {
          "company_id": 820,
          "index": 516,
          "industry": "Hardware"
         },
         {
          "company_id": 965,
          "index": 517,
          "industry": "Internet software & services"
         },
         {
          "company_id": 448,
          "index": 518,
          "industry": "Hardware"
         },
         {
          "company_id": 902,
          "index": 519,
          "industry": "Internet software & services"
         },
         {
          "company_id": 1036,
          "index": 520,
          "industry": "Fintech"
         },
         {
          "company_id": 304,
          "index": 521,
          "industry": "Fintech"
         },
         {
          "company_id": 325,
          "index": 522,
          "industry": "Fintech"
         },
         {
          "company_id": 1019,
          "index": 523,
          "industry": "Artificial intelligence"
         },
         {
          "company_id": 690,
          "index": 524,
          "industry": "Health"
         },
         {
          "company_id": 636,
          "index": 525,
          "industry": "Auto & transportation"
         },
         {
          "company_id": 342,
          "index": 526,
          "industry": "Internet software & services"
         },
         {
          "company_id": 343,
          "index": 527,
          "industry": "Internet software & services"
         },
         {
          "company_id": 933,
          "index": 528,
          "industry": "Mobile & telecommunications"
         },
         {
          "company_id": 1011,
          "index": 529,
          "industry": "Cybersecurity"
         },
         {
          "company_id": 1062,
          "index": 530,
          "industry": "E-commerce & direct-to-consumer"
         },
         {
          "company_id": 428,
          "index": 531,
          "industry": "Internet software & services"
         },
         {
          "company_id": 1021,
          "index": 532,
          "industry": "Supply chain, logistics, & delivery"
         },
         {
          "company_id": 332,
          "index": 533,
          "industry": "Internet software & services"
         },
         {
          "company_id": 950,
          "index": 534,
          "industry": "Consumer & retail"
         },
         {
          "company_id": 54,
          "index": 535,
          "industry": "Internet software & services"
         },
         {
          "company_id": 308,
          "index": 536,
          "industry": "Internet software & services"
         },
         {
          "company_id": 493,
          "index": 537,
          "industry": "Internet software & services"
         },
         {
          "company_id": 237,
          "index": 538,
          "industry": "Internet software & services"
         },
         {
          "company_id": 730,
          "index": 539,
          "industry": "Fintech"
         },
         {
          "company_id": 741,
          "index": 540,
          "industry": "Supply chain, logistics, & delivery"
         },
         {
          "company_id": 960,
          "index": 541,
          "industry": "E-commerce & direct-to-consumer"
         },
         {
          "company_id": 1038,
          "index": 542,
          "industry": "E-commerce & direct-to-consumer"
         },
         {
          "company_id": 780,
          "index": 543,
          "industry": "E-commerce & direct-to-consumer"
         },
         {
          "company_id": 774,
          "index": 544,
          "industry": "Other"
         },
         {
          "company_id": 936,
          "index": 545,
          "industry": "Fintech"
         },
         {
          "company_id": 351,
          "index": 546,
          "industry": "Fintech"
         },
         {
          "company_id": 602,
          "index": 547,
          "industry": "Fintech"
         },
         {
          "company_id": 802,
          "index": 548,
          "industry": "Fintech"
         },
         {
          "company_id": 794,
          "index": 549,
          "industry": "Consumer & retail"
         },
         {
          "company_id": 381,
          "index": 550,
          "industry": "Health"
         },
         {
          "company_id": 1025,
          "index": 551,
          "industry": "Supply chain, logistics, & delivery"
         },
         {
          "company_id": 831,
          "index": 552,
          "industry": "Supply chain, logistics, & delivery"
         },
         {
          "company_id": 429,
          "index": 553,
          "industry": "Fintech"
         },
         {
          "company_id": 547,
          "index": 554,
          "industry": "Internet software & services"
         },
         {
          "company_id": 568,
          "index": 555,
          "industry": "Internet software & services"
         },
         {
          "company_id": 57,
          "index": 556,
          "industry": "Internet software & services"
         },
         {
          "company_id": 628,
          "index": 557,
          "industry": "Other"
         },
         {
          "company_id": 517,
          "index": 558,
          "industry": "Fintech"
         },
         {
          "company_id": 777,
          "index": 559,
          "industry": "E-commerce & direct-to-consumer"
         },
         {
          "company_id": 827,
          "index": 560,
          "industry": "Data management & analytics"
         },
         {
          "company_id": 786,
          "index": 561,
          "industry": "Data management & analytics"
         },
         {
          "company_id": 528,
          "index": 562,
          "industry": "Internet software & services"
         },
         {
          "company_id": 210,
          "index": 563,
          "industry": "Internet software & services"
         },
         {
          "company_id": 917,
          "index": 564,
          "industry": "Supply chain, logistics, & delivery"
         },
         {
          "company_id": 328,
          "index": 565,
          "industry": "Internet software & services"
         },
         {
          "company_id": 508,
          "index": 566,
          "industry": "Other"
         },
         {
          "company_id": 192,
          "index": 567,
          "industry": "Data management & analytics"
         },
         {
          "company_id": 994,
          "index": 568,
          "industry": "Internet software & services"
         },
         {
          "company_id": 877,
          "index": 569,
          "industry": "Supply chain, logistics, & delivery"
         },
         {
          "company_id": 646,
          "index": 570,
          "industry": "Artificial intelligence"
         },
         {
          "company_id": 589,
          "index": 571,
          "industry": "Data management & analytics"
         },
         {
          "company_id": 278,
          "index": 572,
          "industry": "Internet software & services"
         },
         {
          "company_id": 474,
          "index": 573,
          "industry": "Cybersecurity"
         },
         {
          "company_id": 918,
          "index": 574,
          "industry": "Supply chain, logistics, & delivery"
         },
         {
          "company_id": 323,
          "index": 575,
          "industry": "Internet software & services"
         },
         {
          "company_id": 729,
          "index": 576,
          "industry": "Artificial intelligence"
         },
         {
          "company_id": 835,
          "index": 577,
          "industry": "Mobile & telecommunications"
         },
         {
          "company_id": 680,
          "index": 578,
          "industry": "Auto & transportation"
         },
         {
          "company_id": 927,
          "index": 579,
          "industry": "Artificial intelligence"
         },
         {
          "company_id": 467,
          "index": 580,
          "industry": "Fintech"
         },
         {
          "company_id": 535,
          "index": 581,
          "industry": "Fintech"
         },
         {
          "company_id": 773,
          "index": 582,
          "industry": "Internet software & services"
         },
         {
          "company_id": 596,
          "index": 583,
          "industry": "Fintech"
         },
         {
          "company_id": 267,
          "index": 584,
          "industry": "Hardware"
         },
         {
          "company_id": 208,
          "index": 585,
          "industry": "Fintech"
         },
         {
          "company_id": 702,
          "index": 586,
          "industry": "E-commerce & direct-to-consumer"
         },
         {
          "company_id": 648,
          "index": 587,
          "industry": "Mobile & telecommunications"
         },
         {
          "company_id": 1003,
          "index": 588,
          "industry": "Fintech"
         },
         {
          "company_id": 412,
          "index": 589,
          "industry": "Artificial intelligence"
         },
         {
          "company_id": 558,
          "index": 590,
          "industry": "Fintech"
         },
         {
          "company_id": 1029,
          "index": 591,
          "industry": "Internet software & services"
         },
         {
          "company_id": 158,
          "index": 592,
          "industry": "Artificial intelligence"
         },
         {
          "company_id": 536,
          "index": 593,
          "industry": "E-commerce & direct-to-consumer"
         },
         {
          "company_id": 598,
          "index": 594,
          "industry": "Health"
         },
         {
          "company_id": 512,
          "index": 595,
          "industry": "Health"
         },
         {
          "company_id": 39,
          "index": 596,
          "industry": "Auto & transportation"
         },
         {
          "company_id": 1037,
          "index": 597,
          "industry": "Mobile & telecommunications"
         },
         {
          "company_id": 431,
          "index": 598,
          "industry": "Internet software & services"
         },
         {
          "company_id": 739,
          "index": 599,
          "industry": "Fintech"
         },
         {
          "company_id": 499,
          "index": 600,
          "industry": "Fintech"
         },
         {
          "company_id": 207,
          "index": 601,
          "industry": "Internet software & services"
         },
         {
          "company_id": 1069,
          "index": 602,
          "industry": "E-commerce & direct-to-consumer"
         },
         {
          "company_id": 307,
          "index": 603,
          "industry": "Health"
         },
         {
          "company_id": 437,
          "index": 604,
          "industry": "Artificial intelligence"
         },
         {
          "company_id": 787,
          "index": 605,
          "industry": "Supply chain, logistics, & delivery"
         },
         {
          "company_id": 392,
          "index": 606,
          "industry": "Internet software & services"
         },
         {
          "company_id": 182,
          "index": 607,
          "industry": "Hardware"
         },
         {
          "company_id": 401,
          "index": 608,
          "industry": "Data management & analytics"
         },
         {
          "company_id": 555,
          "index": 609,
          "industry": "Fintech"
         },
         {
          "company_id": 713,
          "index": 610,
          "industry": "Internet software & services"
         },
         {
          "company_id": 772,
          "index": 611,
          "industry": "E-commerce & direct-to-consumer"
         },
         {
          "company_id": 700,
          "index": 612,
          "industry": "Internet software & services"
         },
         {
          "company_id": 442,
          "index": 613,
          "industry": "Internet software & services"
         },
         {
          "company_id": 663,
          "index": 614,
          "industry": "Internet software & services"
         },
         {
          "company_id": 1068,
          "index": 615,
          "industry": "Edtech"
         },
         {
          "company_id": 722,
          "index": 616,
          "industry": "Fintech"
         },
         {
          "company_id": 444,
          "index": 617,
          "industry": "Cybersecurity"
         },
         {
          "company_id": 888,
          "index": 618,
          "industry": "Supply chain, logistics, & delivery"
         },
         {
          "company_id": 366,
          "index": 619,
          "industry": "Edtech"
         },
         {
          "company_id": 915,
          "index": 620,
          "industry": "Health"
         },
         {
          "company_id": 339,
          "index": 621,
          "industry": "Fintech"
         },
         {
          "company_id": 656,
          "index": 622,
          "industry": "Other"
         },
         {
          "company_id": 659,
          "index": 623,
          "industry": "Auto & transportation"
         },
         {
          "company_id": 631,
          "index": 624,
          "industry": "Health"
         },
         {
          "company_id": 275,
          "index": 625,
          "industry": "Cybersecurity"
         },
         {
          "company_id": 807,
          "index": 626,
          "industry": "Fintech"
         },
         {
          "company_id": 985,
          "index": 627,
          "industry": "Travel"
         },
         {
          "company_id": 466,
          "index": 628,
          "industry": "E-commerce & direct-to-consumer"
         },
         {
          "company_id": 524,
          "index": 629,
          "industry": "Internet software & services"
         },
         {
          "company_id": 296,
          "index": 630,
          "industry": "Fintech"
         },
         {
          "company_id": 735,
          "index": 631,
          "industry": "Supply chain, logistics, & delivery"
         },
         {
          "company_id": 309,
          "index": 632,
          "industry": "E-commerce & direct-to-consumer"
         },
         {
          "company_id": 577,
          "index": 633,
          "industry": "Hardware"
         },
         {
          "company_id": 23,
          "index": 634,
          "industry": "E-commerce & direct-to-consumer"
         },
         {
          "company_id": 105,
          "index": 635,
          "industry": "Auto & transportation"
         },
         {
          "company_id": 9,
          "index": 636,
          "industry": "Data management & analytics"
         },
         {
          "company_id": 46,
          "index": 637,
          "industry": "Edtech"
         },
         {
          "company_id": 7,
          "index": 638,
          "industry": "Supply chain, logistics, & delivery"
         },
         {
          "company_id": 48,
          "index": 639,
          "industry": "Travel"
         },
         {
          "company_id": 502,
          "index": 640,
          "industry": "Internet software & services"
         },
         {
          "company_id": 28,
          "index": 641,
          "industry": "Internet software & services"
         },
         {
          "company_id": 516,
          "index": 642,
          "industry": "Artificial intelligence"
         },
         {
          "company_id": 438,
          "index": 643,
          "industry": "Cybersecurity"
         },
         {
          "company_id": 501,
          "index": 644,
          "industry": "Fintech"
         },
         {
          "company_id": 473,
          "index": 645,
          "industry": "Health"
         },
         {
          "company_id": 465,
          "index": 646,
          "industry": "Fintech"
         },
         {
          "company_id": 1044,
          "index": 647,
          "industry": "Fintech"
         },
         {
          "company_id": 818,
          "index": 648,
          "industry": "Fintech"
         },
         {
          "company_id": 195,
          "index": 649,
          "industry": "E-commerce & direct-to-consumer"
         },
         {
          "company_id": 125,
          "index": 650,
          "industry": "Fintech"
         },
         {
          "company_id": 885,
          "index": 651,
          "industry": "Fintech"
         },
         {
          "company_id": 689,
          "index": 652,
          "industry": "Auto & transportation"
         },
         {
          "company_id": 288,
          "index": 653,
          "industry": "Fintech"
         },
         {
          "company_id": 280,
          "index": 654,
          "industry": "Data management & analytics"
         },
         {
          "company_id": 843,
          "index": 655,
          "industry": "Auto & transportation"
         },
         {
          "company_id": 256,
          "index": 656,
          "industry": "Cybersecurity"
         },
         {
          "company_id": 582,
          "index": 657,
          "industry": "Data management & analytics"
         },
         {
          "company_id": 745,
          "index": 658,
          "industry": "Travel"
         },
         {
          "company_id": 559,
          "index": 659,
          "industry": "Data management & analytics"
         },
         {
          "company_id": 590,
          "index": 660,
          "industry": "Mobile & telecommunications"
         },
         {
          "company_id": 124,
          "index": 661,
          "industry": "Internet software & services"
         },
         {
          "company_id": 233,
          "index": 662,
          "industry": "Internet software & services"
         },
         {
          "company_id": 209,
          "index": 663,
          "industry": "Data management & analytics"
         },
         {
          "company_id": 284,
          "index": 664,
          "industry": "Data management & analytics"
         },
         {
          "company_id": 119,
          "index": 665,
          "industry": "Internet software & services"
         },
         {
          "company_id": 1016,
          "index": 666,
          "industry": "Fintech"
         },
         {
          "company_id": 291,
          "index": 667,
          "industry": "Artificial intelligence"
         },
         {
          "company_id": 371,
          "index": 668,
          "industry": "Fintech"
         },
         {
          "company_id": 488,
          "index": 669,
          "industry": "Supply chain, logistics, & delivery"
         },
         {
          "company_id": 245,
          "index": 670,
          "industry": "Other"
         },
         {
          "company_id": 435,
          "index": 671,
          "industry": "Other"
         },
         {
          "company_id": 346,
          "index": 672,
          "industry": "Internet software & services"
         },
         {
          "company_id": 445,
          "index": 673,
          "industry": "Supply chain, logistics, & delivery"
         },
         {
          "company_id": 539,
          "index": 674,
          "industry": "E-commerce & direct-to-consumer"
         },
         {
          "company_id": 500,
          "index": 675,
          "industry": "Artificial intelligence"
         },
         {
          "company_id": 497,
          "index": 676,
          "industry": "Consumer & retail"
         },
         {
          "company_id": 99,
          "index": 677,
          "industry": "Fintech"
         },
         {
          "company_id": 981,
          "index": 678,
          "industry": "Internet software & services"
         },
         {
          "company_id": 159,
          "index": 679,
          "industry": "Mobile & telecommunications"
         },
         {
          "company_id": 150,
          "index": 680,
          "industry": "Artificial intelligence"
         },
         {
          "company_id": 710,
          "index": 681,
          "industry": "Fintech"
         },
         {
          "company_id": 348,
          "index": 682,
          "industry": "Internet software & services"
         },
         {
          "company_id": 27,
          "index": 683,
          "industry": "E-commerce & direct-to-consumer"
         },
         {
          "company_id": 776,
          "index": 684,
          "industry": "E-commerce & direct-to-consumer"
         },
         {
          "company_id": 145,
          "index": 685,
          "industry": "Fintech"
         },
         {
          "company_id": 775,
          "index": 686,
          "industry": "E-commerce & direct-to-consumer"
         },
         {
          "company_id": 385,
          "index": 687,
          "industry": "E-commerce & direct-to-consumer"
         },
         {
          "company_id": 597,
          "index": 688,
          "industry": "Artificial intelligence"
         },
         {
          "company_id": 685,
          "index": 689,
          "industry": "Internet software & services"
         },
         {
          "company_id": 112,
          "index": 690,
          "industry": "Internet software & services"
         },
         {
          "company_id": 829,
          "index": 691,
          "industry": "E-commerce & direct-to-consumer"
         },
         {
          "company_id": 553,
          "index": 692,
          "industry": "Fintech"
         },
         {
          "company_id": 492,
          "index": 693,
          "industry": "Fintech"
         },
         {
          "company_id": 183,
          "index": 694,
          "industry": "Internet software & services"
         },
         {
          "company_id": 188,
          "index": 695,
          "industry": "Internet software & services"
         },
         {
          "company_id": 402,
          "index": 696,
          "industry": "Supply chain, logistics, & delivery"
         },
         {
          "company_id": 419,
          "index": 697,
          "industry": "Other"
         },
         {
          "company_id": 715,
          "index": 698,
          "industry": "Internet software & services"
         },
         {
          "company_id": 543,
          "index": 699,
          "industry": "E-commerce & direct-to-consumer"
         },
         {
          "company_id": 923,
          "index": 700,
          "industry": "Hardware"
         },
         {
          "company_id": 638,
          "index": 701,
          "industry": "Health"
         },
         {
          "company_id": 660,
          "index": 702,
          "industry": "Consumer & retail"
         },
         {
          "company_id": 199,
          "index": 703,
          "industry": "Internet software & services"
         },
         {
          "company_id": 525,
          "index": 704,
          "industry": "E-commerce & direct-to-consumer"
         },
         {
          "company_id": 458,
          "index": 705,
          "industry": "Internet software & services"
         },
         {
          "company_id": 236,
          "index": 706,
          "industry": "E-commerce & direct-to-consumer"
         },
         {
          "company_id": 90,
          "index": 707,
          "industry": "Internet software & services"
         },
         {
          "company_id": 108,
          "index": 708,
          "industry": "Fintech"
         },
         {
          "company_id": 575,
          "index": 709,
          "industry": "Fintech"
         },
         {
          "company_id": 767,
          "index": 710,
          "industry": "E-commerce & direct-to-consumer"
         },
         {
          "company_id": 984,
          "index": 711,
          "industry": "Health"
         },
         {
          "company_id": 548,
          "index": 712,
          "industry": "Auto & transportation"
         },
         {
          "company_id": 238,
          "index": 713,
          "industry": "Fintech"
         },
         {
          "company_id": 532,
          "index": 714,
          "industry": "Fintech"
         },
         {
          "company_id": 562,
          "index": 715,
          "industry": "Hardware"
         },
         {
          "company_id": 453,
          "index": 716,
          "industry": "E-commerce & direct-to-consumer"
         },
         {
          "company_id": 699,
          "index": 717,
          "industry": "Other"
         },
         {
          "company_id": 557,
          "index": 718,
          "industry": "Supply chain, logistics, & delivery"
         },
         {
          "company_id": 808,
          "index": 719,
          "industry": "Fintech"
         },
         {
          "company_id": 759,
          "index": 720,
          "industry": "Other"
         },
         {
          "company_id": 357,
          "index": 721,
          "industry": "Fintech"
         },
         {
          "company_id": 922,
          "index": 722,
          "industry": "Fintech"
         },
         {
          "company_id": 905,
          "index": 723,
          "industry": "Fintech"
         },
         {
          "company_id": 300,
          "index": 724,
          "industry": "Edtech"
         },
         {
          "company_id": 151,
          "index": 725,
          "industry": "Health"
         },
         {
          "company_id": 976,
          "index": 726,
          "industry": "Other"
         },
         {
          "company_id": 268,
          "index": 727,
          "industry": "Health"
         },
         {
          "company_id": 406,
          "index": 728,
          "industry": "Hardware"
         },
         {
          "company_id": 298,
          "index": 729,
          "industry": "Mobile & telecommunications"
         },
         {
          "company_id": 179,
          "index": 730,
          "industry": "Fintech"
         },
         {
          "company_id": 242,
          "index": 731,
          "industry": "E-commerce & direct-to-consumer"
         },
         {
          "company_id": 387,
          "index": 732,
          "industry": "Hardware"
         },
         {
          "company_id": 496,
          "index": 733,
          "industry": "Cybersecurity"
         },
         {
          "company_id": 336,
          "index": 734,
          "industry": "Fintech"
         },
         {
          "company_id": 727,
          "index": 735,
          "industry": "E-commerce & direct-to-consumer"
         },
         {
          "company_id": 560,
          "index": 736,
          "industry": "Data management & analytics"
         },
         {
          "company_id": 318,
          "index": 737,
          "industry": "Fintech"
         },
         {
          "company_id": 581,
          "index": 738,
          "industry": "Fintech"
         },
         {
          "company_id": 18,
          "index": 739,
          "industry": "Internet software & services"
         },
         {
          "company_id": 193,
          "index": 740,
          "industry": "Edtech"
         },
         {
          "company_id": 358,
          "index": 741,
          "industry": "Fintech"
         },
         {
          "company_id": 757,
          "index": 742,
          "industry": "Supply chain, logistics, & delivery"
         },
         {
          "company_id": 302,
          "index": 743,
          "industry": "Edtech"
         },
         {
          "company_id": 311,
          "index": 744,
          "industry": "Supply chain, logistics, & delivery"
         },
         {
          "company_id": 1013,
          "index": 745,
          "industry": "Consumer & retail"
         },
         {
          "company_id": 537,
          "index": 746,
          "industry": "Internet software & services"
         },
         {
          "company_id": 326,
          "index": 747,
          "industry": "Fintech"
         },
         {
          "company_id": 190,
          "index": 748,
          "industry": "Internet software & services"
         },
         {
          "company_id": 955,
          "index": 749,
          "industry": "E-commerce & direct-to-consumer"
         },
         {
          "company_id": 24,
          "index": 750,
          "industry": "Fintech"
         },
         {
          "company_id": 133,
          "index": 751,
          "industry": "Hardware"
         },
         {
          "company_id": 1067,
          "index": 752,
          "industry": "Internet software & services"
         },
         {
          "company_id": 197,
          "index": 753,
          "industry": "E-commerce & direct-to-consumer"
         },
         {
          "company_id": 213,
          "index": 754,
          "industry": "E-commerce & direct-to-consumer"
         },
         {
          "company_id": 533,
          "index": 755,
          "industry": "Fintech"
         },
         {
          "company_id": 721,
          "index": 756,
          "industry": "Health"
         },
         {
          "company_id": 276,
          "index": 757,
          "industry": "Internet software & services"
         },
         {
          "company_id": 347,
          "index": 758,
          "industry": "Fintech"
         },
         {
          "company_id": 59,
          "index": 759,
          "industry": "Internet software & services"
         },
         {
          "company_id": 486,
          "index": 760,
          "industry": "Other"
         },
         {
          "company_id": 142,
          "index": 761,
          "industry": "Health"
         },
         {
          "company_id": 447,
          "index": 762,
          "industry": "Internet software & services"
         },
         {
          "company_id": 196,
          "index": 763,
          "industry": "Cybersecurity"
         },
         {
          "company_id": 52,
          "index": 764,
          "industry": "E-commerce & direct-to-consumer"
         },
         {
          "company_id": 15,
          "index": 765,
          "industry": "Edtech"
         },
         {
          "company_id": 13,
          "index": 766,
          "industry": "E-commerce & direct-to-consumer"
         },
         {
          "company_id": 19,
          "index": 767,
          "industry": "Edtech"
         },
         {
          "company_id": 30,
          "index": 768,
          "industry": "Other"
         },
         {
          "company_id": 89,
          "index": 769,
          "industry": "Auto & transportation"
         },
         {
          "company_id": 166,
          "index": 770,
          "industry": "Auto & transportation"
         },
         {
          "company_id": 29,
          "index": 771,
          "industry": "Artificial intelligence"
         },
         {
          "company_id": 4,
          "index": 772,
          "industry": "Fintech"
         },
         {
          "company_id": 324,
          "index": 773,
          "industry": "Edtech"
         },
         {
          "company_id": 257,
          "index": 774,
          "industry": "Cybersecurity"
         },
         {
          "company_id": 165,
          "index": 775,
          "industry": "Health"
         },
         {
          "company_id": 359,
          "index": 776,
          "industry": "Mobile & telecommunications"
         },
         {
          "company_id": 576,
          "index": 777,
          "industry": "Travel"
         },
         {
          "company_id": 230,
          "index": 778,
          "industry": "Fintech"
         },
         {
          "company_id": 948,
          "index": 779,
          "industry": "Supply chain, logistics, & delivery"
         },
         {
          "company_id": 180,
          "index": 780,
          "industry": "Cybersecurity"
         },
         {
          "company_id": 573,
          "index": 781,
          "industry": "Supply chain, logistics, & delivery"
         },
         {
          "company_id": 530,
          "index": 782,
          "industry": "Internet software & services"
         },
         {
          "company_id": 283,
          "index": 783,
          "industry": "Data management & analytics"
         },
         {
          "company_id": 520,
          "index": 784,
          "industry": "Fintech"
         },
         {
          "company_id": 495,
          "index": 785,
          "industry": "E-commerce & direct-to-consumer"
         },
         {
          "company_id": 696,
          "index": 786,
          "industry": "Internet software & services"
         },
         {
          "company_id": 711,
          "index": 787,
          "industry": "Fintech"
         },
         {
          "company_id": 678,
          "index": 788,
          "industry": "Consumer & retail"
         },
         {
          "company_id": 132,
          "index": 789,
          "industry": "Artificial intelligence"
         },
         {
          "company_id": 986,
          "index": 790,
          "industry": "Internet software & services"
         },
         {
          "company_id": 1056,
          "index": 791,
          "industry": "Travel"
         },
         {
          "company_id": 469,
          "index": 792,
          "industry": "Other"
         },
         {
          "company_id": 566,
          "index": 793,
          "industry": "E-commerce & direct-to-consumer"
         },
         {
          "company_id": 1047,
          "index": 794,
          "industry": "Fintech"
         },
         {
          "company_id": 992,
          "index": 795,
          "industry": "Internet software & services"
         },
         {
          "company_id": 762,
          "index": 796,
          "industry": "Other"
         },
         {
          "company_id": 706,
          "index": 797,
          "industry": "E-commerce & direct-to-consumer"
         },
         {
          "company_id": 221,
          "index": 798,
          "industry": "Internet software & services"
         },
         {
          "company_id": 564,
          "index": 799,
          "industry": "Consumer & retail"
         },
         {
          "company_id": 329,
          "index": 800,
          "industry": "Health"
         },
         {
          "company_id": 608,
          "index": 801,
          "industry": "Hardware"
         },
         {
          "company_id": 116,
          "index": 802,
          "industry": "Internet software & services"
         },
         {
          "company_id": 859,
          "index": 803,
          "industry": "Health"
         },
         {
          "company_id": 504,
          "index": 804,
          "industry": "Internet software & services"
         },
         {
          "company_id": 337,
          "index": 805,
          "industry": "Cybersecurity"
         },
         {
          "company_id": 879,
          "index": 806,
          "industry": "Cybersecurity"
         },
         {
          "company_id": 578,
          "index": 807,
          "industry": "E-commerce & direct-to-consumer"
         },
         {
          "company_id": 527,
          "index": 808,
          "industry": "Fintech"
         },
         {
          "company_id": 629,
          "index": 809,
          "industry": "Mobile & telecommunications"
         },
         {
          "company_id": 260,
          "index": 810,
          "industry": "Fintech"
         },
         {
          "company_id": 692,
          "index": 811,
          "industry": "Internet software & services"
         },
         {
          "company_id": 259,
          "index": 812,
          "industry": "Cybersecurity"
         },
         {
          "company_id": 867,
          "index": 813,
          "industry": "Supply chain, logistics, & delivery"
         },
         {
          "company_id": 338,
          "index": 814,
          "industry": "Internet software & services"
         },
         {
          "company_id": 225,
          "index": 815,
          "industry": "Internet software & services"
         },
         {
          "company_id": 362,
          "index": 816,
          "industry": "Fintech"
         },
         {
          "company_id": 541,
          "index": 817,
          "industry": "Artificial intelligence"
         },
         {
          "company_id": 883,
          "index": 818,
          "industry": "Fintech"
         },
         {
          "company_id": 450,
          "index": 819,
          "industry": "Fintech"
         },
         {
          "company_id": 838,
          "index": 820,
          "industry": "Internet software & services"
         },
         {
          "company_id": 181,
          "index": 821,
          "industry": "Internet software & services"
         },
         {
          "company_id": 479,
          "index": 822,
          "industry": "Consumer & retail"
         },
         {
          "company_id": 286,
          "index": 823,
          "industry": "Internet software & services"
         },
         {
          "company_id": 432,
          "index": 824,
          "industry": "Fintech"
         },
         {
          "company_id": 570,
          "index": 825,
          "industry": "Cybersecurity"
         },
         {
          "company_id": 1020,
          "index": 826,
          "industry": "Artificial intelligence"
         },
         {
          "company_id": 216,
          "index": 827,
          "industry": "Fintech"
         },
         {
          "company_id": 607,
          "index": 828,
          "industry": "Mobile & telecommunications"
         },
         {
          "company_id": 900,
          "index": 829,
          "industry": "E-commerce & direct-to-consumer"
         },
         {
          "company_id": 77,
          "index": 830,
          "industry": "Fintech"
         },
         {
          "company_id": 244,
          "index": 831,
          "industry": "Fintech"
         },
         {
          "company_id": 569,
          "index": 832,
          "industry": "Internet software & services"
         },
         {
          "company_id": 506,
          "index": 833,
          "industry": "Other"
         },
         {
          "company_id": 313,
          "index": 834,
          "industry": "Fintech"
         },
         {
          "company_id": 235,
          "index": 835,
          "industry": "Data management & analytics"
         },
         {
          "company_id": 654,
          "index": 836,
          "industry": "Supply chain, logistics, & delivery"
         },
         {
          "company_id": 177,
          "index": 837,
          "industry": "Fintech"
         },
         {
          "company_id": 373,
          "index": 838,
          "industry": "Consumer & retail"
         },
         {
          "company_id": 487,
          "index": 839,
          "industry": "Fintech"
         },
         {
          "company_id": 42,
          "index": 840,
          "industry": "Consumer & retail"
         },
         {
          "company_id": 299,
          "index": 841,
          "industry": "Cybersecurity"
         },
         {
          "company_id": 141,
          "index": 842,
          "industry": "Internet software & services"
         },
         {
          "company_id": 137,
          "index": 843,
          "industry": "E-commerce & direct-to-consumer"
         },
         {
          "company_id": 51,
          "index": 844,
          "industry": "Fintech"
         },
         {
          "company_id": 586,
          "index": 845,
          "industry": "Fintech"
         },
         {
          "company_id": 144,
          "index": 846,
          "industry": "Internet software & services"
         },
         {
          "company_id": 389,
          "index": 847,
          "industry": "Health"
         },
         {
          "company_id": 572,
          "index": 848,
          "industry": "Health"
         },
         {
          "company_id": 585,
          "index": 849,
          "industry": "Fintech"
         },
         {
          "company_id": 887,
          "index": 850,
          "industry": "Health"
         },
         {
          "company_id": 5,
          "index": 851,
          "industry": "Internet software & services"
         },
         {
          "company_id": 677,
          "index": 852,
          "industry": "Travel"
         },
         {
          "company_id": 49,
          "index": 853,
          "industry": "Internet software & services"
         },
         {
          "company_id": 793,
          "index": 854,
          "industry": "Supply chain, logistics, & delivery"
         },
         {
          "company_id": 470,
          "index": 855,
          "industry": "E-commerce & direct-to-consumer"
         },
         {
          "company_id": 261,
          "index": 856,
          "industry": "E-commerce & direct-to-consumer"
         },
         {
          "company_id": 295,
          "index": 857,
          "industry": "Cybersecurity"
         },
         {
          "company_id": 95,
          "index": 858,
          "industry": "Artificial intelligence"
         },
         {
          "company_id": 1053,
          "index": 859,
          "industry": "Internet software & services"
         },
         {
          "company_id": 594,
          "index": 860,
          "industry": "Travel"
         },
         {
          "company_id": 120,
          "index": 861,
          "industry": "Fintech"
         },
         {
          "company_id": 974,
          "index": 862,
          "industry": "Mobile & telecommunications"
         },
         {
          "company_id": 306,
          "index": 863,
          "industry": "Edtech"
         },
         {
          "company_id": 939,
          "index": 864,
          "industry": "Supply chain, logistics, & delivery"
         },
         {
          "company_id": 526,
          "index": 865,
          "industry": "Supply chain, logistics, & delivery"
         },
         {
          "company_id": 754,
          "index": 866,
          "industry": "Internet software & services"
         },
         {
          "company_id": 376,
          "index": 867,
          "industry": "Other"
         },
         {
          "company_id": 889,
          "index": 868,
          "industry": "E-commerce & direct-to-consumer"
         },
         {
          "company_id": 148,
          "index": 869,
          "industry": "Data management & analytics"
         },
         {
          "company_id": 157,
          "index": 870,
          "industry": "Travel"
         },
         {
          "company_id": 519,
          "index": 871,
          "industry": "Auto & transportation"
         },
         {
          "company_id": 41,
          "index": 872,
          "industry": "Supply chain, logistics, & delivery"
         },
         {
          "company_id": 43,
          "index": 873,
          "industry": "Hardware"
         },
         {
          "company_id": 16,
          "index": 874,
          "industry": "Supply chain, logistics, & delivery"
         },
         {
          "company_id": 38,
          "index": 875,
          "industry": "E-commerce & direct-to-consumer"
         },
         {
          "company_id": 312,
          "index": 876,
          "industry": "Fintech"
         },
         {
          "company_id": 940,
          "index": 877,
          "industry": "Other"
         },
         {
          "company_id": 127,
          "index": 878,
          "industry": "Cybersecurity"
         },
         {
          "company_id": 94,
          "index": 879,
          "industry": "Artificial intelligence"
         },
         {
          "company_id": 205,
          "index": 880,
          "industry": "E-commerce & direct-to-consumer"
         },
         {
          "company_id": 270,
          "index": 881,
          "industry": "Artificial intelligence"
         },
         {
          "company_id": 75,
          "index": 882,
          "industry": "Fintech"
         },
         {
          "company_id": 993,
          "index": 883,
          "industry": "Consumer & retail"
         },
         {
          "company_id": 744,
          "index": 884,
          "industry": "Other"
         },
         {
          "company_id": 341,
          "index": 885,
          "industry": "E-commerce & direct-to-consumer"
         },
         {
          "company_id": 472,
          "index": 886,
          "industry": "E-commerce & direct-to-consumer"
         },
         {
          "company_id": 571,
          "index": 887,
          "industry": "Mobile & telecommunications"
         },
         {
          "company_id": 228,
          "index": 888,
          "industry": "E-commerce & direct-to-consumer"
         },
         {
          "company_id": 1073,
          "index": 889,
          "industry": "E-commerce & direct-to-consumer"
         },
         {
          "company_id": 1040,
          "index": 890,
          "industry": "Hardware"
         },
         {
          "company_id": 460,
          "index": 891,
          "industry": "Other"
         },
         {
          "company_id": 316,
          "index": 892,
          "industry": "Fintech"
         },
         {
          "company_id": 320,
          "index": 893,
          "industry": "E-commerce & direct-to-consumer"
         },
         {
          "company_id": 107,
          "index": 894,
          "industry": "Fintech"
         },
         {
          "company_id": 605,
          "index": 895,
          "industry": "Health"
         },
         {
          "company_id": 1006,
          "index": 896,
          "industry": "Edtech"
         },
         {
          "company_id": 666,
          "index": 897,
          "industry": "Cybersecurity"
         },
         {
          "company_id": 736,
          "index": 898,
          "industry": "Health"
         },
         {
          "company_id": 156,
          "index": 899,
          "industry": "Data management & analytics"
         },
         {
          "company_id": 372,
          "index": 900,
          "industry": "Fintech"
         },
         {
          "company_id": 544,
          "index": 901,
          "industry": "Other"
         },
         {
          "company_id": 378,
          "index": 902,
          "industry": "Cybersecurity"
         },
         {
          "company_id": 184,
          "index": 903,
          "industry": "Internet software & services"
         },
         {
          "company_id": 135,
          "index": 904,
          "industry": "Cybersecurity"
         },
         {
          "company_id": 102,
          "index": 905,
          "industry": "Other"
         },
         {
          "company_id": 143,
          "index": 906,
          "industry": "Internet software & services"
         },
         {
          "company_id": 869,
          "index": 907,
          "industry": "Internet software & services"
         },
         {
          "company_id": 674,
          "index": 908,
          "industry": "E-commerce & direct-to-consumer"
         },
         {
          "company_id": 627,
          "index": 909,
          "industry": "Supply chain, logistics, & delivery"
         },
         {
          "company_id": 977,
          "index": 910,
          "industry": "E-commerce & direct-to-consumer"
         },
         {
          "company_id": 167,
          "index": 911,
          "industry": "Fintech"
         },
         {
          "company_id": 821,
          "index": 912,
          "industry": "Travel"
         },
         {
          "company_id": 198,
          "index": 913,
          "industry": "Health"
         },
         {
          "company_id": 655,
          "index": 914,
          "industry": "E-commerce & direct-to-consumer"
         },
         {
          "company_id": 546,
          "index": 915,
          "industry": "Artificial intelligence"
         },
         {
          "company_id": 661,
          "index": 916,
          "industry": "Fintech"
         },
         {
          "company_id": 80,
          "index": 917,
          "industry": "Fintech"
         },
         {
          "company_id": 253,
          "index": 918,
          "industry": "Data management & analytics"
         },
         {
          "company_id": 100,
          "index": 919,
          "industry": "Fintech"
         },
         {
          "company_id": 483,
          "index": 920,
          "industry": "E-commerce & direct-to-consumer"
         },
         {
          "company_id": 214,
          "index": 921,
          "industry": "Internet software & services"
         },
         {
          "company_id": 669,
          "index": 922,
          "industry": "Health"
         },
         {
          "company_id": 315,
          "index": 923,
          "industry": "Hardware"
         },
         {
          "company_id": 297,
          "index": 924,
          "industry": "Supply chain, logistics, & delivery"
         },
         {
          "company_id": 222,
          "index": 925,
          "industry": "Mobile & telecommunications"
         },
         {
          "company_id": 515,
          "index": 926,
          "industry": "Fintech"
         },
         {
          "company_id": 68,
          "index": 927,
          "industry": "Internet software & services"
         },
         {
          "company_id": 726,
          "index": 928,
          "industry": "Other"
         },
         {
          "company_id": 904,
          "index": 929,
          "industry": "Health"
         },
         {
          "company_id": 441,
          "index": 930,
          "industry": "Hardware"
         },
         {
          "company_id": 301,
          "index": 931,
          "industry": "Artificial intelligence"
         },
         {
          "company_id": 919,
          "index": 932,
          "industry": "Data management & analytics"
         },
         {
          "company_id": 263,
          "index": 933,
          "industry": "Edtech"
         },
         {
          "company_id": 140,
          "index": 934,
          "industry": "Artificial intelligence"
         },
         {
          "company_id": 55,
          "index": 935,
          "industry": "Fintech"
         },
         {
          "company_id": 377,
          "index": 936,
          "industry": "Fintech"
         },
         {
          "company_id": 871,
          "index": 937,
          "industry": "Auto & transportation"
         },
         {
          "company_id": 310,
          "index": 938,
          "industry": "E-commerce & direct-to-consumer"
         },
         {
          "company_id": 613,
          "index": 939,
          "industry": "Health"
         },
         {
          "company_id": 163,
          "index": 940,
          "industry": "Fintech"
         },
         {
          "company_id": 277,
          "index": 941,
          "industry": "E-commerce & direct-to-consumer"
         },
         {
          "company_id": 1059,
          "index": 942,
          "industry": "Internet software & services"
         },
         {
          "company_id": 503,
          "index": 943,
          "industry": "Supply chain, logistics, & delivery"
         },
         {
          "company_id": 330,
          "index": 944,
          "industry": "Fintech"
         },
         {
          "company_id": 254,
          "index": 945,
          "industry": "Cybersecurity"
         },
         {
          "company_id": 367,
          "index": 946,
          "industry": "Artificial intelligence"
         },
         {
          "company_id": 399,
          "index": 947,
          "industry": "Fintech"
         },
         {
          "company_id": 61,
          "index": 948,
          "industry": "Fintech"
         },
         {
          "company_id": 375,
          "index": 949,
          "industry": "Mobile & telecommunications"
         },
         {
          "company_id": 716,
          "index": 950,
          "industry": "Fintech"
         },
         {
          "company_id": 224,
          "index": 951,
          "industry": "Hardware"
         },
         {
          "company_id": 22,
          "index": 952,
          "industry": "Consumer & retail"
         },
         {
          "company_id": 720,
          "index": 953,
          "industry": "Travel"
         },
         {
          "company_id": 322,
          "index": 954,
          "industry": "Internet software & services"
         },
         {
          "company_id": 279,
          "index": 955,
          "industry": "Internet software & services"
         },
         {
          "company_id": 111,
          "index": 956,
          "industry": "Data management & analytics"
         },
         {
          "company_id": 126,
          "index": 957,
          "industry": "Fintech"
         },
         {
          "company_id": 269,
          "index": 958,
          "industry": "Cybersecurity"
         },
         {
          "company_id": 25,
          "index": 959,
          "industry": "Fintech"
         },
         {
          "company_id": 160,
          "index": 960,
          "industry": "E-commerce & direct-to-consumer"
         },
         {
          "company_id": 731,
          "index": 961,
          "industry": "Other"
         },
         {
          "company_id": 202,
          "index": 962,
          "industry": "E-commerce & direct-to-consumer"
         },
         {
          "company_id": 74,
          "index": 963,
          "industry": "Fintech"
         },
         {
          "company_id": 439,
          "index": 964,
          "industry": "Auto & transportation"
         },
         {
          "company_id": 379,
          "index": 965,
          "industry": "Other"
         },
         {
          "company_id": 154,
          "index": 966,
          "industry": "E-commerce & direct-to-consumer"
         },
         {
          "company_id": 423,
          "index": 967,
          "industry": "Travel"
         },
         {
          "company_id": 262,
          "index": 968,
          "industry": "Internet software & services"
         },
         {
          "company_id": 219,
          "index": 969,
          "industry": "Health"
         },
         {
          "company_id": 161,
          "index": 970,
          "industry": "Auto & transportation"
         },
         {
          "company_id": 36,
          "index": 971,
          "industry": "Hardware"
         },
         {
          "company_id": 384,
          "index": 972,
          "industry": "E-commerce & direct-to-consumer"
         },
         {
          "company_id": 599,
          "index": 973,
          "industry": "Internet software & services"
         },
         {
          "company_id": 20,
          "index": 974,
          "industry": "Fintech"
         },
         {
          "company_id": 241,
          "index": 975,
          "industry": "Supply chain, logistics, & delivery"
         },
         {
          "company_id": 69,
          "index": 976,
          "industry": "Mobile & telecommunications"
         },
         {
          "company_id": 333,
          "index": 977,
          "industry": "Fintech"
         },
         {
          "company_id": 246,
          "index": 978,
          "industry": "Mobile & telecommunications"
         },
         {
          "company_id": 70,
          "index": 979,
          "industry": "Cybersecurity"
         },
         {
          "company_id": 174,
          "index": 980,
          "industry": "E-commerce & direct-to-consumer"
         },
         {
          "company_id": 294,
          "index": 981,
          "industry": "Auto & transportation"
         },
         {
          "company_id": 601,
          "index": 982,
          "industry": "Artificial intelligence"
         },
         {
          "company_id": 795,
          "index": 983,
          "industry": "Artificial intelligence"
         },
         {
          "company_id": 319,
          "index": 984,
          "industry": "E-commerce & direct-to-consumer"
         },
         {
          "company_id": 274,
          "index": 985,
          "industry": "Edtech"
         },
         {
          "company_id": 538,
          "index": 986,
          "industry": "Fintech"
         },
         {
          "company_id": 478,
          "index": 987,
          "industry": "Consumer & retail"
         },
         {
          "company_id": 1072,
          "index": 988,
          "industry": "Fintech"
         },
         {
          "company_id": 200,
          "index": 989,
          "industry": "Other"
         },
         {
          "company_id": 498,
          "index": 990,
          "industry": "Auto & transportation"
         },
         {
          "company_id": 35,
          "index": 991,
          "industry": "Health"
         },
         {
          "company_id": 903,
          "index": 992,
          "industry": "Data management & analytics"
         },
         {
          "company_id": 610,
          "index": 993,
          "industry": "Artificial intelligence"
         },
         {
          "company_id": 11,
          "index": 994,
          "industry": "Other"
         },
         {
          "company_id": 1,
          "index": 995,
          "industry": "Other"
         },
         {
          "company_id": 932,
          "index": 996,
          "industry": "E-commerce & direct-to-consumer"
         },
         {
          "company_id": 653,
          "index": 997,
          "industry": "Supply chain, logistics, & delivery"
         },
         {
          "company_id": 874,
          "index": 998,
          "industry": "E-commerce & direct-to-consumer"
         },
         {
          "company_id": 37,
          "index": 999,
          "industry": "Internet software & services"
         },
         {
          "company_id": 106,
          "index": 1000,
          "industry": "Fintech"
         },
         {
          "company_id": 117,
          "index": 1001,
          "industry": "Supply chain, logistics, & delivery"
         },
         {
          "company_id": 1071,
          "index": 1002,
          "industry": "Consumer & retail"
         },
         {
          "company_id": 305,
          "index": 1003,
          "industry": "Internet software & services"
         },
         {
          "company_id": 110,
          "index": 1004,
          "industry": "Health"
         },
         {
          "company_id": 281,
          "index": 1005,
          "industry": "Supply chain, logistics, & delivery"
         },
         {
          "company_id": 81,
          "index": 1006,
          "industry": "Health"
         },
         {
          "company_id": 152,
          "index": 1007,
          "industry": "Fintech"
         },
         {
          "company_id": 122,
          "index": 1008,
          "industry": "Health"
         },
         {
          "company_id": 403,
          "index": 1009,
          "industry": "Auto & transportation"
         },
         {
          "company_id": 92,
          "index": 1010,
          "industry": "Fintech"
         },
         {
          "company_id": 98,
          "index": 1011,
          "industry": "Artificial intelligence"
         },
         {
          "company_id": 232,
          "index": 1012,
          "industry": "Internet software & services"
         },
         {
          "company_id": 247,
          "index": 1013,
          "industry": "Internet software & services"
         },
         {
          "company_id": 388,
          "index": 1014,
          "industry": "Fintech"
         },
         {
          "company_id": 88,
          "index": 1015,
          "industry": "Mobile & telecommunications"
         },
         {
          "company_id": 218,
          "index": 1016,
          "industry": "Supply chain, logistics, & delivery"
         },
         {
          "company_id": 178,
          "index": 1017,
          "industry": "Fintech"
         },
         {
          "company_id": 128,
          "index": 1018,
          "industry": "Internet software & services"
         },
         {
          "company_id": 851,
          "index": 1019,
          "industry": "Artificial intelligence"
         },
         {
          "company_id": 853,
          "index": 1020,
          "industry": "Hardware"
         },
         {
          "company_id": 227,
          "index": 1021,
          "industry": "Other"
         },
         {
          "company_id": 1061,
          "index": 1022,
          "industry": "Fintech"
         },
         {
          "company_id": 799,
          "index": 1023,
          "industry": "Auto & transportation"
         },
         {
          "company_id": 293,
          "index": 1024,
          "industry": "Other"
         },
         {
          "company_id": 231,
          "index": 1025,
          "industry": "Fintech"
         },
         {
          "company_id": 114,
          "index": 1026,
          "industry": "Health"
         },
         {
          "company_id": 0,
          "index": 1027,
          "industry": "Artificial intelligence"
         },
         {
          "company_id": 463,
          "index": 1028,
          "industry": "Internet software & services"
         },
         {
          "company_id": 162,
          "index": 1029,
          "industry": "Fintech"
         },
         {
          "company_id": 433,
          "index": 1030,
          "industry": "Other"
         },
         {
          "company_id": 836,
          "index": 1031,
          "industry": "Fintech"
         },
         {
          "company_id": 668,
          "index": 1032,
          "industry": "Fintech"
         },
         {
          "company_id": 123,
          "index": 1033,
          "industry": "Health"
         },
         {
          "company_id": 96,
          "index": 1034,
          "industry": "Travel"
         },
         {
          "company_id": 17,
          "index": 1035,
          "industry": "E-commerce & direct-to-consumer"
         },
         {
          "company_id": 353,
          "index": 1036,
          "industry": "Fintech"
         },
         {
          "company_id": 973,
          "index": 1037,
          "industry": "Internet software & services"
         },
         {
          "company_id": 97,
          "index": 1038,
          "industry": "Cybersecurity"
         },
         {
          "company_id": 87,
          "index": 1039,
          "industry": "Fintech"
         },
         {
          "company_id": 153,
          "index": 1040,
          "industry": "Internet software & services"
         },
         {
          "company_id": 109,
          "index": 1041,
          "industry": "Fintech"
         },
         {
          "company_id": 946,
          "index": 1042,
          "industry": "Edtech"
         },
         {
          "company_id": 937,
          "index": 1043,
          "industry": "Fintech"
         },
         {
          "company_id": 139,
          "index": 1044,
          "industry": "Hardware"
         },
         {
          "company_id": 131,
          "index": 1045,
          "industry": "Hardware"
         },
         {
          "company_id": 360,
          "index": 1046,
          "industry": "E-commerce & direct-to-consumer"
         },
         {
          "company_id": 658,
          "index": 1047,
          "industry": "E-commerce & direct-to-consumer"
         },
         {
          "company_id": 186,
          "index": 1048,
          "industry": "E-commerce & direct-to-consumer"
         },
         {
          "company_id": 604,
          "index": 1049,
          "industry": "Health"
         },
         {
          "company_id": 600,
          "index": 1050,
          "industry": "E-commerce & direct-to-consumer"
         },
         {
          "company_id": 672,
          "index": 1051,
          "industry": "E-commerce & direct-to-consumer"
         },
         {
          "company_id": 518,
          "index": 1052,
          "industry": "Internet software & services"
         },
         {
          "company_id": 331,
          "index": 1053,
          "industry": "Health"
         },
         {
          "company_id": 382,
          "index": 1054,
          "industry": "Supply chain, logistics, & delivery"
         },
         {
          "company_id": 21,
          "index": 1055,
          "industry": "Internet software & services"
         },
         {
          "company_id": 271,
          "index": 1056,
          "industry": "Fintech"
         },
         {
          "company_id": 664,
          "index": 1057,
          "industry": "Fintech"
         },
         {
          "company_id": 1070,
          "index": 1058,
          "industry": "E-commerce & direct-to-consumer"
         },
         {
          "company_id": 146,
          "index": 1059,
          "industry": "Fintech"
         },
         {
          "company_id": 292,
          "index": 1060,
          "industry": "Mobile & telecommunications"
         },
         {
          "company_id": 792,
          "index": 1061,
          "industry": "Internet software & services"
         },
         {
          "company_id": 639,
          "index": 1062,
          "industry": "Other"
         },
         {
          "company_id": 567,
          "index": 1063,
          "industry": "Supply chain, logistics, & delivery"
         },
         {
          "company_id": 945,
          "index": 1064,
          "industry": "Data management & analytics"
         },
         {
          "company_id": 947,
          "index": 1065,
          "industry": "Consumer & retail"
         },
         {
          "company_id": 717,
          "index": 1066,
          "industry": "E-commerce & direct-to-consumer"
         },
         {
          "company_id": 424,
          "index": 1067,
          "industry": "Other"
         },
         {
          "company_id": 733,
          "index": 1068,
          "industry": "Internet software & services"
         },
         {
          "company_id": 1002,
          "index": 1069,
          "industry": "Mobile & telecommunications"
         },
         {
          "company_id": 215,
          "index": 1070,
          "industry": "E-commerce & direct-to-consumer"
         },
         {
          "company_id": 866,
          "index": 1071,
          "industry": "Internet software & services"
         },
         {
          "company_id": 651,
          "index": 1072,
          "industry": "Fintech"
         },
         {
          "company_id": 890,
          "index": 1073,
          "industry": "Fintech"
         }
        ],
        "schema": {
         "fields": [
          {
           "name": "index",
           "type": "integer"
          },
          {
           "name": "company_id",
           "type": "integer"
          },
          {
           "name": "industry",
           "type": "string"
          }
         ],
         "pandas_version": "1.4.0",
         "primaryKey": [
          "index"
         ]
        }
       },
       "total_rows": 1074,
       "truncation_type": null
      },
      "text/html": [
       "<div>\n",
       "<style scoped>\n",
       "    .dataframe tbody tr th:only-of-type {\n",
       "        vertical-align: middle;\n",
       "    }\n",
       "\n",
       "    .dataframe tbody tr th {\n",
       "        vertical-align: top;\n",
       "    }\n",
       "\n",
       "    .dataframe thead th {\n",
       "        text-align: right;\n",
       "    }\n",
       "</style>\n",
       "<table border=\"1\" class=\"dataframe\">\n",
       "  <thead>\n",
       "    <tr style=\"text-align: right;\">\n",
       "      <th></th>\n",
       "      <th>company_id</th>\n",
       "      <th>industry</th>\n",
       "    </tr>\n",
       "  </thead>\n",
       "  <tbody>\n",
       "    <tr>\n",
       "      <th>0</th>\n",
       "      <td>189</td>\n",
       "      <td>Health</td>\n",
       "    </tr>\n",
       "    <tr>\n",
       "      <th>1</th>\n",
       "      <td>848</td>\n",
       "      <td>Fintech</td>\n",
       "    </tr>\n",
       "    <tr>\n",
       "      <th>2</th>\n",
       "      <td>556</td>\n",
       "      <td>Internet software &amp; services</td>\n",
       "    </tr>\n",
       "    <tr>\n",
       "      <th>3</th>\n",
       "      <td>999</td>\n",
       "      <td>Internet software &amp; services</td>\n",
       "    </tr>\n",
       "    <tr>\n",
       "      <th>4</th>\n",
       "      <td>396</td>\n",
       "      <td>Fintech</td>\n",
       "    </tr>\n",
       "    <tr>\n",
       "      <th>...</th>\n",
       "      <td>...</td>\n",
       "      <td>...</td>\n",
       "    </tr>\n",
       "    <tr>\n",
       "      <th>1069</th>\n",
       "      <td>1002</td>\n",
       "      <td>Mobile &amp; telecommunications</td>\n",
       "    </tr>\n",
       "    <tr>\n",
       "      <th>1070</th>\n",
       "      <td>215</td>\n",
       "      <td>E-commerce &amp; direct-to-consumer</td>\n",
       "    </tr>\n",
       "    <tr>\n",
       "      <th>1071</th>\n",
       "      <td>866</td>\n",
       "      <td>Internet software &amp; services</td>\n",
       "    </tr>\n",
       "    <tr>\n",
       "      <th>1072</th>\n",
       "      <td>651</td>\n",
       "      <td>Fintech</td>\n",
       "    </tr>\n",
       "    <tr>\n",
       "      <th>1073</th>\n",
       "      <td>890</td>\n",
       "      <td>Fintech</td>\n",
       "    </tr>\n",
       "  </tbody>\n",
       "</table>\n",
       "<p>1074 rows × 2 columns</p>\n",
       "</div>"
      ],
      "text/plain": [
       "      company_id                         industry\n",
       "0            189                           Health\n",
       "1            848                          Fintech\n",
       "2            556     Internet software & services\n",
       "3            999     Internet software & services\n",
       "4            396                          Fintech\n",
       "...          ...                              ...\n",
       "1069        1002      Mobile & telecommunications\n",
       "1070         215  E-commerce & direct-to-consumer\n",
       "1071         866     Internet software & services\n",
       "1072         651                          Fintech\n",
       "1073         890                          Fintech\n",
       "\n",
       "[1074 rows x 2 columns]"
      ]
     },
     "execution_count": 48,
     "metadata": {},
     "output_type": "execute_result"
    }
   ],
   "source": [
    "SELECT * FROM industries"
   ]
  },
  {
   "cell_type": "code",
   "execution_count": 42,
   "id": "fbfb5d82-c106-44a1-a2c4-68d35cce86b4",
   "metadata": {
    "customType": "sql",
    "dataFrameVariableName": "df",
    "executionTime": 1404,
    "initial": false,
    "integrationId": "89e17161-a224-4a8a-846b-0adc0fe7a4b1",
    "lastSuccessfullyExecutedCode": "select company_id, date_part('year', date_joined) joined_year\nfrom dates\nwhere date_part('year', date_joined) in (2019,2020,2021)"
   },
   "outputs": [
    {
     "data": {
      "application/com.datacamp.data-table.v1+json": {
       "table": {
        "data": [
         {
          "company_id": 848,
          "index": 0,
          "joined_year": 2021
         },
         {
          "company_id": 999,
          "index": 1,
          "joined_year": 2021
         },
         {
          "company_id": 396,
          "index": 2,
          "joined_year": 2021
         },
         {
          "company_id": 931,
          "index": 3,
          "joined_year": 2021
         },
         {
          "company_id": 364,
          "index": 4,
          "joined_year": 2019
         },
         {
          "company_id": 906,
          "index": 5,
          "joined_year": 2021
         },
         {
          "company_id": 983,
          "index": 6,
          "joined_year": 2019
         },
         {
          "company_id": 844,
          "index": 7,
          "joined_year": 2021
         },
         {
          "company_id": 894,
          "index": 8,
          "joined_year": 2021
         },
         {
          "company_id": 813,
          "index": 9,
          "joined_year": 2021
         },
         {
          "company_id": 743,
          "index": 10,
          "joined_year": 2020
         },
         {
          "company_id": 226,
          "index": 11,
          "joined_year": 2021
         },
         {
          "company_id": 963,
          "index": 12,
          "joined_year": 2021
         },
         {
          "company_id": 764,
          "index": 13,
          "joined_year": 2021
         },
         {
          "company_id": 839,
          "index": 14,
          "joined_year": 2021
         },
         {
          "company_id": 1033,
          "index": 15,
          "joined_year": 2021
         },
         {
          "company_id": 549,
          "index": 16,
          "joined_year": 2021
         },
         {
          "company_id": 755,
          "index": 17,
          "joined_year": 2021
         },
         {
          "company_id": 175,
          "index": 18,
          "joined_year": 2019
         },
         {
          "company_id": 398,
          "index": 19,
          "joined_year": 2021
         },
         {
          "company_id": 814,
          "index": 20,
          "joined_year": 2021
         },
         {
          "company_id": 1046,
          "index": 21,
          "joined_year": 2021
         },
         {
          "company_id": 565,
          "index": 22,
          "joined_year": 2021
         },
         {
          "company_id": 781,
          "index": 23,
          "joined_year": 2021
         },
         {
          "company_id": 997,
          "index": 24,
          "joined_year": 2021
         },
         {
          "company_id": 194,
          "index": 25,
          "joined_year": 2021
         },
         {
          "company_id": 249,
          "index": 26,
          "joined_year": 2021
         },
         {
          "company_id": 434,
          "index": 27,
          "joined_year": 2021
         },
         {
          "company_id": 1035,
          "index": 28,
          "joined_year": 2021
         },
         {
          "company_id": 1018,
          "index": 29,
          "joined_year": 2021
         },
         {
          "company_id": 355,
          "index": 30,
          "joined_year": 2021
         },
         {
          "company_id": 934,
          "index": 31,
          "joined_year": 2020
         },
         {
          "company_id": 1054,
          "index": 32,
          "joined_year": 2021
         },
         {
          "company_id": 901,
          "index": 33,
          "joined_year": 2021
         },
         {
          "company_id": 173,
          "index": 34,
          "joined_year": 2021
         },
         {
          "company_id": 830,
          "index": 35,
          "joined_year": 2021
         },
         {
          "company_id": 1004,
          "index": 36,
          "joined_year": 2021
         },
         {
          "company_id": 1063,
          "index": 37,
          "joined_year": 2021
         },
         {
          "company_id": 846,
          "index": 38,
          "joined_year": 2019
         },
         {
          "company_id": 823,
          "index": 39,
          "joined_year": 2019
         },
         {
          "company_id": 944,
          "index": 40,
          "joined_year": 2021
         },
         {
          "company_id": 1030,
          "index": 41,
          "joined_year": 2021
         },
         {
          "company_id": 456,
          "index": 42,
          "joined_year": 2020
         },
         {
          "company_id": 893,
          "index": 43,
          "joined_year": 2021
         },
         {
          "company_id": 1001,
          "index": 44,
          "joined_year": 2020
         },
         {
          "company_id": 703,
          "index": 45,
          "joined_year": 2021
         },
         {
          "company_id": 884,
          "index": 46,
          "joined_year": 2021
         },
         {
          "company_id": 404,
          "index": 47,
          "joined_year": 2021
         },
         {
          "company_id": 625,
          "index": 48,
          "joined_year": 2020
         },
         {
          "company_id": 971,
          "index": 49,
          "joined_year": 2021
         },
         {
          "company_id": 771,
          "index": 50,
          "joined_year": 2021
         },
         {
          "company_id": 758,
          "index": 51,
          "joined_year": 2021
         },
         {
          "company_id": 652,
          "index": 52,
          "joined_year": 2021
         },
         {
          "company_id": 760,
          "index": 53,
          "joined_year": 2020
         },
         {
          "company_id": 393,
          "index": 54,
          "joined_year": 2021
         },
         {
          "company_id": 870,
          "index": 55,
          "joined_year": 2021
         },
         {
          "company_id": 804,
          "index": 56,
          "joined_year": 2021
         },
         {
          "company_id": 1041,
          "index": 57,
          "joined_year": 2021
         },
         {
          "company_id": 978,
          "index": 58,
          "joined_year": 2021
         },
         {
          "company_id": 612,
          "index": 59,
          "joined_year": 2021
         },
         {
          "company_id": 421,
          "index": 60,
          "joined_year": 2020
         },
         {
          "company_id": 449,
          "index": 61,
          "joined_year": 2021
         },
         {
          "company_id": 1022,
          "index": 62,
          "joined_year": 2021
         },
         {
          "company_id": 644,
          "index": 63,
          "joined_year": 2021
         },
         {
          "company_id": 718,
          "index": 64,
          "joined_year": 2021
         },
         {
          "company_id": 920,
          "index": 65,
          "joined_year": 2021
         },
         {
          "company_id": 1048,
          "index": 66,
          "joined_year": 2021
         },
         {
          "company_id": 1024,
          "index": 67,
          "joined_year": 2021
         },
         {
          "company_id": 929,
          "index": 68,
          "joined_year": 2021
         },
         {
          "company_id": 863,
          "index": 69,
          "joined_year": 2021
         },
         {
          "company_id": 662,
          "index": 70,
          "joined_year": 2020
         },
         {
          "company_id": 1027,
          "index": 71,
          "joined_year": 2021
         },
         {
          "company_id": 783,
          "index": 72,
          "joined_year": 2021
         },
         {
          "company_id": 592,
          "index": 73,
          "joined_year": 2021
         },
         {
          "company_id": 1023,
          "index": 74,
          "joined_year": 2021
         },
         {
          "company_id": 1051,
          "index": 75,
          "joined_year": 2021
         },
         {
          "company_id": 633,
          "index": 76,
          "joined_year": 2021
         },
         {
          "company_id": 635,
          "index": 77,
          "joined_year": 2021
         },
         {
          "company_id": 697,
          "index": 78,
          "joined_year": 2021
         },
         {
          "company_id": 886,
          "index": 79,
          "joined_year": 2021
         },
         {
          "company_id": 798,
          "index": 80,
          "joined_year": 2021
         },
         {
          "company_id": 1008,
          "index": 81,
          "joined_year": 2021
         },
         {
          "company_id": 701,
          "index": 82,
          "joined_year": 2020
         },
         {
          "company_id": 825,
          "index": 83,
          "joined_year": 2021
         },
         {
          "company_id": 344,
          "index": 84,
          "joined_year": 2021
         },
         {
          "company_id": 643,
          "index": 85,
          "joined_year": 2021
         },
         {
          "company_id": 509,
          "index": 86,
          "joined_year": 2021
         },
         {
          "company_id": 979,
          "index": 87,
          "joined_year": 2021
         },
         {
          "company_id": 1031,
          "index": 88,
          "joined_year": 2021
         },
         {
          "company_id": 817,
          "index": 89,
          "joined_year": 2021
         },
         {
          "company_id": 943,
          "index": 90,
          "joined_year": 2019
         },
         {
          "company_id": 975,
          "index": 91,
          "joined_year": 2021
         },
         {
          "company_id": 647,
          "index": 92,
          "joined_year": 2020
         },
         {
          "company_id": 705,
          "index": 93,
          "joined_year": 2021
         },
         {
          "company_id": 942,
          "index": 94,
          "joined_year": 2021
         },
         {
          "company_id": 354,
          "index": 95,
          "joined_year": 2019
         },
         {
          "company_id": 688,
          "index": 96,
          "joined_year": 2019
         },
         {
          "company_id": 391,
          "index": 97,
          "joined_year": 2021
         },
         {
          "company_id": 579,
          "index": 98,
          "joined_year": 2021
         },
         {
          "company_id": 686,
          "index": 99,
          "joined_year": 2021
         },
         {
          "company_id": 822,
          "index": 100,
          "joined_year": 2021
         },
         {
          "company_id": 882,
          "index": 101,
          "joined_year": 2021
         },
         {
          "company_id": 369,
          "index": 102,
          "joined_year": 2021
         },
         {
          "company_id": 1058,
          "index": 103,
          "joined_year": 2019
         },
         {
          "company_id": 129,
          "index": 104,
          "joined_year": 2020
         },
         {
          "company_id": 862,
          "index": 105,
          "joined_year": 2021
         },
         {
          "company_id": 603,
          "index": 106,
          "joined_year": 2021
         },
         {
          "company_id": 645,
          "index": 107,
          "joined_year": 2021
         },
         {
          "company_id": 769,
          "index": 108,
          "joined_year": 2021
         },
         {
          "company_id": 452,
          "index": 109,
          "joined_year": 2021
         },
         {
          "company_id": 763,
          "index": 110,
          "joined_year": 2021
         },
         {
          "company_id": 765,
          "index": 111,
          "joined_year": 2021
         },
         {
          "company_id": 989,
          "index": 112,
          "joined_year": 2020
         },
         {
          "company_id": 409,
          "index": 113,
          "joined_year": 2021
         },
         {
          "company_id": 580,
          "index": 114,
          "joined_year": 2021
         },
         {
          "company_id": 809,
          "index": 115,
          "joined_year": 2021
         },
         {
          "company_id": 791,
          "index": 116,
          "joined_year": 2021
         },
         {
          "company_id": 998,
          "index": 117,
          "joined_year": 2021
         },
         {
          "company_id": 455,
          "index": 118,
          "joined_year": 2021
         },
         {
          "company_id": 477,
          "index": 119,
          "joined_year": 2021
         },
         {
          "company_id": 797,
          "index": 120,
          "joined_year": 2021
         },
         {
          "company_id": 361,
          "index": 121,
          "joined_year": 2021
         },
         {
          "company_id": 78,
          "index": 122,
          "joined_year": 2020
         },
         {
          "company_id": 79,
          "index": 123,
          "joined_year": 2021
         },
         {
          "company_id": 314,
          "index": 124,
          "joined_year": 2021
         },
         {
          "company_id": 82,
          "index": 125,
          "joined_year": 2021
         },
         {
          "company_id": 164,
          "index": 126,
          "joined_year": 2021
         },
         {
          "company_id": 212,
          "index": 127,
          "joined_year": 2020
         },
         {
          "company_id": 65,
          "index": 128,
          "joined_year": 2020
         },
         {
          "company_id": 31,
          "index": 129,
          "joined_year": 2019
         },
         {
          "company_id": 252,
          "index": 130,
          "joined_year": 2020
         },
         {
          "company_id": 287,
          "index": 131,
          "joined_year": 2020
         },
         {
          "company_id": 251,
          "index": 132,
          "joined_year": 2019
         },
         {
          "company_id": 243,
          "index": 133,
          "joined_year": 2019
         },
         {
          "company_id": 44,
          "index": 134,
          "joined_year": 2021
         },
         {
          "company_id": 53,
          "index": 135,
          "joined_year": 2021
         },
         {
          "company_id": 317,
          "index": 136,
          "joined_year": 2021
         },
         {
          "company_id": 365,
          "index": 137,
          "joined_year": 2019
         },
         {
          "company_id": 91,
          "index": 138,
          "joined_year": 2019
         },
         {
          "company_id": 335,
          "index": 139,
          "joined_year": 2019
         },
         {
          "company_id": 1014,
          "index": 140,
          "joined_year": 2021
         },
         {
          "company_id": 191,
          "index": 141,
          "joined_year": 2020
         },
         {
          "company_id": 334,
          "index": 142,
          "joined_year": 2019
         },
         {
          "company_id": 115,
          "index": 143,
          "joined_year": 2019
         },
         {
          "company_id": 113,
          "index": 144,
          "joined_year": 2021
         },
         {
          "company_id": 147,
          "index": 145,
          "joined_year": 2021
         },
         {
          "company_id": 130,
          "index": 146,
          "joined_year": 2021
         },
         {
          "company_id": 327,
          "index": 147,
          "joined_year": 2021
         },
         {
          "company_id": 641,
          "index": 148,
          "joined_year": 2019
         },
         {
          "company_id": 201,
          "index": 149,
          "joined_year": 2021
         },
         {
          "company_id": 168,
          "index": 150,
          "joined_year": 2021
         },
         {
          "company_id": 101,
          "index": 151,
          "joined_year": 2020
         },
         {
          "company_id": 239,
          "index": 152,
          "joined_year": 2021
         },
         {
          "company_id": 1065,
          "index": 153,
          "joined_year": 2021
         },
         {
          "company_id": 828,
          "index": 154,
          "joined_year": 2021
         },
         {
          "company_id": 941,
          "index": 155,
          "joined_year": 2020
         },
         {
          "company_id": 484,
          "index": 156,
          "joined_year": 2021
         },
         {
          "company_id": 383,
          "index": 157,
          "joined_year": 2021
         },
         {
          "company_id": 1060,
          "index": 158,
          "joined_year": 2021
         },
         {
          "company_id": 290,
          "index": 159,
          "joined_year": 2021
         },
         {
          "company_id": 964,
          "index": 160,
          "joined_year": 2021
         },
         {
          "company_id": 837,
          "index": 161,
          "joined_year": 2021
         },
         {
          "company_id": 583,
          "index": 162,
          "joined_year": 2021
         },
         {
          "company_id": 411,
          "index": 163,
          "joined_year": 2021
         },
         {
          "company_id": 430,
          "index": 164,
          "joined_year": 2021
         },
         {
          "company_id": 805,
          "index": 165,
          "joined_year": 2021
         },
         {
          "company_id": 953,
          "index": 166,
          "joined_year": 2021
         },
         {
          "company_id": 606,
          "index": 167,
          "joined_year": 2021
         },
         {
          "company_id": 679,
          "index": 168,
          "joined_year": 2021
         },
         {
          "company_id": 880,
          "index": 169,
          "joined_year": 2021
         },
         {
          "company_id": 834,
          "index": 170,
          "joined_year": 2021
         },
         {
          "company_id": 542,
          "index": 171,
          "joined_year": 2021
         },
         {
          "company_id": 1043,
          "index": 172,
          "joined_year": 2021
         },
         {
          "company_id": 637,
          "index": 173,
          "joined_year": 2021
         },
         {
          "company_id": 611,
          "index": 174,
          "joined_year": 2021
         },
         {
          "company_id": 1064,
          "index": 175,
          "joined_year": 2021
         },
         {
          "company_id": 414,
          "index": 176,
          "joined_year": 2021
         },
         {
          "company_id": 845,
          "index": 177,
          "joined_year": 2021
         },
         {
          "company_id": 1055,
          "index": 178,
          "joined_year": 2021
         },
         {
          "company_id": 416,
          "index": 179,
          "joined_year": 2021
         },
         {
          "company_id": 967,
          "index": 180,
          "joined_year": 2021
         },
         {
          "company_id": 551,
          "index": 181,
          "joined_year": 2019
         },
         {
          "company_id": 446,
          "index": 182,
          "joined_year": 2021
         },
         {
          "company_id": 982,
          "index": 183,
          "joined_year": 2021
         },
         {
          "company_id": 850,
          "index": 184,
          "joined_year": 2021
         },
         {
          "company_id": 928,
          "index": 185,
          "joined_year": 2021
         },
         {
          "company_id": 451,
          "index": 186,
          "joined_year": 2021
         },
         {
          "company_id": 987,
          "index": 187,
          "joined_year": 2021
         },
         {
          "company_id": 356,
          "index": 188,
          "joined_year": 2019
         },
         {
          "company_id": 417,
          "index": 189,
          "joined_year": 2021
         },
         {
          "company_id": 427,
          "index": 190,
          "joined_year": 2021
         },
         {
          "company_id": 397,
          "index": 191,
          "joined_year": 2021
         },
         {
          "company_id": 857,
          "index": 192,
          "joined_year": 2021
         },
         {
          "company_id": 1005,
          "index": 193,
          "joined_year": 2021
         },
         {
          "company_id": 619,
          "index": 194,
          "joined_year": 2021
         },
         {
          "company_id": 489,
          "index": 195,
          "joined_year": 2021
         },
         {
          "company_id": 626,
          "index": 196,
          "joined_year": 2021
         },
         {
          "company_id": 649,
          "index": 197,
          "joined_year": 2021
         },
         {
          "company_id": 234,
          "index": 198,
          "joined_year": 2021
         },
         {
          "company_id": 770,
          "index": 199,
          "joined_year": 2021
         },
         {
          "company_id": 614,
          "index": 200,
          "joined_year": 2020
         },
         {
          "company_id": 899,
          "index": 201,
          "joined_year": 2021
         },
         {
          "company_id": 665,
          "index": 202,
          "joined_year": 2019
         },
         {
          "company_id": 1039,
          "index": 203,
          "joined_year": 2021
         },
         {
          "company_id": 800,
          "index": 204,
          "joined_year": 2021
         },
         {
          "company_id": 676,
          "index": 205,
          "joined_year": 2021
         },
         {
          "company_id": 1050,
          "index": 206,
          "joined_year": 2021
         },
         {
          "company_id": 481,
          "index": 207,
          "joined_year": 2021
         },
         {
          "company_id": 878,
          "index": 208,
          "joined_year": 2021
         },
         {
          "company_id": 1034,
          "index": 209,
          "joined_year": 2021
         },
         {
          "company_id": 855,
          "index": 210,
          "joined_year": 2021
         },
         {
          "company_id": 345,
          "index": 211,
          "joined_year": 2021
         },
         {
          "company_id": 691,
          "index": 212,
          "joined_year": 2021
         },
         {
          "company_id": 511,
          "index": 213,
          "joined_year": 2021
         },
         {
          "company_id": 704,
          "index": 214,
          "joined_year": 2021
         },
         {
          "company_id": 881,
          "index": 215,
          "joined_year": 2020
         },
         {
          "company_id": 861,
          "index": 216,
          "joined_year": 2021
         },
         {
          "company_id": 407,
          "index": 217,
          "joined_year": 2021
         },
         {
          "company_id": 858,
          "index": 218,
          "joined_year": 2021
         },
         {
          "company_id": 749,
          "index": 219,
          "joined_year": 2020
         },
         {
          "company_id": 841,
          "index": 220,
          "joined_year": 2019
         },
         {
          "company_id": 282,
          "index": 221,
          "joined_year": 2021
         },
         {
          "company_id": 1026,
          "index": 222,
          "joined_year": 2021
         },
         {
          "company_id": 630,
          "index": 223,
          "joined_year": 2021
         },
         {
          "company_id": 621,
          "index": 224,
          "joined_year": 2021
         },
         {
          "company_id": 223,
          "index": 225,
          "joined_year": 2021
         },
         {
          "company_id": 476,
          "index": 226,
          "joined_year": 2021
         },
         {
          "company_id": 990,
          "index": 227,
          "joined_year": 2021
         },
         {
          "company_id": 728,
          "index": 228,
          "joined_year": 2019
         },
         {
          "company_id": 415,
          "index": 229,
          "joined_year": 2021
         },
         {
          "company_id": 418,
          "index": 230,
          "joined_year": 2021
         },
         {
          "company_id": 892,
          "index": 231,
          "joined_year": 2021
         },
         {
          "company_id": 991,
          "index": 232,
          "joined_year": 2021
         },
         {
          "company_id": 454,
          "index": 233,
          "joined_year": 2021
         },
         {
          "company_id": 400,
          "index": 234,
          "joined_year": 2021
         },
         {
          "company_id": 1042,
          "index": 235,
          "joined_year": 2021
         },
         {
          "company_id": 753,
          "index": 236,
          "joined_year": 2021
         },
         {
          "company_id": 911,
          "index": 237,
          "joined_year": 2021
         },
         {
          "company_id": 819,
          "index": 238,
          "joined_year": 2021
         },
         {
          "company_id": 507,
          "index": 239,
          "joined_year": 2021
         },
         {
          "company_id": 910,
          "index": 240,
          "joined_year": 2021
         },
         {
          "company_id": 756,
          "index": 241,
          "joined_year": 2021
         },
         {
          "company_id": 405,
          "index": 242,
          "joined_year": 2021
         },
         {
          "company_id": 683,
          "index": 243,
          "joined_year": 2020
         },
         {
          "company_id": 959,
          "index": 244,
          "joined_year": 2021
         },
         {
          "company_id": 954,
          "index": 245,
          "joined_year": 2021
         },
         {
          "company_id": 203,
          "index": 246,
          "joined_year": 2020
         },
         {
          "company_id": 170,
          "index": 247,
          "joined_year": 2020
         },
         {
          "company_id": 790,
          "index": 248,
          "joined_year": 2021
         },
         {
          "company_id": 962,
          "index": 249,
          "joined_year": 2021
         },
         {
          "company_id": 865,
          "index": 250,
          "joined_year": 2021
         },
         {
          "company_id": 461,
          "index": 251,
          "joined_year": 2019
         },
         {
          "company_id": 634,
          "index": 252,
          "joined_year": 2021
         },
         {
          "company_id": 897,
          "index": 253,
          "joined_year": 2021
         },
         {
          "company_id": 924,
          "index": 254,
          "joined_year": 2021
         },
         {
          "company_id": 768,
          "index": 255,
          "joined_year": 2021
         },
         {
          "company_id": 673,
          "index": 256,
          "joined_year": 2021
         },
         {
          "company_id": 1049,
          "index": 257,
          "joined_year": 2021
         },
         {
          "company_id": 856,
          "index": 258,
          "joined_year": 2021
         },
         {
          "company_id": 462,
          "index": 259,
          "joined_year": 2021
         },
         {
          "company_id": 832,
          "index": 260,
          "joined_year": 2020
         },
         {
          "company_id": 265,
          "index": 261,
          "joined_year": 2021
         },
         {
          "company_id": 485,
          "index": 262,
          "joined_year": 2021
         },
         {
          "company_id": 490,
          "index": 263,
          "joined_year": 2020
         },
         {
          "company_id": 723,
          "index": 264,
          "joined_year": 2021
         },
         {
          "company_id": 913,
          "index": 265,
          "joined_year": 2021
         },
         {
          "company_id": 534,
          "index": 266,
          "joined_year": 2021
         },
         {
          "company_id": 494,
          "index": 267,
          "joined_year": 2021
         },
         {
          "company_id": 849,
          "index": 268,
          "joined_year": 2021
         },
         {
          "company_id": 908,
          "index": 269,
          "joined_year": 2020
         },
         {
          "company_id": 550,
          "index": 270,
          "joined_year": 2021
         },
         {
          "company_id": 778,
          "index": 271,
          "joined_year": 2021
         },
         {
          "company_id": 926,
          "index": 272,
          "joined_year": 2021
         },
         {
          "company_id": 584,
          "index": 273,
          "joined_year": 2019
         },
         {
          "company_id": 980,
          "index": 274,
          "joined_year": 2021
         },
         {
          "company_id": 468,
          "index": 275,
          "joined_year": 2020
         },
         {
          "company_id": 138,
          "index": 276,
          "joined_year": 2021
         },
         {
          "company_id": 505,
          "index": 277,
          "joined_year": 2019
         },
         {
          "company_id": 811,
          "index": 278,
          "joined_year": 2021
         },
         {
          "company_id": 395,
          "index": 279,
          "joined_year": 2021
         },
         {
          "company_id": 746,
          "index": 280,
          "joined_year": 2021
         },
         {
          "company_id": 1052,
          "index": 281,
          "joined_year": 2021
         },
         {
          "company_id": 806,
          "index": 282,
          "joined_year": 2021
         },
         {
          "company_id": 966,
          "index": 283,
          "joined_year": 2019
         },
         {
          "company_id": 545,
          "index": 284,
          "joined_year": 2020
         },
         {
          "company_id": 912,
          "index": 285,
          "joined_year": 2021
         },
         {
          "company_id": 187,
          "index": 286,
          "joined_year": 2021
         },
         {
          "company_id": 47,
          "index": 287,
          "joined_year": 2019
         },
         {
          "company_id": 868,
          "index": 288,
          "joined_year": 2021
         },
         {
          "company_id": 521,
          "index": 289,
          "joined_year": 2021
         },
         {
          "company_id": 591,
          "index": 290,
          "joined_year": 2021
         },
         {
          "company_id": 593,
          "index": 291,
          "joined_year": 2021
         },
         {
          "company_id": 84,
          "index": 292,
          "joined_year": 2020
         },
         {
          "company_id": 514,
          "index": 293,
          "joined_year": 2019
         },
         {
          "company_id": 425,
          "index": 294,
          "joined_year": 2021
         },
         {
          "company_id": 561,
          "index": 295,
          "joined_year": 2020
         },
         {
          "company_id": 303,
          "index": 296,
          "joined_year": 2021
         },
         {
          "company_id": 957,
          "index": 297,
          "joined_year": 2021
         },
         {
          "company_id": 204,
          "index": 298,
          "joined_year": 2021
         },
         {
          "company_id": 14,
          "index": 299,
          "joined_year": 2019
         },
         {
          "company_id": 6,
          "index": 300,
          "joined_year": 2019
         },
         {
          "company_id": 34,
          "index": 301,
          "joined_year": 2021
         },
         {
          "company_id": 12,
          "index": 302,
          "joined_year": 2021
         },
         {
          "company_id": 176,
          "index": 303,
          "joined_year": 2019
         },
         {
          "company_id": 86,
          "index": 304,
          "joined_year": 2019
         },
         {
          "company_id": 66,
          "index": 305,
          "joined_year": 2020
         },
         {
          "company_id": 64,
          "index": 306,
          "joined_year": 2019
         },
         {
          "company_id": 62,
          "index": 307,
          "joined_year": 2019
         },
         {
          "company_id": 60,
          "index": 308,
          "joined_year": 2020
         },
         {
          "company_id": 71,
          "index": 309,
          "joined_year": 2019
         },
         {
          "company_id": 56,
          "index": 310,
          "joined_year": 2019
         },
         {
          "company_id": 76,
          "index": 311,
          "joined_year": 2021
         },
         {
          "company_id": 67,
          "index": 312,
          "joined_year": 2019
         },
         {
          "company_id": 155,
          "index": 313,
          "joined_year": 2020
         },
         {
          "company_id": 789,
          "index": 314,
          "joined_year": 2021
         },
         {
          "company_id": 554,
          "index": 315,
          "joined_year": 2021
         },
         {
          "company_id": 522,
          "index": 316,
          "joined_year": 2021
         },
         {
          "company_id": 552,
          "index": 317,
          "joined_year": 2021
         },
         {
          "company_id": 687,
          "index": 318,
          "joined_year": 2021
         },
         {
          "company_id": 815,
          "index": 319,
          "joined_year": 2021
         },
         {
          "company_id": 895,
          "index": 320,
          "joined_year": 2021
         },
         {
          "company_id": 510,
          "index": 321,
          "joined_year": 2019
         },
         {
          "company_id": 531,
          "index": 322,
          "joined_year": 2021
         },
         {
          "company_id": 949,
          "index": 323,
          "joined_year": 2019
         },
         {
          "company_id": 785,
          "index": 324,
          "joined_year": 2021
         },
         {
          "company_id": 408,
          "index": 325,
          "joined_year": 2021
         },
         {
          "company_id": 1015,
          "index": 326,
          "joined_year": 2021
         },
         {
          "company_id": 642,
          "index": 327,
          "joined_year": 2021
         },
         {
          "company_id": 617,
          "index": 328,
          "joined_year": 2019
         },
         {
          "company_id": 779,
          "index": 329,
          "joined_year": 2021
         },
         {
          "company_id": 475,
          "index": 330,
          "joined_year": 2020
         },
         {
          "company_id": 349,
          "index": 331,
          "joined_year": 2021
         },
         {
          "company_id": 272,
          "index": 332,
          "joined_year": 2021
         },
         {
          "company_id": 708,
          "index": 333,
          "joined_year": 2021
         },
         {
          "company_id": 289,
          "index": 334,
          "joined_year": 2020
         },
         {
          "company_id": 266,
          "index": 335,
          "joined_year": 2021
         },
         {
          "company_id": 784,
          "index": 336,
          "joined_year": 2021
         },
         {
          "company_id": 471,
          "index": 337,
          "joined_year": 2021
         },
         {
          "company_id": 574,
          "index": 338,
          "joined_year": 2021
         },
         {
          "company_id": 693,
          "index": 339,
          "joined_year": 2021
         },
         {
          "company_id": 390,
          "index": 340,
          "joined_year": 2021
         },
         {
          "company_id": 413,
          "index": 341,
          "joined_year": 2021
         },
         {
          "company_id": 684,
          "index": 342,
          "joined_year": 2021
         },
         {
          "company_id": 801,
          "index": 343,
          "joined_year": 2021
         },
         {
          "company_id": 748,
          "index": 344,
          "joined_year": 2019
         },
         {
          "company_id": 206,
          "index": 345,
          "joined_year": 2021
         },
         {
          "company_id": 752,
          "index": 346,
          "joined_year": 2021
         },
         {
          "company_id": 820,
          "index": 347,
          "joined_year": 2021
         },
         {
          "company_id": 902,
          "index": 348,
          "joined_year": 2021
         },
         {
          "company_id": 1036,
          "index": 349,
          "joined_year": 2021
         },
         {
          "company_id": 304,
          "index": 350,
          "joined_year": 2021
         },
         {
          "company_id": 325,
          "index": 351,
          "joined_year": 2021
         },
         {
          "company_id": 1019,
          "index": 352,
          "joined_year": 2021
         },
         {
          "company_id": 636,
          "index": 353,
          "joined_year": 2021
         },
         {
          "company_id": 342,
          "index": 354,
          "joined_year": 2021
         },
         {
          "company_id": 343,
          "index": 355,
          "joined_year": 2021
         },
         {
          "company_id": 1011,
          "index": 356,
          "joined_year": 2021
         },
         {
          "company_id": 428,
          "index": 357,
          "joined_year": 2020
         },
         {
          "company_id": 1021,
          "index": 358,
          "joined_year": 2021
         },
         {
          "company_id": 332,
          "index": 359,
          "joined_year": 2021
         },
         {
          "company_id": 950,
          "index": 360,
          "joined_year": 2021
         },
         {
          "company_id": 54,
          "index": 361,
          "joined_year": 2020
         },
         {
          "company_id": 493,
          "index": 362,
          "joined_year": 2021
         },
         {
          "company_id": 237,
          "index": 363,
          "joined_year": 2021
         },
         {
          "company_id": 730,
          "index": 364,
          "joined_year": 2021
         },
         {
          "company_id": 960,
          "index": 365,
          "joined_year": 2021
         },
         {
          "company_id": 780,
          "index": 366,
          "joined_year": 2021
         },
         {
          "company_id": 774,
          "index": 367,
          "joined_year": 2021
         },
         {
          "company_id": 936,
          "index": 368,
          "joined_year": 2021
         },
         {
          "company_id": 351,
          "index": 369,
          "joined_year": 2021
         },
         {
          "company_id": 602,
          "index": 370,
          "joined_year": 2021
         },
         {
          "company_id": 802,
          "index": 371,
          "joined_year": 2021
         },
         {
          "company_id": 1025,
          "index": 372,
          "joined_year": 2021
         },
         {
          "company_id": 831,
          "index": 373,
          "joined_year": 2021
         },
         {
          "company_id": 429,
          "index": 374,
          "joined_year": 2021
         },
         {
          "company_id": 547,
          "index": 375,
          "joined_year": 2021
         },
         {
          "company_id": 568,
          "index": 376,
          "joined_year": 2021
         },
         {
          "company_id": 57,
          "index": 377,
          "joined_year": 2020
         },
         {
          "company_id": 517,
          "index": 378,
          "joined_year": 2021
         },
         {
          "company_id": 777,
          "index": 379,
          "joined_year": 2021
         },
         {
          "company_id": 827,
          "index": 380,
          "joined_year": 2021
         },
         {
          "company_id": 786,
          "index": 381,
          "joined_year": 2020
         },
         {
          "company_id": 917,
          "index": 382,
          "joined_year": 2021
         },
         {
          "company_id": 328,
          "index": 383,
          "joined_year": 2021
         },
         {
          "company_id": 508,
          "index": 384,
          "joined_year": 2021
         },
         {
          "company_id": 192,
          "index": 385,
          "joined_year": 2020
         },
         {
          "company_id": 994,
          "index": 386,
          "joined_year": 2021
         },
         {
          "company_id": 877,
          "index": 387,
          "joined_year": 2021
         },
         {
          "company_id": 646,
          "index": 388,
          "joined_year": 2021
         },
         {
          "company_id": 589,
          "index": 389,
          "joined_year": 2020
         },
         {
          "company_id": 278,
          "index": 390,
          "joined_year": 2019
         },
         {
          "company_id": 474,
          "index": 391,
          "joined_year": 2021
         },
         {
          "company_id": 323,
          "index": 392,
          "joined_year": 2021
         },
         {
          "company_id": 680,
          "index": 393,
          "joined_year": 2019
         },
         {
          "company_id": 927,
          "index": 394,
          "joined_year": 2021
         },
         {
          "company_id": 467,
          "index": 395,
          "joined_year": 2021
         },
         {
          "company_id": 596,
          "index": 396,
          "joined_year": 2020
         },
         {
          "company_id": 208,
          "index": 397,
          "joined_year": 2020
         },
         {
          "company_id": 1003,
          "index": 398,
          "joined_year": 2021
         },
         {
          "company_id": 412,
          "index": 399,
          "joined_year": 2021
         },
         {
          "company_id": 558,
          "index": 400,
          "joined_year": 2021
         },
         {
          "company_id": 1029,
          "index": 401,
          "joined_year": 2021
         },
         {
          "company_id": 158,
          "index": 402,
          "joined_year": 2019
         },
         {
          "company_id": 536,
          "index": 403,
          "joined_year": 2021
         },
         {
          "company_id": 598,
          "index": 404,
          "joined_year": 2020
         },
         {
          "company_id": 39,
          "index": 405,
          "joined_year": 2021
         },
         {
          "company_id": 431,
          "index": 406,
          "joined_year": 2021
         },
         {
          "company_id": 739,
          "index": 407,
          "joined_year": 2021
         },
         {
          "company_id": 499,
          "index": 408,
          "joined_year": 2021
         },
         {
          "company_id": 207,
          "index": 409,
          "joined_year": 2019
         },
         {
          "company_id": 307,
          "index": 410,
          "joined_year": 2021
         },
         {
          "company_id": 437,
          "index": 411,
          "joined_year": 2021
         },
         {
          "company_id": 787,
          "index": 412,
          "joined_year": 2021
         },
         {
          "company_id": 392,
          "index": 413,
          "joined_year": 2021
         },
         {
          "company_id": 182,
          "index": 414,
          "joined_year": 2021
         },
         {
          "company_id": 401,
          "index": 415,
          "joined_year": 2021
         },
         {
          "company_id": 555,
          "index": 416,
          "joined_year": 2021
         },
         {
          "company_id": 713,
          "index": 417,
          "joined_year": 2021
         },
         {
          "company_id": 772,
          "index": 418,
          "joined_year": 2021
         },
         {
          "company_id": 700,
          "index": 419,
          "joined_year": 2021
         },
         {
          "company_id": 442,
          "index": 420,
          "joined_year": 2021
         },
         {
          "company_id": 663,
          "index": 421,
          "joined_year": 2021
         },
         {
          "company_id": 1068,
          "index": 422,
          "joined_year": 2021
         },
         {
          "company_id": 722,
          "index": 423,
          "joined_year": 2021
         },
         {
          "company_id": 444,
          "index": 424,
          "joined_year": 2021
         },
         {
          "company_id": 888,
          "index": 425,
          "joined_year": 2021
         },
         {
          "company_id": 366,
          "index": 426,
          "joined_year": 2021
         },
         {
          "company_id": 915,
          "index": 427,
          "joined_year": 2021
         },
         {
          "company_id": 339,
          "index": 428,
          "joined_year": 2021
         },
         {
          "company_id": 656,
          "index": 429,
          "joined_year": 2019
         },
         {
          "company_id": 659,
          "index": 430,
          "joined_year": 2020
         },
         {
          "company_id": 275,
          "index": 431,
          "joined_year": 2021
         },
         {
          "company_id": 807,
          "index": 432,
          "joined_year": 2019
         },
         {
          "company_id": 524,
          "index": 433,
          "joined_year": 2020
         },
         {
          "company_id": 296,
          "index": 434,
          "joined_year": 2021
         },
         {
          "company_id": 735,
          "index": 435,
          "joined_year": 2021
         },
         {
          "company_id": 309,
          "index": 436,
          "joined_year": 2021
         },
         {
          "company_id": 23,
          "index": 437,
          "joined_year": 2020
         },
         {
          "company_id": 105,
          "index": 438,
          "joined_year": 2020
         },
         {
          "company_id": 9,
          "index": 439,
          "joined_year": 2019
         },
         {
          "company_id": 502,
          "index": 440,
          "joined_year": 2020
         },
         {
          "company_id": 28,
          "index": 441,
          "joined_year": 2019
         },
         {
          "company_id": 438,
          "index": 442,
          "joined_year": 2021
         },
         {
          "company_id": 501,
          "index": 443,
          "joined_year": 2021
         },
         {
          "company_id": 473,
          "index": 444,
          "joined_year": 2021
         },
         {
          "company_id": 465,
          "index": 445,
          "joined_year": 2021
         },
         {
          "company_id": 1044,
          "index": 446,
          "joined_year": 2021
         },
         {
          "company_id": 818,
          "index": 447,
          "joined_year": 2021
         },
         {
          "company_id": 195,
          "index": 448,
          "joined_year": 2020
         },
         {
          "company_id": 125,
          "index": 449,
          "joined_year": 2020
         },
         {
          "company_id": 288,
          "index": 450,
          "joined_year": 2021
         },
         {
          "company_id": 280,
          "index": 451,
          "joined_year": 2021
         },
         {
          "company_id": 843,
          "index": 452,
          "joined_year": 2020
         },
         {
          "company_id": 256,
          "index": 453,
          "joined_year": 2019
         },
         {
          "company_id": 582,
          "index": 454,
          "joined_year": 2021
         },
         {
          "company_id": 559,
          "index": 455,
          "joined_year": 2021
         },
         {
          "company_id": 590,
          "index": 456,
          "joined_year": 2019
         },
         {
          "company_id": 124,
          "index": 457,
          "joined_year": 2021
         },
         {
          "company_id": 233,
          "index": 458,
          "joined_year": 2020
         },
         {
          "company_id": 209,
          "index": 459,
          "joined_year": 2021
         },
         {
          "company_id": 284,
          "index": 460,
          "joined_year": 2021
         },
         {
          "company_id": 119,
          "index": 461,
          "joined_year": 2021
         },
         {
          "company_id": 291,
          "index": 462,
          "joined_year": 2020
         },
         {
          "company_id": 371,
          "index": 463,
          "joined_year": 2020
         },
         {
          "company_id": 488,
          "index": 464,
          "joined_year": 2019
         },
         {
          "company_id": 435,
          "index": 465,
          "joined_year": 2021
         },
         {
          "company_id": 346,
          "index": 466,
          "joined_year": 2020
         },
         {
          "company_id": 445,
          "index": 467,
          "joined_year": 2019
         },
         {
          "company_id": 99,
          "index": 468,
          "joined_year": 2021
         },
         {
          "company_id": 981,
          "index": 469,
          "joined_year": 2021
         },
         {
          "company_id": 159,
          "index": 470,
          "joined_year": 2020
         },
         {
          "company_id": 150,
          "index": 471,
          "joined_year": 2021
         },
         {
          "company_id": 710,
          "index": 472,
          "joined_year": 2021
         },
         {
          "company_id": 27,
          "index": 473,
          "joined_year": 2021
         },
         {
          "company_id": 145,
          "index": 474,
          "joined_year": 2021
         },
         {
          "company_id": 775,
          "index": 475,
          "joined_year": 2021
         },
         {
          "company_id": 597,
          "index": 476,
          "joined_year": 2021
         },
         {
          "company_id": 685,
          "index": 477,
          "joined_year": 2019
         },
         {
          "company_id": 112,
          "index": 478,
          "joined_year": 2020
         },
         {
          "company_id": 829,
          "index": 479,
          "joined_year": 2020
         },
         {
          "company_id": 553,
          "index": 480,
          "joined_year": 2021
         },
         {
          "company_id": 492,
          "index": 481,
          "joined_year": 2021
         },
         {
          "company_id": 183,
          "index": 482,
          "joined_year": 2021
         },
         {
          "company_id": 188,
          "index": 483,
          "joined_year": 2020
         },
         {
          "company_id": 419,
          "index": 484,
          "joined_year": 2021
         },
         {
          "company_id": 715,
          "index": 485,
          "joined_year": 2021
         },
         {
          "company_id": 638,
          "index": 486,
          "joined_year": 2021
         },
         {
          "company_id": 199,
          "index": 487,
          "joined_year": 2021
         },
         {
          "company_id": 525,
          "index": 488,
          "joined_year": 2020
         },
         {
          "company_id": 236,
          "index": 489,
          "joined_year": 2021
         },
         {
          "company_id": 90,
          "index": 490,
          "joined_year": 2020
         },
         {
          "company_id": 108,
          "index": 491,
          "joined_year": 2021
         },
         {
          "company_id": 575,
          "index": 492,
          "joined_year": 2021
         },
         {
          "company_id": 767,
          "index": 493,
          "joined_year": 2021
         },
         {
          "company_id": 532,
          "index": 494,
          "joined_year": 2021
         },
         {
          "company_id": 453,
          "index": 495,
          "joined_year": 2021
         },
         {
          "company_id": 699,
          "index": 496,
          "joined_year": 2021
         },
         {
          "company_id": 557,
          "index": 497,
          "joined_year": 2021
         },
         {
          "company_id": 808,
          "index": 498,
          "joined_year": 2021
         },
         {
          "company_id": 759,
          "index": 499,
          "joined_year": 2021
         },
         {
          "company_id": 905,
          "index": 500,
          "joined_year": 2019
         },
         {
          "company_id": 300,
          "index": 501,
          "joined_year": 2021
         },
         {
          "company_id": 151,
          "index": 502,
          "joined_year": 2021
         },
         {
          "company_id": 976,
          "index": 503,
          "joined_year": 2021
         },
         {
          "company_id": 406,
          "index": 504,
          "joined_year": 2021
         },
         {
          "company_id": 298,
          "index": 505,
          "joined_year": 2021
         },
         {
          "company_id": 179,
          "index": 506,
          "joined_year": 2021
         },
         {
          "company_id": 242,
          "index": 507,
          "joined_year": 2021
         },
         {
          "company_id": 387,
          "index": 508,
          "joined_year": 2021
         },
         {
          "company_id": 496,
          "index": 509,
          "joined_year": 2021
         },
         {
          "company_id": 336,
          "index": 510,
          "joined_year": 2021
         },
         {
          "company_id": 727,
          "index": 511,
          "joined_year": 2019
         },
         {
          "company_id": 560,
          "index": 512,
          "joined_year": 2019
         },
         {
          "company_id": 318,
          "index": 513,
          "joined_year": 2020
         },
         {
          "company_id": 581,
          "index": 514,
          "joined_year": 2021
         },
         {
          "company_id": 193,
          "index": 515,
          "joined_year": 2020
         },
         {
          "company_id": 358,
          "index": 516,
          "joined_year": 2021
         },
         {
          "company_id": 302,
          "index": 517,
          "joined_year": 2020
         },
         {
          "company_id": 311,
          "index": 518,
          "joined_year": 2019
         },
         {
          "company_id": 1013,
          "index": 519,
          "joined_year": 2021
         },
         {
          "company_id": 537,
          "index": 520,
          "joined_year": 2021
         },
         {
          "company_id": 326,
          "index": 521,
          "joined_year": 2021
         },
         {
          "company_id": 190,
          "index": 522,
          "joined_year": 2019
         },
         {
          "company_id": 955,
          "index": 523,
          "joined_year": 2021
         },
         {
          "company_id": 24,
          "index": 524,
          "joined_year": 2021
         },
         {
          "company_id": 1067,
          "index": 525,
          "joined_year": 2021
         },
         {
          "company_id": 197,
          "index": 526,
          "joined_year": 2020
         },
         {
          "company_id": 213,
          "index": 527,
          "joined_year": 2019
         },
         {
          "company_id": 721,
          "index": 528,
          "joined_year": 2021
         },
         {
          "company_id": 276,
          "index": 529,
          "joined_year": 2021
         },
         {
          "company_id": 347,
          "index": 530,
          "joined_year": 2021
         },
         {
          "company_id": 486,
          "index": 531,
          "joined_year": 2021
         },
         {
          "company_id": 142,
          "index": 532,
          "joined_year": 2021
         },
         {
          "company_id": 447,
          "index": 533,
          "joined_year": 2021
         },
         {
          "company_id": 196,
          "index": 534,
          "joined_year": 2020
         },
         {
          "company_id": 30,
          "index": 535,
          "joined_year": 2019
         },
         {
          "company_id": 166,
          "index": 536,
          "joined_year": 2019
         },
         {
          "company_id": 29,
          "index": 537,
          "joined_year": 2019
         },
         {
          "company_id": 257,
          "index": 538,
          "joined_year": 2021
         },
         {
          "company_id": 576,
          "index": 539,
          "joined_year": 2019
         },
         {
          "company_id": 230,
          "index": 540,
          "joined_year": 2021
         },
         {
          "company_id": 948,
          "index": 541,
          "joined_year": 2021
         },
         {
          "company_id": 180,
          "index": 542,
          "joined_year": 2021
         },
         {
          "company_id": 573,
          "index": 543,
          "joined_year": 2019
         },
         {
          "company_id": 530,
          "index": 544,
          "joined_year": 2021
         },
         {
          "company_id": 283,
          "index": 545,
          "joined_year": 2021
         },
         {
          "company_id": 495,
          "index": 546,
          "joined_year": 2021
         },
         {
          "company_id": 696,
          "index": 547,
          "joined_year": 2021
         },
         {
          "company_id": 986,
          "index": 548,
          "joined_year": 2021
         },
         {
          "company_id": 1056,
          "index": 549,
          "joined_year": 2021
         },
         {
          "company_id": 469,
          "index": 550,
          "joined_year": 2020
         },
         {
          "company_id": 992,
          "index": 551,
          "joined_year": 2021
         },
         {
          "company_id": 762,
          "index": 552,
          "joined_year": 2021
         },
         {
          "company_id": 706,
          "index": 553,
          "joined_year": 2021
         },
         {
          "company_id": 221,
          "index": 554,
          "joined_year": 2021
         },
         {
          "company_id": 564,
          "index": 555,
          "joined_year": 2021
         },
         {
          "company_id": 329,
          "index": 556,
          "joined_year": 2021
         },
         {
          "company_id": 116,
          "index": 557,
          "joined_year": 2021
         },
         {
          "company_id": 859,
          "index": 558,
          "joined_year": 2020
         },
         {
          "company_id": 504,
          "index": 559,
          "joined_year": 2019
         },
         {
          "company_id": 337,
          "index": 560,
          "joined_year": 2020
         },
         {
          "company_id": 578,
          "index": 561,
          "joined_year": 2021
         },
         {
          "company_id": 260,
          "index": 562,
          "joined_year": 2021
         },
         {
          "company_id": 259,
          "index": 563,
          "joined_year": 2020
         },
         {
          "company_id": 338,
          "index": 564,
          "joined_year": 2021
         },
         {
          "company_id": 225,
          "index": 565,
          "joined_year": 2020
         },
         {
          "company_id": 541,
          "index": 566,
          "joined_year": 2021
         },
         {
          "company_id": 883,
          "index": 567,
          "joined_year": 2019
         },
         {
          "company_id": 450,
          "index": 568,
          "joined_year": 2021
         },
         {
          "company_id": 181,
          "index": 569,
          "joined_year": 2021
         },
         {
          "company_id": 286,
          "index": 570,
          "joined_year": 2021
         },
         {
          "company_id": 432,
          "index": 571,
          "joined_year": 2021
         },
         {
          "company_id": 570,
          "index": 572,
          "joined_year": 2019
         },
         {
          "company_id": 1020,
          "index": 573,
          "joined_year": 2021
         },
         {
          "company_id": 216,
          "index": 574,
          "joined_year": 2021
         },
         {
          "company_id": 77,
          "index": 575,
          "joined_year": 2020
         },
         {
          "company_id": 244,
          "index": 576,
          "joined_year": 2021
         },
         {
          "company_id": 569,
          "index": 577,
          "joined_year": 2021
         },
         {
          "company_id": 313,
          "index": 578,
          "joined_year": 2021
         },
         {
          "company_id": 654,
          "index": 579,
          "joined_year": 2019
         },
         {
          "company_id": 177,
          "index": 580,
          "joined_year": 2021
         },
         {
          "company_id": 487,
          "index": 581,
          "joined_year": 2020
         },
         {
          "company_id": 42,
          "index": 582,
          "joined_year": 2021
         },
         {
          "company_id": 141,
          "index": 583,
          "joined_year": 2019
         },
         {
          "company_id": 137,
          "index": 584,
          "joined_year": 2019
         },
         {
          "company_id": 51,
          "index": 585,
          "joined_year": 2021
         },
         {
          "company_id": 586,
          "index": 586,
          "joined_year": 2021
         },
         {
          "company_id": 144,
          "index": 587,
          "joined_year": 2021
         },
         {
          "company_id": 572,
          "index": 588,
          "joined_year": 2021
         },
         {
          "company_id": 585,
          "index": 589,
          "joined_year": 2021
         },
         {
          "company_id": 887,
          "index": 590,
          "joined_year": 2021
         },
         {
          "company_id": 470,
          "index": 591,
          "joined_year": 2021
         },
         {
          "company_id": 261,
          "index": 592,
          "joined_year": 2021
         },
         {
          "company_id": 295,
          "index": 593,
          "joined_year": 2021
         },
         {
          "company_id": 95,
          "index": 594,
          "joined_year": 2020
         },
         {
          "company_id": 594,
          "index": 595,
          "joined_year": 2021
         },
         {
          "company_id": 306,
          "index": 596,
          "joined_year": 2021
         },
         {
          "company_id": 526,
          "index": 597,
          "joined_year": 2021
         },
         {
          "company_id": 376,
          "index": 598,
          "joined_year": 2019
         },
         {
          "company_id": 889,
          "index": 599,
          "joined_year": 2021
         },
         {
          "company_id": 148,
          "index": 600,
          "joined_year": 2019
         },
         {
          "company_id": 157,
          "index": 601,
          "joined_year": 2021
         },
         {
          "company_id": 16,
          "index": 602,
          "joined_year": 2021
         },
         {
          "company_id": 38,
          "index": 603,
          "joined_year": 2020
         },
         {
          "company_id": 312,
          "index": 604,
          "joined_year": 2021
         },
         {
          "company_id": 940,
          "index": 605,
          "joined_year": 2021
         },
         {
          "company_id": 127,
          "index": 606,
          "joined_year": 2021
         },
         {
          "company_id": 94,
          "index": 607,
          "joined_year": 2019
         },
         {
          "company_id": 205,
          "index": 608,
          "joined_year": 2021
         },
         {
          "company_id": 75,
          "index": 609,
          "joined_year": 2021
         },
         {
          "company_id": 744,
          "index": 610,
          "joined_year": 2019
         },
         {
          "company_id": 341,
          "index": 611,
          "joined_year": 2019
         },
         {
          "company_id": 571,
          "index": 612,
          "joined_year": 2020
         },
         {
          "company_id": 1073,
          "index": 613,
          "joined_year": 2020
         },
         {
          "company_id": 460,
          "index": 614,
          "joined_year": 2021
         },
         {
          "company_id": 316,
          "index": 615,
          "joined_year": 2021
         },
         {
          "company_id": 320,
          "index": 616,
          "joined_year": 2021
         },
         {
          "company_id": 107,
          "index": 617,
          "joined_year": 2021
         },
         {
          "company_id": 605,
          "index": 618,
          "joined_year": 2019
         },
         {
          "company_id": 1006,
          "index": 619,
          "joined_year": 2020
         },
         {
          "company_id": 666,
          "index": 620,
          "joined_year": 2021
         },
         {
          "company_id": 736,
          "index": 621,
          "joined_year": 2020
         },
         {
          "company_id": 156,
          "index": 622,
          "joined_year": 2021
         },
         {
          "company_id": 372,
          "index": 623,
          "joined_year": 2019
         },
         {
          "company_id": 544,
          "index": 624,
          "joined_year": 2020
         },
         {
          "company_id": 378,
          "index": 625,
          "joined_year": 2021
         },
         {
          "company_id": 184,
          "index": 626,
          "joined_year": 2021
         },
         {
          "company_id": 135,
          "index": 627,
          "joined_year": 2021
         },
         {
          "company_id": 102,
          "index": 628,
          "joined_year": 2021
         },
         {
          "company_id": 143,
          "index": 629,
          "joined_year": 2019
         },
         {
          "company_id": 977,
          "index": 630,
          "joined_year": 2020
         },
         {
          "company_id": 167,
          "index": 631,
          "joined_year": 2021
         },
         {
          "company_id": 821,
          "index": 632,
          "joined_year": 2019
         },
         {
          "company_id": 198,
          "index": 633,
          "joined_year": 2021
         },
         {
          "company_id": 655,
          "index": 634,
          "joined_year": 2019
         },
         {
          "company_id": 661,
          "index": 635,
          "joined_year": 2020
         },
         {
          "company_id": 80,
          "index": 636,
          "joined_year": 2021
         },
         {
          "company_id": 100,
          "index": 637,
          "joined_year": 2021
         },
         {
          "company_id": 483,
          "index": 638,
          "joined_year": 2021
         },
         {
          "company_id": 669,
          "index": 639,
          "joined_year": 2021
         },
         {
          "company_id": 315,
          "index": 640,
          "joined_year": 2021
         },
         {
          "company_id": 515,
          "index": 641,
          "joined_year": 2021
         },
         {
          "company_id": 68,
          "index": 642,
          "joined_year": 2020
         },
         {
          "company_id": 263,
          "index": 643,
          "joined_year": 2021
         },
         {
          "company_id": 140,
          "index": 644,
          "joined_year": 2019
         },
         {
          "company_id": 613,
          "index": 645,
          "joined_year": 2021
         },
         {
          "company_id": 277,
          "index": 646,
          "joined_year": 2021
         },
         {
          "company_id": 254,
          "index": 647,
          "joined_year": 2019
         },
         {
          "company_id": 367,
          "index": 648,
          "joined_year": 2020
         },
         {
          "company_id": 399,
          "index": 649,
          "joined_year": 2019
         },
         {
          "company_id": 61,
          "index": 650,
          "joined_year": 2021
         },
         {
          "company_id": 22,
          "index": 651,
          "joined_year": 2020
         },
         {
          "company_id": 322,
          "index": 652,
          "joined_year": 2019
         },
         {
          "company_id": 279,
          "index": 653,
          "joined_year": 2021
         },
         {
          "company_id": 111,
          "index": 654,
          "joined_year": 2020
         },
         {
          "company_id": 126,
          "index": 655,
          "joined_year": 2021
         },
         {
          "company_id": 269,
          "index": 656,
          "joined_year": 2021
         },
         {
          "company_id": 160,
          "index": 657,
          "joined_year": 2021
         },
         {
          "company_id": 731,
          "index": 658,
          "joined_year": 2021
         },
         {
          "company_id": 202,
          "index": 659,
          "joined_year": 2021
         },
         {
          "company_id": 74,
          "index": 660,
          "joined_year": 2020
         },
         {
          "company_id": 154,
          "index": 661,
          "joined_year": 2019
         },
         {
          "company_id": 161,
          "index": 662,
          "joined_year": 2019
         },
         {
          "company_id": 384,
          "index": 663,
          "joined_year": 2021
         },
         {
          "company_id": 20,
          "index": 664,
          "joined_year": 2019
         },
         {
          "company_id": 241,
          "index": 665,
          "joined_year": 2021
         },
         {
          "company_id": 174,
          "index": 666,
          "joined_year": 2019
         },
         {
          "company_id": 294,
          "index": 667,
          "joined_year": 2020
         },
         {
          "company_id": 601,
          "index": 668,
          "joined_year": 2021
         },
         {
          "company_id": 795,
          "index": 669,
          "joined_year": 2019
         },
         {
          "company_id": 319,
          "index": 670,
          "joined_year": 2020
         },
         {
          "company_id": 274,
          "index": 671,
          "joined_year": 2020
         },
         {
          "company_id": 538,
          "index": 672,
          "joined_year": 2021
         },
         {
          "company_id": 1072,
          "index": 673,
          "joined_year": 2021
         },
         {
          "company_id": 200,
          "index": 674,
          "joined_year": 2021
         },
         {
          "company_id": 932,
          "index": 675,
          "joined_year": 2021
         },
         {
          "company_id": 874,
          "index": 676,
          "joined_year": 2021
         },
         {
          "company_id": 37,
          "index": 677,
          "joined_year": 2021
         },
         {
          "company_id": 106,
          "index": 678,
          "joined_year": 2019
         },
         {
          "company_id": 1071,
          "index": 679,
          "joined_year": 2021
         },
         {
          "company_id": 305,
          "index": 680,
          "joined_year": 2021
         },
         {
          "company_id": 110,
          "index": 681,
          "joined_year": 2019
         },
         {
          "company_id": 281,
          "index": 682,
          "joined_year": 2021
         },
         {
          "company_id": 152,
          "index": 683,
          "joined_year": 2020
         },
         {
          "company_id": 122,
          "index": 684,
          "joined_year": 2021
         },
         {
          "company_id": 232,
          "index": 685,
          "joined_year": 2020
         },
         {
          "company_id": 88,
          "index": 686,
          "joined_year": 2020
         },
         {
          "company_id": 218,
          "index": 687,
          "joined_year": 2021
         },
         {
          "company_id": 178,
          "index": 688,
          "joined_year": 2021
         },
         {
          "company_id": 128,
          "index": 689,
          "joined_year": 2020
         },
         {
          "company_id": 853,
          "index": 690,
          "joined_year": 2021
         },
         {
          "company_id": 227,
          "index": 691,
          "joined_year": 2020
         },
         {
          "company_id": 293,
          "index": 692,
          "joined_year": 2019
         },
         {
          "company_id": 231,
          "index": 693,
          "joined_year": 2019
         },
         {
          "company_id": 114,
          "index": 694,
          "joined_year": 2020
         },
         {
          "company_id": 463,
          "index": 695,
          "joined_year": 2021
         },
         {
          "company_id": 162,
          "index": 696,
          "joined_year": 2020
         },
         {
          "company_id": 433,
          "index": 697,
          "joined_year": 2021
         },
         {
          "company_id": 836,
          "index": 698,
          "joined_year": 2021
         },
         {
          "company_id": 668,
          "index": 699,
          "joined_year": 2021
         },
         {
          "company_id": 123,
          "index": 700,
          "joined_year": 2020
         },
         {
          "company_id": 353,
          "index": 701,
          "joined_year": 2019
         },
         {
          "company_id": 973,
          "index": 702,
          "joined_year": 2021
         },
         {
          "company_id": 97,
          "index": 703,
          "joined_year": 2021
         },
         {
          "company_id": 87,
          "index": 704,
          "joined_year": 2021
         },
         {
          "company_id": 153,
          "index": 705,
          "joined_year": 2019
         },
         {
          "company_id": 109,
          "index": 706,
          "joined_year": 2020
         },
         {
          "company_id": 946,
          "index": 707,
          "joined_year": 2021
         },
         {
          "company_id": 937,
          "index": 708,
          "joined_year": 2019
         },
         {
          "company_id": 360,
          "index": 709,
          "joined_year": 2019
         },
         {
          "company_id": 658,
          "index": 710,
          "joined_year": 2019
         },
         {
          "company_id": 186,
          "index": 711,
          "joined_year": 2020
         },
         {
          "company_id": 604,
          "index": 712,
          "joined_year": 2020
         },
         {
          "company_id": 600,
          "index": 713,
          "joined_year": 2020
         },
         {
          "company_id": 518,
          "index": 714,
          "joined_year": 2021
         },
         {
          "company_id": 331,
          "index": 715,
          "joined_year": 2019
         },
         {
          "company_id": 382,
          "index": 716,
          "joined_year": 2021
         },
         {
          "company_id": 271,
          "index": 717,
          "joined_year": 2021
         },
         {
          "company_id": 664,
          "index": 718,
          "joined_year": 2021
         },
         {
          "company_id": 146,
          "index": 719,
          "joined_year": 2021
         },
         {
          "company_id": 292,
          "index": 720,
          "joined_year": 2019
         },
         {
          "company_id": 792,
          "index": 721,
          "joined_year": 2020
         },
         {
          "company_id": 639,
          "index": 722,
          "joined_year": 2019
         },
         {
          "company_id": 567,
          "index": 723,
          "joined_year": 2020
         },
         {
          "company_id": 945,
          "index": 724,
          "joined_year": 2021
         },
         {
          "company_id": 424,
          "index": 725,
          "joined_year": 2021
         },
         {
          "company_id": 733,
          "index": 726,
          "joined_year": 2021
         },
         {
          "company_id": 1002,
          "index": 727,
          "joined_year": 2019
         },
         {
          "company_id": 215,
          "index": 728,
          "joined_year": 2021
         },
         {
          "company_id": 866,
          "index": 729,
          "joined_year": 2021
         },
         {
          "company_id": 651,
          "index": 730,
          "joined_year": 2021
         },
         {
          "company_id": 890,
          "index": 731,
          "joined_year": 2021
         }
        ],
        "schema": {
         "fields": [
          {
           "name": "index",
           "type": "integer"
          },
          {
           "name": "company_id",
           "type": "integer"
          },
          {
           "name": "joined_year",
           "type": "integer"
          }
         ],
         "pandas_version": "1.4.0",
         "primaryKey": [
          "index"
         ]
        }
       },
       "total_rows": 732,
       "truncation_type": null
      },
      "text/html": [
       "<div>\n",
       "<style scoped>\n",
       "    .dataframe tbody tr th:only-of-type {\n",
       "        vertical-align: middle;\n",
       "    }\n",
       "\n",
       "    .dataframe tbody tr th {\n",
       "        vertical-align: top;\n",
       "    }\n",
       "\n",
       "    .dataframe thead th {\n",
       "        text-align: right;\n",
       "    }\n",
       "</style>\n",
       "<table border=\"1\" class=\"dataframe\">\n",
       "  <thead>\n",
       "    <tr style=\"text-align: right;\">\n",
       "      <th></th>\n",
       "      <th>company_id</th>\n",
       "      <th>joined_year</th>\n",
       "    </tr>\n",
       "  </thead>\n",
       "  <tbody>\n",
       "    <tr>\n",
       "      <th>0</th>\n",
       "      <td>848</td>\n",
       "      <td>2021</td>\n",
       "    </tr>\n",
       "    <tr>\n",
       "      <th>1</th>\n",
       "      <td>999</td>\n",
       "      <td>2021</td>\n",
       "    </tr>\n",
       "    <tr>\n",
       "      <th>2</th>\n",
       "      <td>396</td>\n",
       "      <td>2021</td>\n",
       "    </tr>\n",
       "    <tr>\n",
       "      <th>3</th>\n",
       "      <td>931</td>\n",
       "      <td>2021</td>\n",
       "    </tr>\n",
       "    <tr>\n",
       "      <th>4</th>\n",
       "      <td>364</td>\n",
       "      <td>2019</td>\n",
       "    </tr>\n",
       "    <tr>\n",
       "      <th>...</th>\n",
       "      <td>...</td>\n",
       "      <td>...</td>\n",
       "    </tr>\n",
       "    <tr>\n",
       "      <th>727</th>\n",
       "      <td>1002</td>\n",
       "      <td>2019</td>\n",
       "    </tr>\n",
       "    <tr>\n",
       "      <th>728</th>\n",
       "      <td>215</td>\n",
       "      <td>2021</td>\n",
       "    </tr>\n",
       "    <tr>\n",
       "      <th>729</th>\n",
       "      <td>866</td>\n",
       "      <td>2021</td>\n",
       "    </tr>\n",
       "    <tr>\n",
       "      <th>730</th>\n",
       "      <td>651</td>\n",
       "      <td>2021</td>\n",
       "    </tr>\n",
       "    <tr>\n",
       "      <th>731</th>\n",
       "      <td>890</td>\n",
       "      <td>2021</td>\n",
       "    </tr>\n",
       "  </tbody>\n",
       "</table>\n",
       "<p>732 rows × 2 columns</p>\n",
       "</div>"
      ],
      "text/plain": [
       "     company_id  joined_year\n",
       "0           848         2021\n",
       "1           999         2021\n",
       "2           396         2021\n",
       "3           931         2021\n",
       "4           364         2019\n",
       "..          ...          ...\n",
       "727        1002         2019\n",
       "728         215         2021\n",
       "729         866         2021\n",
       "730         651         2021\n",
       "731         890         2021\n",
       "\n",
       "[732 rows x 2 columns]"
      ]
     },
     "execution_count": 42,
     "metadata": {},
     "output_type": "execute_result"
    }
   ],
   "source": [
    "select company_id, date_part('year', date_joined) joined_year\n",
    "from dates\n",
    "where date_part('year', date_joined) in (2019,2020,2021)"
   ]
  },
  {
   "cell_type": "code",
   "execution_count": 43,
   "id": "686fc1b8-7bd5-490d-bdf5-edea645ef521",
   "metadata": {
    "customType": "sql",
    "dataFrameVariableName": "df",
    "executionTime": 1004,
    "initial": false,
    "integrationId": "89e17161-a224-4a8a-846b-0adc0fe7a4b1",
    "lastSuccessfullyExecutedCode": "with t1 as\n(select d.company_id id, i.industry industry, date_part('year', date_joined) joined_year, count(*) company_count\nfrom dates d\njoin industries i\non d.company_id = i.company_id\nwhere date_part('year', date_joined) in (2019,2020,2021)\ngroup by 1,2,3),\n\nt2 as (select industry, count(company_count) as num_unicorns\nfrom t1\ngroup by 1\norder by 2 DESC\nlimit 3)\n\nselect distinct t1.joined_year, t2.industry, sum(t1.company_count) as c_count, round(AVG(f.valuation)/1000000000,2) as average_valuation_billions \nfrom t2\njoin t1\non t1.industry = t2.industry\njoin funding f\non f.company_id = t1.id\ngroup by 1,2\norder by 2,1 DESC\n"
   },
   "outputs": [
    {
     "data": {
      "application/com.datacamp.data-table.v1+json": {
       "table": {
        "data": [
         {
          "average_valuation_billions": 2.47,
          "c_count": 47,
          "index": 0,
          "industry": "E-commerce & direct-to-consumer",
          "joined_year": 2021
         },
         {
          "average_valuation_billions": 4,
          "c_count": 16,
          "index": 1,
          "industry": "E-commerce & direct-to-consumer",
          "joined_year": 2020
         },
         {
          "average_valuation_billions": 2.58,
          "c_count": 12,
          "index": 2,
          "industry": "E-commerce & direct-to-consumer",
          "joined_year": 2019
         },
         {
          "average_valuation_billions": 2.75,
          "c_count": 138,
          "index": 3,
          "industry": "Fintech",
          "joined_year": 2021
         },
         {
          "average_valuation_billions": 4.33,
          "c_count": 15,
          "index": 4,
          "industry": "Fintech",
          "joined_year": 2020
         },
         {
          "average_valuation_billions": 6.8,
          "c_count": 20,
          "index": 5,
          "industry": "Fintech",
          "joined_year": 2019
         },
         {
          "average_valuation_billions": 2.15,
          "c_count": 119,
          "index": 6,
          "industry": "Internet software & services",
          "joined_year": 2021
         },
         {
          "average_valuation_billions": 4.35,
          "c_count": 20,
          "index": 7,
          "industry": "Internet software & services",
          "joined_year": 2020
         },
         {
          "average_valuation_billions": 4.23,
          "c_count": 13,
          "index": 8,
          "industry": "Internet software & services",
          "joined_year": 2019
         }
        ],
        "schema": {
         "fields": [
          {
           "name": "index",
           "type": "integer"
          },
          {
           "name": "joined_year",
           "type": "integer"
          },
          {
           "name": "industry",
           "type": "string"
          },
          {
           "name": "c_count",
           "type": "integer"
          },
          {
           "name": "average_valuation_billions",
           "type": "number"
          }
         ],
         "pandas_version": "1.4.0",
         "primaryKey": [
          "index"
         ]
        }
       },
       "total_rows": 9,
       "truncation_type": null
      },
      "text/html": [
       "<div>\n",
       "<style scoped>\n",
       "    .dataframe tbody tr th:only-of-type {\n",
       "        vertical-align: middle;\n",
       "    }\n",
       "\n",
       "    .dataframe tbody tr th {\n",
       "        vertical-align: top;\n",
       "    }\n",
       "\n",
       "    .dataframe thead th {\n",
       "        text-align: right;\n",
       "    }\n",
       "</style>\n",
       "<table border=\"1\" class=\"dataframe\">\n",
       "  <thead>\n",
       "    <tr style=\"text-align: right;\">\n",
       "      <th></th>\n",
       "      <th>joined_year</th>\n",
       "      <th>industry</th>\n",
       "      <th>c_count</th>\n",
       "      <th>average_valuation_billions</th>\n",
       "    </tr>\n",
       "  </thead>\n",
       "  <tbody>\n",
       "    <tr>\n",
       "      <th>0</th>\n",
       "      <td>2021</td>\n",
       "      <td>E-commerce &amp; direct-to-consumer</td>\n",
       "      <td>47</td>\n",
       "      <td>2.47</td>\n",
       "    </tr>\n",
       "    <tr>\n",
       "      <th>1</th>\n",
       "      <td>2020</td>\n",
       "      <td>E-commerce &amp; direct-to-consumer</td>\n",
       "      <td>16</td>\n",
       "      <td>4.00</td>\n",
       "    </tr>\n",
       "    <tr>\n",
       "      <th>2</th>\n",
       "      <td>2019</td>\n",
       "      <td>E-commerce &amp; direct-to-consumer</td>\n",
       "      <td>12</td>\n",
       "      <td>2.58</td>\n",
       "    </tr>\n",
       "    <tr>\n",
       "      <th>3</th>\n",
       "      <td>2021</td>\n",
       "      <td>Fintech</td>\n",
       "      <td>138</td>\n",
       "      <td>2.75</td>\n",
       "    </tr>\n",
       "    <tr>\n",
       "      <th>4</th>\n",
       "      <td>2020</td>\n",
       "      <td>Fintech</td>\n",
       "      <td>15</td>\n",
       "      <td>4.33</td>\n",
       "    </tr>\n",
       "    <tr>\n",
       "      <th>5</th>\n",
       "      <td>2019</td>\n",
       "      <td>Fintech</td>\n",
       "      <td>20</td>\n",
       "      <td>6.80</td>\n",
       "    </tr>\n",
       "    <tr>\n",
       "      <th>6</th>\n",
       "      <td>2021</td>\n",
       "      <td>Internet software &amp; services</td>\n",
       "      <td>119</td>\n",
       "      <td>2.15</td>\n",
       "    </tr>\n",
       "    <tr>\n",
       "      <th>7</th>\n",
       "      <td>2020</td>\n",
       "      <td>Internet software &amp; services</td>\n",
       "      <td>20</td>\n",
       "      <td>4.35</td>\n",
       "    </tr>\n",
       "    <tr>\n",
       "      <th>8</th>\n",
       "      <td>2019</td>\n",
       "      <td>Internet software &amp; services</td>\n",
       "      <td>13</td>\n",
       "      <td>4.23</td>\n",
       "    </tr>\n",
       "  </tbody>\n",
       "</table>\n",
       "</div>"
      ],
      "text/plain": [
       "   joined_year                         industry  c_count  \\\n",
       "0         2021  E-commerce & direct-to-consumer       47   \n",
       "1         2020  E-commerce & direct-to-consumer       16   \n",
       "2         2019  E-commerce & direct-to-consumer       12   \n",
       "3         2021                          Fintech      138   \n",
       "4         2020                          Fintech       15   \n",
       "5         2019                          Fintech       20   \n",
       "6         2021     Internet software & services      119   \n",
       "7         2020     Internet software & services       20   \n",
       "8         2019     Internet software & services       13   \n",
       "\n",
       "   average_valuation_billions  \n",
       "0                        2.47  \n",
       "1                        4.00  \n",
       "2                        2.58  \n",
       "3                        2.75  \n",
       "4                        4.33  \n",
       "5                        6.80  \n",
       "6                        2.15  \n",
       "7                        4.35  \n",
       "8                        4.23  "
      ]
     },
     "execution_count": 43,
     "metadata": {},
     "output_type": "execute_result"
    }
   ],
   "source": [
    "with t1 as\n",
    "(select d.company_id id, i.industry industry, date_part('year', date_joined) joined_year, count(*) company_count\n",
    "from dates d\n",
    "join industries i\n",
    "on d.company_id = i.company_id\n",
    "where date_part('year', date_joined) in (2019,2020,2021)\n",
    "group by 1,2,3),\n",
    "\n",
    "t2 as (select industry, count(company_count) as num_unicorns\n",
    "from t1\n",
    "group by 1\n",
    "order by 2 DESC\n",
    "limit 3)\n",
    "\n",
    "select distinct t1.joined_year, t2.industry, sum(t1.company_count) as c_count, round(AVG(f.valuation)/1000000000,2) as average_valuation_billions \n",
    "from t2\n",
    "join t1\n",
    "on t1.industry = t2.industry\n",
    "join funding f\n",
    "on f.company_id = t1.id\n",
    "group by 1,2\n",
    "order by 2,1 DESC\n"
   ]
  }
 ],
 "metadata": {
  "colab": {
   "name": "Welcome to DataCamp Workspaces.ipynb",
   "provenance": []
  },
  "editor": "DataCamp Workspace",
  "kernelspec": {
   "display_name": "Python 3",
   "language": "python",
   "name": "python3"
  },
  "language_info": {
   "codemirror_mode": {
    "name": "ipython",
    "version": 3
   },
   "file_extension": ".py",
   "mimetype": "text/x-python",
   "name": "python",
   "nbconvert_exporter": "python",
   "pygments_lexer": "ipython3",
   "version": "3.8.8"
  }
 },
 "nbformat": 4,
 "nbformat_minor": 5
}
